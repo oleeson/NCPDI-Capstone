{
 "cells": [
  {
   "cell_type": "markdown",
   "metadata": {},
   "source": [
    "# Identifying Need for Change: North Carolina School Performance\n",
    "\n",
    "Out of the 2,617 public schools (including Charter) operating in North Carolina during the 2016-2017 school year, 902 schools (34.5%) have, for at least one year since 2013-2014, been classified as a low performing school. \n",
    "\n",
    "NCPDI classifies low performing schools as:\n",
    "\n",
    "“Low-performing schools are those that receive a **school performance grade** of **D** or **F** and a **school growth score** of **\"met expected growth\"** or **\"not met expected growth\"** as defined by G.S. 115C-83.15.” (G.S. 115C-105.37(a)), and\n",
    "\n",
    "“A Low-performing local school administrative unit is a unit in which the majority of the schools in that unit that received a school performance grade and school growth score as provided in G.S. 115C-83.15 have been identified as low-performing schools, as provided in G.S. 115C-105.37.” (G.S. 115C-105.39A(a)).\n",
    "\n",
    "Source: http://www.ncpublicschools.org/schooltransformation/low-performing/\n",
    "\n",
    "**Thus, we treat low performing schools as a proxy for aggregate student educational achievement.**\n",
    "\n",
    "\n",
    "## Motivation: \n",
    "Of the 902 schools low performing between 2013/14 and 2016/17, 209 have been low performing for all schools years (8%), 203 have been low performing for 3 of the schools years (7.8%), 227 have been low performing for 2 schools years (8.7%), and 263 have been low performing once (10%). Another way to look at these numbers is to consider that out of the four school years between 2013/14 and 2016/2017, 24.4% of schools have been recurringly low performing. \n",
    "\n",
    "What does this mean in terms of students? \n",
    "Out of around the 1.5 million total number of students studying in a public school in the 2016/17 school year, around 460,000 of those students (30%) have had at least a year studying a low performing school. Around 100,000 students (6.8%) in North Carolina study at a school that has been low performing for 4 years. \n",
    "\n",
    "\n",
    "## Solution:\n",
    "This notebook reviews NCPDI North Carolina School Report Card and Statistical Profile data to identify the factors that contribute to low school performance. \n",
    "\n",
    "We: \n",
    "\n",
    "1. Take a look at the heuristically most common reasons for low school performance: percentage of economically disadvantaged students, student demographics, and school funding to see if these indicators are statistically different in low performing schools. \n",
    "\n",
    "2. Identify which EOG and EOC assessments suffer the most for low performing schools. ie. Do all schools perform poorly on 3rd grade EOG reading assessments or are the assessment performances more random?\n",
    "\n",
    "3. Remove the factors outside of the school adminsitration's control from the dataset to determine which school-level factors are most important in determining low performance by:\n",
    "    1. Performing Feature Importance using XGBoost. XGBoost is a tree-based gradient-boosting method which minimizes a cost function relative to predicting a target variable. When a node in a decision tree is split, we can calculate the following reduction in impurity, and attribute this reduction to feature involved. When the tree is finished splitting nodes, those features with the largest proportional contribution toward decreasing impurity within nodes can be said to be the most “important.”\n",
    "    2. Targeting schools that deviate between low performance and non-low performance. For each year, we isolate which schools either became low performing or non-low performing from the previous year. We rank the percent change in each feature, and deem those with the highest change of percentage year to year as potentially influential. \n",
    "    3. Finally, reviewing the covariance ranking of our selected features to determine which features likely interact in a parametric model. \n",
    "    \n",
    "4. Test the predictive nature of our selected features by creating a classification model to predict whether or not a school is low performing for each of our 4 years. Whether these features are important will be reflected in the accuracy and precision of the classification model. \n",
    "\n",
    "5. Use a new methodology for decision-making. We create a function that will synthesize data based on percent changes in a certain input feature to then be used in our classification model to predict low performance. This will allow us to review, all things being equal, how a change in one or more features may correlate to a change in school performance. \n",
    "\n",
    "\n",
    "*Please note: Dataset Creation and Processing can be found: https://github.com/oleeson/NCPDI-Capstone*\n"
   ]
  },
  {
   "cell_type": "markdown",
   "metadata": {},
   "source": [
    "# Narrowing of Focus and EDA\n",
    "\n",
    "The end goal of our project is to identify school factors within administration's control that can be changed to improve the outcome of school performance. With initial exploratory data analysis we decide the following:\n",
    "\n",
    "1. Remove Charter Schools from the dataset (operated privately)\n",
    "2. To focus on Elementary and Middle Schools, as these schools are much more likely to be low performing. Improving student outcomes at the Elementary and Middle School level will also set up students for success in High School. \n",
    "3. Remove All Test Scores from the dataset, as these are perfect determinants of school performance \n"
   ]
  },
  {
   "cell_type": "markdown",
   "metadata": {},
   "source": [
    "## EDA for Motivation"
   ]
  },
  {
   "cell_type": "code",
   "execution_count": 1,
   "metadata": {
    "collapsed": false
   },
   "outputs": [],
   "source": [
    "#import required Libraries\n",
    "import pandas as pd\n",
    "import numpy as np\n",
    "import matplotlib.pyplot as plt\n",
    "import os\n",
    "%matplotlib inline\n",
    "\n",
    "import seaborn as sns\n",
    "sns.set(color_codes=True)\n",
    "\n",
    "import warnings\n",
    "warnings.filterwarnings(\"ignore\")\n",
    "\n",
    "cwd = os.getcwd()"
   ]
  },
  {
   "cell_type": "code",
   "execution_count": 2,
   "metadata": {
    "collapsed": false
   },
   "outputs": [],
   "source": [
    "#Change Dir to Import Dataset for EDA \n",
    "os.chdir(\"..\")\n",
    "cwd = os.getcwd()\n",
    "cwd = cwd + \"/DatasetCreation\""
   ]
  },
  {
   "cell_type": "code",
   "execution_count": 3,
   "metadata": {
    "collapsed": true
   },
   "outputs": [],
   "source": [
    "#Read in Dataset\n",
    "#This dataset is all schools (including charter) in 2017\n",
    "df_EDA = pd.read_csv(cwd+\"/PublicSchools17_EDA.csv\")"
   ]
  },
  {
   "cell_type": "markdown",
   "metadata": {},
   "source": [
    "#### Total Impact"
   ]
  },
  {
   "cell_type": "code",
   "execution_count": 4,
   "metadata": {
    "collapsed": false
   },
   "outputs": [
    {
     "data": {
      "image/png": "[encoded data removed]",
      "text/plain": [
       "<Figure size 432x288 with 1 Axes>"
      ]
     },
     "metadata": {},
     "output_type": "display_data"
    }
   ],
   "source": [
    "rlpsGroup = df_EDA.groupby(by='RLPS')\n",
    "rlpsCount = rlpsGroup['RLPS'].count()\n",
    "numbar17 = rlpsCount.plot(kind='barh')"
   ]
  },
  {
   "cell_type": "code",
   "execution_count": 5,
   "metadata": {
    "collapsed": false
   },
   "outputs": [
    {
     "name": "stdout",
     "output_type": "stream",
     "text": [
      "Number of Schools Low Performing...\n",
      "1 Year :  263 ( 0.1 )\n",
      "2 Years:  227 ( 0.087 )\n",
      "3 Years:  203 ( 0.078 )\n",
      "4 Years:  209 ( 0.08 )\n",
      "0 Years:  1715 ( 0.655 )\n",
      "****************************\n",
      "Number of Schools at One Time Low Performing:  902 ( 0.345 )\n"
     ]
    }
   ],
   "source": [
    "schoolCount = len(df_EDA)\n",
    "\n",
    "print(\"Number of Schools Low Performing...\")\n",
    "print('1 Year : ', rlpsCount[1], \"(\", round((rlpsCount[1]/schoolCount),3), \")\")\n",
    "print('2 Years: ', rlpsCount[2], \"(\", round((rlpsCount[2]/schoolCount),3), \")\")\n",
    "print('3 Years: ', rlpsCount[3], \"(\", round((rlpsCount[3]/schoolCount),3), \")\")\n",
    "print('4 Years: ', rlpsCount[4], \"(\", round((rlpsCount[4]/schoolCount),3), \")\")\n",
    "print('0 Years: ', rlpsCount[0], \"(\", round((rlpsCount[0]/schoolCount),3), \")\")\n",
    "\n",
    "print('****************************')\n",
    "atLeastOnce = (rlpsCount[1] + rlpsCount[2] + rlpsCount[3] + rlpsCount[4])\n",
    "print('Number of Schools at One Time Low Performing: ', atLeastOnce, \"(\", round(atLeastOnce/schoolCount,3), \")\")"
   ]
  },
  {
   "cell_type": "code",
   "execution_count": 6,
   "metadata": {
    "collapsed": false
   },
   "outputs": [
    {
     "data": {
      "image/png": "[encoded data removed]",
      "text/plain": [
       "<Figure size 432x288 with 1 Axes>"
      ]
     },
     "metadata": {},
     "output_type": "display_data"
    }
   ],
   "source": [
    "rlpsStud = rlpsGroup['student_num'].sum()\n",
    "studbar17 = rlpsStud.plot(kind='barh')"
   ]
  },
  {
   "cell_type": "code",
   "execution_count": 7,
   "metadata": {
    "collapsed": false
   },
   "outputs": [
    {
     "name": "stdout",
     "output_type": "stream",
     "text": [
      "Total Students:  1517530.0\n",
      "Number of Students in Schools Low Performing...\n",
      "1 Year :  132901.0 ( 0.088 )\n",
      "2 Years:  124091.0 ( 0.082 )\n",
      "3 Years:  101966.0 ( 0.067 )\n",
      "4 Years:  103128.0 ( 0.068 )\n",
      "0 Years:  1055444.0 ( 0.696 )\n",
      "****************************\n",
      "Number of Schools at One Time Low Performing:  462086.0 ( 0.304 )\n"
     ]
    }
   ],
   "source": [
    "studentCount = df_EDA['student_num'].sum()\n",
    "print('Total Students: ', studentCount)\n",
    "\n",
    "print('Number of Students in Schools Low Performing...')\n",
    "print('1 Year : ', rlpsStud[1], \"(\", round((rlpsStud[1]/studentCount),3), \")\")\n",
    "print('2 Years: ', rlpsStud[2], \"(\", round((rlpsStud[2]/studentCount),3), \")\")\n",
    "print('3 Years: ', rlpsStud[3], \"(\", round((rlpsStud[3]/studentCount),3), \")\")\n",
    "print('4 Years: ', rlpsStud[4], \"(\", round((rlpsStud[4]/studentCount),3), \")\")\n",
    "print('0 Years: ', rlpsStud[0], \"(\", round((rlpsStud[0]/studentCount),3), \")\")\n",
    "\n",
    "print('****************************')\n",
    "atLeastOnceStud = (rlpsStud[1] + rlpsStud[2] + rlpsStud[3] + rlpsStud[4])\n",
    "print('Number of Schools at One Time Low Performing: ', atLeastOnceStud, \"(\", round(atLeastOnceStud/studentCount,3), \")\")"
   ]
  },
  {
   "cell_type": "markdown",
   "metadata": {},
   "source": [
    "#### Schools by Category\n",
    "- E School has elementary schools grades (PK-5)\n",
    "- M School has middle schools grades (6-8)\n",
    "- H School has high schools grades (9-13)\n",
    "- I School has elementary and middle school grades\n",
    "- T School has middle and high school grades\n",
    "- A School has elementary, middle, and high school grades"
   ]
  },
  {
   "cell_type": "code",
   "execution_count": 8,
   "metadata": {
    "collapsed": false
   },
   "outputs": [],
   "source": [
    "category = pd.crosstab([ df_EDA['category_cd'] ], \n",
    "                       df_EDA['RLPS'])"
   ]
  },
  {
   "cell_type": "code",
   "execution_count": 9,
   "metadata": {
    "collapsed": false
   },
   "outputs": [
    {
     "data": {
      "text/plain": [
       "<matplotlib.axes._subplots.AxesSubplot at 0x114b4b0b8>"
      ]
     },
     "execution_count": 9,
     "metadata": {},
     "output_type": "execute_result"
    },
    {
     "data": {
      "image/png": "[encoded data removed]",
      "text/plain": [
       "<Figure size 432x288 with 1 Axes>"
      ]
     },
     "metadata": {},
     "output_type": "display_data"
    }
   ],
   "source": [
    "category_rate = category.div(category.sum(1).astype(float),\n",
    "                             axis=0) # normalize the value\n",
    "\n",
    "category_rate.plot(kind='barh', \n",
    "                   stacked=True)"
   ]
  },
  {
   "cell_type": "code",
   "execution_count": 10,
   "metadata": {
    "collapsed": false
   },
   "outputs": [
    {
     "name": "stdout",
     "output_type": "stream",
     "text": [
      "RLPS           0    1    2    3    4\n",
      "category_cd                         \n",
      "A             72    5    5    4    0\n",
      "E            814  155  134  102  117\n",
      "H            442   21   22   15   10\n",
      "I             89   15   16   13   16\n",
      "M            240   62   47   66   63\n",
      "T             55    5    3    3    3\n"
     ]
    }
   ],
   "source": [
    "print (category)"
   ]
  },
  {
   "cell_type": "markdown",
   "metadata": {},
   "source": [
    "We see that Middle and Elementary Schools tend to have a higher proportion of total schools low performing.    "
   ]
  },
  {
   "cell_type": "code",
   "execution_count": 11,
   "metadata": {
    "collapsed": false
   },
   "outputs": [
    {
     "name": "stdout",
     "output_type": "stream",
     "text": [
      "Percentage of Middle Only Schools at one time Low Performing:  0.498\n",
      "Percentage of Elementary Only Schools at one time Low Performing:  0.384\n",
      "Percentage of High School Only Schools at one time Low Performing:  0.133\n"
     ]
    }
   ],
   "source": [
    "mSum = len(df_EDA[df_EDA['category_cd'] == 'M'])\n",
    "eSum = len(df_EDA[df_EDA['category_cd'] == 'E'])\n",
    "hSum = len(df_EDA[df_EDA['category_cd'] == 'H'])\n",
    "\n",
    "mLow = (62+47+66+63)\n",
    "eLow = (155+134+102+117)\n",
    "hLow = (21+22+15+10)\n",
    "\n",
    "print(\"Percentage of Middle Only Schools at one time Low Performing: \", round(mLow/mSum, 3))\n",
    "print(\"Percentage of Elementary Only Schools at one time Low Performing: \", round(eLow/eSum, 3))\n",
    "print(\"Percentage of High School Only Schools at one time Low Performing: \", round(hLow/hSum, 3))"
   ]
  },
  {
   "cell_type": "markdown",
   "metadata": {},
   "source": [
    "#### Look at Charter Schools before Removed"
   ]
  },
  {
   "cell_type": "code",
   "execution_count": 12,
   "metadata": {
    "collapsed": false
   },
   "outputs": [
    {
     "data": {
      "text/plain": [
       "<matplotlib.axes._subplots.AxesSubplot at 0x11527bd68>"
      ]
     },
     "execution_count": 12,
     "metadata": {},
     "output_type": "execute_result"
    },
    {
     "data": {
      "image/png": "[encoded data removed]",
      "text/plain": [
       "<Figure size 432x288 with 1 Axes>"
      ]
     },
     "metadata": {},
     "output_type": "display_data"
    }
   ],
   "source": [
    "typeSchool = pd.crosstab([ df_EDA['type_cd'] ], \n",
    "                       df_EDA['RLPS'])\n",
    "type_rate = typeSchool.div(typeSchool.sum(1).astype(float),\n",
    "                             axis=0) # normalize the value\n",
    "\n",
    "type_rate.plot(kind='barh', \n",
    "                   stacked=True)"
   ]
  },
  {
   "cell_type": "code",
   "execution_count": 13,
   "metadata": {
    "collapsed": false
   },
   "outputs": [
    {
     "name": "stdout",
     "output_type": "stream",
     "text": [
      "RLPS        0    1    2    3    4\n",
      "type_cd                          \n",
      "C         108   25   15   13    7\n",
      "P        1607  238  212  190  202\n"
     ]
    }
   ],
   "source": [
    "print(typeSchool)"
   ]
  },
  {
   "cell_type": "markdown",
   "metadata": {},
   "source": [
    "There are 168 total charter schools. From the above bar chart it appears that the pattern of performance is similar to regular public schools. "
   ]
  },
  {
   "cell_type": "markdown",
   "metadata": {},
   "source": [
    "## Percent Economically Disadvantaged\n",
    "Have this just need to move it over"
   ]
  },
  {
   "cell_type": "markdown",
   "metadata": {},
   "source": [
    "## Racial Demographics\n",
    "Have this just need to move it over"
   ]
  },
  {
   "cell_type": "markdown",
   "metadata": {},
   "source": [
    "## Funding\n",
    "Have this just need to move it over"
   ]
  },
  {
   "cell_type": "markdown",
   "metadata": {},
   "source": [
    "## Remove Charters and only Include Middle/Elementary Schools in Datasets\n",
    "The datasets read in with suffix LPS_Processed already do not include charter schools."
   ]
  },
  {
   "cell_type": "code",
   "execution_count": 14,
   "metadata": {
    "collapsed": true
   },
   "outputs": [],
   "source": [
    "## Middle Schools\n",
    "df_mid_14 = pd.read_csv(cwd+'/2014/PublicMiddleSchools2014_LPS_Processed.csv')\n",
    "df_mid_14 = pd.read_csv(cwd+'/2014/PublicMiddleSchools2014_LPS_Processed.csv')\n",
    "df_mid_15 = pd.read_csv(cwd+'/2015/PublicMiddleSchools2015_LPS_Processed.csv')\n",
    "df_mid_16 = pd.read_csv(cwd+'/2016/PublicMiddleSchools2016_LPS_Processed.csv')\n",
    "df_mid_17 = pd.read_csv(cwd+'/2017/PublicMiddleSchools2017_LPS_Processed.csv')\n",
    "\n",
    "## Elementary Schools\n",
    "df_elem_14 = pd.read_csv(cwd+'/2014/PublicElementarySchools2014_LPS_Processed.csv')\n",
    "df_elem_15 = pd.read_csv(cwd+'/2015/PublicElementarySchools2015_LPS_Processed.csv')\n",
    "df_elem_16 = pd.read_csv(cwd+'/2016/PublicElementarySchools2016_LPS_Processed.csv')\n",
    "df_elem_17 = pd.read_csv(cwd+'/2017/PublicElementarySchools2017_LPS_Processed.csv')"
   ]
  },
  {
   "cell_type": "code",
   "execution_count": 15,
   "metadata": {
    "collapsed": false
   },
   "outputs": [],
   "source": [
    "## Column Names\n",
    "import pickle\n",
    "cwd = cwd + '/'\n",
    "\n",
    "fileObject = open(cwd +'2017/TableColumns/ec_pupils_pct_Cols_17.pkl', 'rb')\n",
    "ec_pupils_pct_Cols_17 = pickle.load(fileObject)\n",
    "\n",
    "fileObject = open(cwd +'2017/TableColumns/edRatesCols_17.pkl', 'rb')\n",
    "edRatesCols_17 = pickle.load(fileObject)\n",
    "\n",
    "fileObject = open(cwd+'2017/TableColumns/effectivenessCols_17.pkl', 'rb')\n",
    "effectivenessCols_17 = pickle.load(fileObject)\n",
    "\n",
    "fileObject = open(cwd+'2017/TableColumns/environmentCols_17.pkl', 'rb')\n",
    "environmentCols_17 = pickle.load(fileObject)\n",
    "\n",
    "fileObject = open(cwd+'2017/TableColumns/fundingCols_17.pkl', 'rb')\n",
    "fundingCols_17 = pickle.load(fileObject)\n",
    "\n",
    "fileObject = open(cwd+'2017/TableColumns/personnelCols_17.pkl', 'rb')\n",
    "personnelCols_17 = pickle.load(fileObject)\n",
    "\n",
    "fileObject = open(cwd+'2017/TableColumns/profileCols_17.pkl', 'rb')\n",
    "profileCols_17 = pickle.load(fileObject)\n",
    "\n",
    "fileObject = open(cwd+'2017/TableColumns/profileMetricCols_17.pkl', 'rb')\n",
    "profileMetricCols_17 = pickle.load(fileObject)\n",
    "\n",
    "fileObject = open(cwd+'2017/TableColumns/pTargets_17.pkl', 'rb')\n",
    "pTargets_17 = pickle.load(fileObject)\n",
    "\n",
    "fileObject = open(cwd+'2017/TableColumns/readinessCols_17.pkl', 'rb')\n",
    "readinessCols_17 = pickle.load(fileObject)\n",
    "\n",
    "fileObject = open(cwd+'2017/TableColumns/sceCols_17.pkl', 'rb')\n",
    "sceCols_17 = pickle.load(fileObject)\n",
    "\n",
    "fileObject = open(cwd+'2017/TableColumns/sceCols_17.pkl', 'rb')\n",
    "sceCols_17 = pickle.load(fileObject)\n",
    "\n",
    "fileObject = open(cwd+'2017/TableColumns/spgCols_17.pkl', 'rb')\n",
    "spgCols_17 = pickle.load(fileObject)\n",
    "\n",
    "fileObject = open(cwd+'2017/TableColumns/yoeCols_17.pkl', 'rb')\n",
    "yoeCols_17 = pickle.load(fileObject)"
   ]
  },
  {
   "cell_type": "code",
   "execution_count": 16,
   "metadata": {
    "collapsed": false
   },
   "outputs": [],
   "source": [
    "# Changing to LPS so it works with the xgboost functions\n",
    "df_elem_17 = df_elem_17.rename(columns = {'LPS_17' : 'LPS'})\n",
    "df_mid_17 = df_mid_17.rename(columns = {'LPS_17' : 'LPS'})\n",
    "\n",
    "# Full list of columns, including Personnel, Environment, and Teacher Experience Variables\n",
    "combined_cols = (environmentCols_17 + list(set(personnelCols_17) - set(environmentCols_17)))\n",
    "yoeCols_17 = ['0-3 Years_Exp_Pct_Tch',\n",
    "            '10+ Years_Exp_Pct_Tch',\n",
    "            '4-10 Years_Exp_Pct_Tch',\n",
    "            '0-3 Years_LEA_Exp_Pct_Prin',\n",
    "            '10+ Years_LEA_Exp_Pct_Prin',\n",
    "            '4-10 Years_LEA_Exp_Pct_Prin']\n",
    "for col in yoeCols_17:\n",
    "    combined_cols.append(col)\n",
    "combined_cols.append('LPS')"
   ]
  },
  {
   "cell_type": "code",
   "execution_count": 17,
   "metadata": {
    "collapsed": true
   },
   "outputs": [],
   "source": [
    "# Subsets each dataframe based on the columns it shares with the \n",
    "# three sets of variables found in \"combined_cols\" (environment, personnel, and yoe)\n",
    "df_elem_14 = df_elem_14[df_elem_14.columns.intersection(combined_cols)]\n",
    "df_mid_14 = df_mid_14[df_mid_14.columns.intersection(combined_cols)]\n",
    "df_elem_15 = df_elem_15[df_elem_15.columns.intersection(combined_cols)]\n",
    "df_mid_15 = df_mid_15[df_mid_15.columns.intersection(combined_cols)]\n",
    "df_elem_16 = df_elem_16[df_elem_16.columns.intersection(combined_cols)]\n",
    "df_mid_16 = df_mid_16[df_mid_16.columns.intersection(combined_cols)]\n",
    "df_elem_17 = df_elem_17[df_elem_17.columns.intersection(combined_cols)]\n",
    "df_mid_17 = df_mid_17[df_mid_17.columns.intersection(combined_cols)]\n",
    "\n",
    "# Storing dfs in list for later iteration\n",
    "all_datasets = [df_elem_14, df_mid_14,\n",
    "                df_elem_15, df_mid_15,\n",
    "                df_elem_16, df_mid_16,\n",
    "                df_elem_17, df_mid_17]"
   ]
  },
  {
   "cell_type": "markdown",
   "metadata": {},
   "source": [
    "# Feature Importance Using XGBoost\n",
    "\n",
    "Data Tables: \n",
    "- ec_pupils_pct : Racial Demographics\n",
    "- edRates : Economically Disadvantaged\n",
    "- effectiveness: Educator Effectiveness\n",
    "- environment: Environment\n",
    "- funding: Funding\n",
    "- personnel: Personnel\n",
    "- pTargets : Participation Targets\n",
    "- Readiness : Readiness\n",
    "- sce : Specialized Course Enrollment\n",
    "- schoolInds : School Indicators\n",
    "- spg : School Performance\n",
    "- yoe : Years of Experience\n",
    "\n",
    "http://www.ncpublicschools.org/docs/src/researchers/data-dictionary.pdf"
   ]
  },
  {
   "cell_type": "code",
   "execution_count": 18,
   "metadata": {
    "collapsed": true
   },
   "outputs": [],
   "source": [
    "from sklearn import preprocessing\n",
    "from xgboost import XGBClassifier\n",
    "from xgboost import plot_importance\n",
    "os.environ[\"KMP_DUPLICATE_LIB_OK\"]=\"TRUE\""
   ]
  },
  {
   "cell_type": "code",
   "execution_count": 19,
   "metadata": {
    "collapsed": true
   },
   "outputs": [],
   "source": [
    "def xg_booster_seat(df, varset='all'):\n",
    "    '''Performs xgboost on given set of variables, \n",
    "        returns feature importances'''\n",
    "    \n",
    "    # Subsetting variables if necessary\n",
    "    if varset == 'all':\n",
    "        df = df\n",
    "    else:\n",
    "        df = df[df.columns.intersection(varset)]\n",
    "    \n",
    "    # Predicting LPS\n",
    "    y = df['LPS']\n",
    "    x = df.drop('LPS', axis=1)\n",
    "        \n",
    "    # Fitting the model\n",
    "    model = XGBClassifier(nthread=4)\n",
    "    model.fit(x, y)\n",
    "   \n",
    "    # Storing feature importances in dataframe\n",
    "    feat_importances = pd.DataFrame(model.feature_importances_, index=x.columns)\n",
    "    \n",
    "    return feat_importances\n",
    "\n",
    "col_names = [\"df_elem_14_featimp\", \"df_mid_14_featimp\", \n",
    "            \"df_elem_15_featimp\", \"df_mid_15_featimp\", \n",
    "            \"df_elem_16_featimp\", \"df_mid_16_featimp\", \n",
    "            \"df_elem_17_featimp\", \"df_mid_17_featimp\"]\n",
    "\n",
    "def get_importances(col_names=col_names, varset='all'):\n",
    "    \n",
    "    importances = pd.DataFrame()\n",
    "    for df in all_datasets:\n",
    "        temp = xg_booster_seat(df, varset=varset)\n",
    "        importances = pd.concat([importances, temp], axis=1)\n",
    "    \n",
    "    importances.columns = col_names\n",
    "    importances['mean'] = importances.mean(axis=1)\n",
    "    importances['std'] = importances.std(axis=1)\n",
    "    \n",
    "    return importances"
   ]
  },
  {
   "cell_type": "code",
   "execution_count": 20,
   "metadata": {
    "collapsed": false
   },
   "outputs": [
    {
     "data": {
      "text/plain": [
       "<matplotlib.axes._subplots.AxesSubplot at 0x1155326a0>"
      ]
     },
     "execution_count": 20,
     "metadata": {},
     "output_type": "execute_result"
    },
    {
     "data": {
      "image/png": "[encoded data removed]",
      "text/plain": [
       "<Figure size 1440x720 with 1 Axes>"
      ]
     },
     "metadata": {},
     "output_type": "display_data"
    }
   ],
   "source": [
    "%matplotlib inline\n",
    "all_importances = get_importances()\n",
    "all_importances_plots = all_importances.sort_values('mean', ascending=False).T.drop(['mean','std'], axis=0)\n",
    "all_importances_plots.boxplot(figsize=(20,10), rot=90)"
   ]
  },
  {
   "cell_type": "markdown",
   "metadata": {},
   "source": [
    "### Environment Variables Only\n"
   ]
  },
  {
   "cell_type": "code",
   "execution_count": 21,
   "metadata": {
    "collapsed": false
   },
   "outputs": [
    {
     "data": {
      "text/plain": [
       "<matplotlib.axes._subplots.AxesSubplot at 0x1150f8b00>"
      ]
     },
     "execution_count": 21,
     "metadata": {},
     "output_type": "execute_result"
    },
    {
     "data": {
      "image/png": "[encoded data removed]",
      "text/plain": [
       "<Figure size 1440x720 with 1 Axes>"
      ]
     },
     "metadata": {},
     "output_type": "display_data"
    }
   ],
   "source": [
    "environmentCols_17.append(\"LPS\")\n",
    "environmentCols_17.remove(\"unit_code\")\n",
    "environment_importances = get_importances(varset=environmentCols_17)\n",
    "environment_importances_plots = environment_importances.sort_values('mean', ascending=False).T.drop(['mean','std'], axis=0)\n",
    "environment_importances_plots.boxplot(figsize=(20,10), rot=90)"
   ]
  },
  {
   "cell_type": "code",
   "execution_count": null,
   "metadata": {
    "collapsed": true
   },
   "outputs": [],
   "source": []
  }
 ],
 "metadata": {
  "kernelspec": {
   "display_name": "Python 3",
   "language": "python",
   "name": "python3"
  },
  "language_info": {
   "codemirror_mode": {
    "name": "ipython",
    "version": 3
   },
   "file_extension": ".py",
   "mimetype": "text/x-python",
   "name": "python",
   "nbconvert_exporter": "python",
   "pygments_lexer": "ipython3",
   "version": "3.6.5"
  }
 },
 "nbformat": 4,
 "nbformat_minor": 2
}
