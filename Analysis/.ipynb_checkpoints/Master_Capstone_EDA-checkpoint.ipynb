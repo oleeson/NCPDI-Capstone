{
 "cells": [
  {
   "cell_type": "markdown",
   "metadata": {},
   "source": [
    "# Identifying Need for Change: North Carolina School Performance\n",
    "\n",
    "Out of the 2,617 public schools (including Charter) operating in North Carolina during the 2016-2017 school year, 902 schools (34.5%) have, for at least one year since 2013-2014, been classified as a low performing school. \n",
    "\n",
    "NCPDI classifies low performing schools as:\n",
    "\n",
    "“Low-performing schools are those that receive a **school performance grade** of **D** or **F** and a **school growth score** of **\"met expected growth\"** or **\"not met expected growth\"** as defined by G.S. 115C-83.15.” (G.S. 115C-105.37(a)), and\n",
    "\n",
    "“A Low-performing local school administrative unit is a unit in which the majority of the schools in that unit that received a school performance grade and school growth score as provided in G.S. 115C-83.15 have been identified as low-performing schools, as provided in G.S. 115C-105.37.” (G.S. 115C-105.39A(a)).\n",
    "\n",
    "Source: http://www.ncpublicschools.org/schooltransformation/low-performing/\n",
    "\n",
    "**Thus, we treat low performing schools as a proxy for aggregate student educational achievement.**\n",
    "\n",
    "\n",
    "## Problem Statement: \n",
    "In recent years, 30% of public schools in North Carolina have been low performing. Students in low performing schools are not meeting the educational achievement standards set by the state. Factors outside administrators' control: economically disadvantaged and majority-minority student populations, are the most influential indicators of low performance.  \n",
    "\n",
    "\n",
    "## Motivation: \n",
    "Of the 902 schools low performing between 2013/14 and 2016/17, 209 have been low performing for all schools years (8%), 203 have been low performing for 3 of the schools years (7.8%), 227 have been low performing for 2 schools years (8.7%), and 263 have been low performing once (10%). Another way to look at these numbers is to consider that out of the four school years between 2013/14 and 2016/2017, 24.4% of schools have been recurringly low performing. \n",
    "\n",
    "What does this mean in terms of students? \n",
    "Out of around the 1.5 million total number of students studying in a public school in the 2016/17 school year, around 460,000 of those students (30%) have had at least a year studying a low performing school. Around 100,000 students (6.8%) in North Carolina study at a school that has been low performing for 4 years. \n",
    "\n",
    "\n",
    "## Solution:\n",
    "We identify the factors within school administrator's control that can positively impact a school's EVAAS growth score. Growth scores are a metric to measure how well a school's performance increases over a year. We focus on growth instead of raw performance scores, as raw scores will be much slower to change over time. \n",
    "\n",
    "This project reviews NCPDI North Carolina School Report Card and Statistical Profile data to identify the factors that contribute to low school performance and EVAAS growth scores. We will then create a model to predict EVAAS growth scores including only school-level factors irrespective of student demographics. After determining the most predictive factors for determining EVAAS growth scores, we simulate changes in these factors to demonstrate a theoretical improvement in student achievement growth. \n",
    "\n",
    "We:\n",
    "\n",
    "1. **Take a look at the heuristically most common reasons for low school performance: percentage of economically disadvantaged students, student demographics, and school funding to see if these indicators are statistically different in low performing schools. **\n",
    "\n",
    "2. Remove the factors outside of the school adminsitration's control from the dataset to determine which school-level factors are most important in determining low performance by:\n",
    "    1. Performing Feature Importance using XGBoost. XGBoost is a tree-based gradient-boosting method which minimizes a cost function relative to predicting a target variable. When a node in a decision tree is split, we can calculate the following reduction in impurity, and attribute this reduction to feature involved. When the tree is finished splitting nodes, those features with the largest proportional contribution toward decreasing impurity within nodes can be said to be the most “important.”\n",
    "    \n",
    "4. Test the predictive nature of our selected features by creating a classification model to predict the EVAAS growth score for each of our 4 years. Whether these features are important will be reflected in the accuracy and precision of the regression model. \n",
    "\n",
    "5. Use a new methodology for decision-making. We create a function that will synthesize data based on percent changes in a certain input feature to then be used in our regression model to predict low performance. This will allow us to review, all things being equal, how a change in one or more features may correlate to a change in school EVAAS growth score.\n",
    "\n",
    "\n",
    "*Please note: Dataset Creation and Processing can be found: https://github.com/oleeson/NCPDI-Capstone*"
   ]
  },
  {
   "cell_type": "markdown",
   "metadata": {},
   "source": [
    "# Narrowing of Focus and EDA\n",
    "\n",
    "The end goal of our project is to identify school factors within administration's control that can be changed to improve the outcome of school performance. With initial exploratory data analysis we decide the following:\n",
    "\n",
    "1. Remove Charter Schools from the dataset (operated privately)\n",
    "2. To focus on Elementary and Middle Schools, as these schools are much more likely to be low performing. Improving student outcomes at the Elementary and Middle School level will also set up students for success in High School. \n",
    "3. Remove All Test Scores from the dataset, as these are perfect determinants of school performance \n"
   ]
  },
  {
   "cell_type": "markdown",
   "metadata": {},
   "source": [
    "## EDA for Motivation"
   ]
  },
  {
   "cell_type": "code",
   "execution_count": 1,
   "metadata": {
    "collapsed": false
   },
   "outputs": [],
   "source": [
    "#import required Libraries\n",
    "import pandas as pd\n",
    "import numpy as np\n",
    "import matplotlib.pyplot as plt\n",
    "import os\n",
    "%matplotlib inline\n",
    "\n",
    "import seaborn as sns\n",
    "sns.set(color_codes=True)\n",
    "\n",
    "import warnings\n",
    "warnings.filterwarnings(\"ignore\")\n",
    "\n",
    "cwd = os.getcwd()"
   ]
  },
  {
   "cell_type": "code",
   "execution_count": 2,
   "metadata": {
    "collapsed": false
   },
   "outputs": [],
   "source": [
    "#Change Dir to Import Dataset for EDA \n",
    "os.chdir(\"..\")\n",
    "cwd = os.getcwd()\n",
    "cwd = cwd + \"/DatasetCreation\""
   ]
  },
  {
   "cell_type": "code",
   "execution_count": 3,
   "metadata": {
    "collapsed": false
   },
   "outputs": [],
   "source": [
    "#Read in Dataset\n",
    "#This dataset is all schools (including charter) in 2017\n",
    "df_EDA = pd.read_csv(cwd+\"/PublicSchools17_EDA.csv\")"
   ]
  },
  {
   "cell_type": "markdown",
   "metadata": {},
   "source": [
    "#### Total Impact"
   ]
  },
  {
   "cell_type": "code",
   "execution_count": 4,
   "metadata": {
    "collapsed": false
   },
   "outputs": [
    {
     "data": {
      "image/png": "[encoded data removed]",
      "text/plain": [
       "<Figure size 432x288 with 1 Axes>"
      ]
     },
     "metadata": {},
     "output_type": "display_data"
    }
   ],
   "source": [
    "rlpsGroup = df_EDA.groupby(by='RLPS')\n",
    "rlpsCount = rlpsGroup['RLPS'].count()\n",
    "numbar17 = rlpsCount.plot(kind='barh')"
   ]
  },
  {
   "cell_type": "code",
   "execution_count": 5,
   "metadata": {
    "collapsed": false
   },
   "outputs": [
    {
     "name": "stdout",
     "output_type": "stream",
     "text": [
      "Number of Schools Low Performing...\n",
      "1 Year :  263 ( 0.1 )\n",
      "2 Years:  227 ( 0.087 )\n",
      "3 Years:  203 ( 0.077 )\n",
      "4 Years:  209 ( 0.08 )\n",
      "0 Years:  1718 ( 0.656 )\n",
      "****************************\n",
      "Number of Schools at One Time Low Performing:  902 ( 0.344 )\n"
     ]
    }
   ],
   "source": [
    "schoolCount = len(df_EDA)\n",
    "\n",
    "print(\"Number of Schools Low Performing...\")\n",
    "print('1 Year : ', rlpsCount[1], \"(\", round((rlpsCount[1]/schoolCount),3), \")\")\n",
    "print('2 Years: ', rlpsCount[2], \"(\", round((rlpsCount[2]/schoolCount),3), \")\")\n",
    "print('3 Years: ', rlpsCount[3], \"(\", round((rlpsCount[3]/schoolCount),3), \")\")\n",
    "print('4 Years: ', rlpsCount[4], \"(\", round((rlpsCount[4]/schoolCount),3), \")\")\n",
    "print('0 Years: ', rlpsCount[0], \"(\", round((rlpsCount[0]/schoolCount),3), \")\")\n",
    "\n",
    "print('****************************')\n",
    "atLeastOnce = (rlpsCount[1] + rlpsCount[2] + rlpsCount[3] + rlpsCount[4])\n",
    "print('Number of Schools at One Time Low Performing: ', atLeastOnce, \"(\", round(atLeastOnce/schoolCount,3), \")\")"
   ]
  },
  {
   "cell_type": "code",
   "execution_count": 6,
   "metadata": {
    "collapsed": false
   },
   "outputs": [
    {
     "data": {
      "image/png": "[encoded data removed]",
      "text/plain": [
       "<Figure size 432x288 with 1 Axes>"
      ]
     },
     "metadata": {},
     "output_type": "display_data"
    }
   ],
   "source": [
    "rlpsStud = rlpsGroup['student_num'].sum()\n",
    "studbar17 = rlpsStud.plot(kind='barh')"
   ]
  },
  {
   "cell_type": "code",
   "execution_count": 7,
   "metadata": {
    "collapsed": false
   },
   "outputs": [
    {
     "name": "stdout",
     "output_type": "stream",
     "text": [
      "Total Students:  1520029.0\n",
      "Number of Students in Schools Low Performing...\n",
      "1 Year :  132901.0 ( 0.087 )\n",
      "2 Years:  124091.0 ( 0.082 )\n",
      "3 Years:  101966.0 ( 0.067 )\n",
      "4 Years:  103128.0 ( 0.068 )\n",
      "0 Years:  1057943.0 ( 0.696 )\n",
      "****************************\n",
      "Number of Schools at One Time Low Performing:  462086.0 ( 0.304 )\n"
     ]
    }
   ],
   "source": [
    "studentCount = df_EDA['student_num'].sum()\n",
    "print('Total Students: ', studentCount)\n",
    "\n",
    "print('Number of Students in Schools Low Performing...')\n",
    "print('1 Year : ', rlpsStud[1], \"(\", round((rlpsStud[1]/studentCount),3), \")\")\n",
    "print('2 Years: ', rlpsStud[2], \"(\", round((rlpsStud[2]/studentCount),3), \")\")\n",
    "print('3 Years: ', rlpsStud[3], \"(\", round((rlpsStud[3]/studentCount),3), \")\")\n",
    "print('4 Years: ', rlpsStud[4], \"(\", round((rlpsStud[4]/studentCount),3), \")\")\n",
    "print('0 Years: ', rlpsStud[0], \"(\", round((rlpsStud[0]/studentCount),3), \")\")\n",
    "\n",
    "print('****************************')\n",
    "atLeastOnceStud = (rlpsStud[1] + rlpsStud[2] + rlpsStud[3] + rlpsStud[4])\n",
    "print('Number of Schools at One Time Low Performing: ', atLeastOnceStud, \"(\", round(atLeastOnceStud/studentCount,3), \")\")"
   ]
  },
  {
   "cell_type": "markdown",
   "metadata": {},
   "source": [
    "#### Schools by Category\n",
    "- E School has elementary schools grades (PK-5)\n",
    "- M School has middle schools grades (6-8)\n",
    "- H School has high schools grades (9-13)\n",
    "- I School has elementary and middle school grades\n",
    "- T School has middle and high school grades\n",
    "- A School has elementary, middle, and high school grades"
   ]
  },
  {
   "cell_type": "code",
   "execution_count": 8,
   "metadata": {
    "collapsed": false
   },
   "outputs": [],
   "source": [
    "category = pd.crosstab([ df_EDA['category_cd'] ], \n",
    "                       df_EDA['RLPS'])"
   ]
  },
  {
   "cell_type": "code",
   "execution_count": 9,
   "metadata": {
    "collapsed": false
   },
   "outputs": [
    {
     "data": {
      "text/plain": [
       "<matplotlib.axes._subplots.AxesSubplot at 0x1147a5278>"
      ]
     },
     "execution_count": 9,
     "metadata": {},
     "output_type": "execute_result"
    },
    {
     "data": {
      "image/png": "[encoded data removed]",
      "text/plain": [
       "<Figure size 432x288 with 1 Axes>"
      ]
     },
     "metadata": {},
     "output_type": "display_data"
    }
   ],
   "source": [
    "category_rate = category.div(category.sum(1).astype(float),\n",
    "                             axis=0) # normalize the value\n",
    "\n",
    "category_rate.plot(kind='barh', \n",
    "                   stacked=True)"
   ]
  },
  {
   "cell_type": "code",
   "execution_count": 10,
   "metadata": {
    "collapsed": false
   },
   "outputs": [
    {
     "name": "stdout",
     "output_type": "stream",
     "text": [
      "RLPS           0    1    2    3    4\n",
      "category_cd                         \n",
      "A             72    5    5    4    0\n",
      "E            814  155  134  102  117\n",
      "H            442   21   22   15   10\n",
      "I             89   15   16   13   16\n",
      "M            240   62   47   66   63\n",
      "T             58    5    3    3    3\n"
     ]
    }
   ],
   "source": [
    "print (category)"
   ]
  },
  {
   "cell_type": "markdown",
   "metadata": {},
   "source": [
    "We see that Middle and Elementary Schools tend to have a higher proportion of total schools low performing.    "
   ]
  },
  {
   "cell_type": "code",
   "execution_count": 11,
   "metadata": {
    "collapsed": false
   },
   "outputs": [
    {
     "name": "stdout",
     "output_type": "stream",
     "text": [
      "Percentage of Middle Only Schools at one time Low Performing:  0.498\n",
      "Percentage of Elementary Only Schools at one time Low Performing:  0.384\n",
      "Percentage of High School Only Schools at one time Low Performing:  0.133\n"
     ]
    }
   ],
   "source": [
    "mSum = len(df_EDA[df_EDA['category_cd'] == 'M'])\n",
    "eSum = len(df_EDA[df_EDA['category_cd'] == 'E'])\n",
    "hSum = len(df_EDA[df_EDA['category_cd'] == 'H'])\n",
    "\n",
    "mLow = (62+47+66+63)\n",
    "eLow = (155+134+102+117)\n",
    "hLow = (21+22+15+10)\n",
    "\n",
    "print(\"Percentage of Middle Only Schools at one time Low Performing: \", round(mLow/mSum, 3))\n",
    "print(\"Percentage of Elementary Only Schools at one time Low Performing: \", round(eLow/eSum, 3))\n",
    "print(\"Percentage of High School Only Schools at one time Low Performing: \", round(hLow/hSum, 3))"
   ]
  },
  {
   "cell_type": "markdown",
   "metadata": {},
   "source": [
    "#### Look at Charter Schools before Removed"
   ]
  },
  {
   "cell_type": "code",
   "execution_count": 12,
   "metadata": {
    "collapsed": false
   },
   "outputs": [
    {
     "data": {
      "text/plain": [
       "<matplotlib.axes._subplots.AxesSubplot at 0x114ed8f98>"
      ]
     },
     "execution_count": 12,
     "metadata": {},
     "output_type": "execute_result"
    },
    {
     "data": {
      "image/png": "[encoded data removed]",
      "text/plain": [
       "<Figure size 432x288 with 1 Axes>"
      ]
     },
     "metadata": {},
     "output_type": "display_data"
    }
   ],
   "source": [
    "typeSchool = pd.crosstab([ df_EDA['type_cd'] ], \n",
    "                       df_EDA['RLPS'])\n",
    "type_rate = typeSchool.div(typeSchool.sum(1).astype(float),\n",
    "                             axis=0) # normalize the value\n",
    "\n",
    "type_rate.plot(kind='barh', \n",
    "                   stacked=True)"
   ]
  },
  {
   "cell_type": "code",
   "execution_count": 13,
   "metadata": {
    "collapsed": false
   },
   "outputs": [
    {
     "name": "stdout",
     "output_type": "stream",
     "text": [
      "RLPS        0    1    2    3    4\n",
      "type_cd                          \n",
      "C         111   25   15   13    7\n",
      "P        1607  238  212  190  202\n"
     ]
    }
   ],
   "source": [
    "print(typeSchool)"
   ]
  },
  {
   "cell_type": "markdown",
   "metadata": {},
   "source": [
    "There are 168 total charter schools. From the above bar chart it appears that the pattern of performance is similar to regular public schools. "
   ]
  },
  {
   "cell_type": "markdown",
   "metadata": {},
   "source": [
    "### Separate Data into Three Dataframes\n",
    "Low Performing\n",
    "Not Low Performing\n",
    "Repeatedly Low Performing"
   ]
  },
  {
   "cell_type": "code",
   "execution_count": 14,
   "metadata": {
    "collapsed": false
   },
   "outputs": [
    {
     "name": "stdout",
     "output_type": "stream",
     "text": [
      "902\n",
      "639\n",
      "1718\n"
     ]
    }
   ],
   "source": [
    "lowPerform = df_EDA[df_EDA['RLPS']!=0]\n",
    "print(lowPerform['unit_code'].count())\n",
    "\n",
    "repeatLow = df_EDA[(df_EDA['RLPS'] == 2)|\n",
    "                            (df_EDA['RLPS'] == 3)|\n",
    "                            (df_EDA['RLPS'] == 4)]\n",
    "print(repeatLow['unit_code'].count())\n",
    "\n",
    "notLowPerform = df_EDA[df_EDA['RLPS'] == 0]\n",
    "print(notLowPerform['unit_code'].count())"
   ]
  },
  {
   "cell_type": "code",
   "execution_count": 15,
   "metadata": {
    "collapsed": false
   },
   "outputs": [
    {
     "name": "stdout",
     "output_type": "stream",
     "text": [
      "['LowPerforming' 'NotLowPerforming']\n"
     ]
    }
   ],
   "source": [
    "## Create a new column that is boolean if low performing for visulization plots\n",
    "LowP_series = []\n",
    "for index, row in df_EDA.iterrows():\n",
    "    if row['RLPS'] == 0:\n",
    "        LowP_series.append('NotLowPerforming')\n",
    "    else: \n",
    "        LowP_series.append('LowPerforming')\n",
    "print(np.unique(LowP_series))\n",
    "df_EDA['LPSBool'] = LowP_series"
   ]
  },
  {
   "cell_type": "markdown",
   "metadata": {},
   "source": [
    "## Percent Economically Disadvantaged\n",
    "Have this just need to move it over"
   ]
  },
  {
   "cell_type": "code",
   "execution_count": 16,
   "metadata": {
    "collapsed": false
   },
   "outputs": [
    {
     "name": "stdout",
     "output_type": "stream",
     "text": [
      "Not Low Performing : \n",
      "{'EDS': 45.651164144353899}\n",
      "Percentage No Data:  0.0\n",
      "\n",
      " Low Performing : \n",
      "{'EDS': 67.080598669623058}\n",
      "Percentage No Data:  0.0\n",
      "\n",
      " Repeatedly Low Performing : \n",
      "{'EDS': 69.297652582159614}\n",
      "Percentage No Data:  0.0\n"
     ]
    }
   ],
   "source": [
    "# Averages across performance types\n",
    "# NOT LOW PERFORMING\n",
    "nlpEDSAverages = {}\n",
    "nlpEDS = notLowPerform['pct_eds'].mean()\n",
    "nlpEDSAverages['EDS'] = nlpEDS\n",
    "print(\"Not Low Performing : \")\n",
    "print(nlpEDSAverages)\n",
    "print('Percentage No Data: ', notLowPerform['pct_eds'].isnull().T.sum()/notLowPerform['unit_code'].count())\n",
    "\n",
    "# LOW PERFORMING\n",
    "lowPEDSAverages = {}\n",
    "lowPEDS = lowPerform['pct_eds'].mean()\n",
    "lowPEDSAverages['EDS'] = lowPEDS\n",
    "print('\\n', \"Low Performing : \")\n",
    "print(lowPEDSAverages)\n",
    "print('Percentage No Data: ', lowPerform['pct_eds'].isnull().T.sum()/lowPerform['unit_code'].count())\n",
    "\n",
    "\n",
    "# REPEAT LOW PERFORMING \n",
    "repLowPEDSAverages = {}\n",
    "repLowPEDS = repeatLow['pct_eds'].mean()\n",
    "repLowPEDSAverages['EDS'] = repLowPEDS\n",
    "print('\\n', \"Repeatedly Low Performing : \")\n",
    "print(repLowPEDSAverages)\n",
    "print('Percentage No Data: ', repeatLow['pct_eds'].isnull().T.sum()/repeatLow['unit_code'].count())"
   ]
  },
  {
   "cell_type": "code",
   "execution_count": 17,
   "metadata": {
    "collapsed": false
   },
   "outputs": [
    {
     "data": {
      "text/html": [
       "<div>\n",
       "<style scoped>\n",
       "    .dataframe tbody tr th:only-of-type {\n",
       "        vertical-align: middle;\n",
       "    }\n",
       "\n",
       "    .dataframe tbody tr th {\n",
       "        vertical-align: top;\n",
       "    }\n",
       "\n",
       "    .dataframe thead th {\n",
       "        text-align: right;\n",
       "    }\n",
       "</style>\n",
       "<table border=\"1\" class=\"dataframe\">\n",
       "  <thead>\n",
       "    <tr style=\"text-align: right;\">\n",
       "      <th></th>\n",
       "      <th>NotLowPerform</th>\n",
       "      <th>LowPerform</th>\n",
       "      <th>RepLowPerform</th>\n",
       "    </tr>\n",
       "  </thead>\n",
       "  <tbody>\n",
       "    <tr>\n",
       "      <th>EDS</th>\n",
       "      <td>45.651164</td>\n",
       "      <td>67.080599</td>\n",
       "      <td>69.297653</td>\n",
       "    </tr>\n",
       "  </tbody>\n",
       "</table>\n",
       "</div>"
      ],
      "text/plain": [
       "     NotLowPerform  LowPerform  RepLowPerform\n",
       "EDS      45.651164   67.080599      69.297653"
      ]
     },
     "execution_count": 17,
     "metadata": {},
     "output_type": "execute_result"
    }
   ],
   "source": [
    "EDSAvg = pd.DataFrame(data=[nlpEDSAverages, lowPEDSAverages, repLowPEDSAverages], \n",
    "                      index=['NotLowPerform', 'LowPerform', 'RepLowPerform'])\n",
    "EDSAvg = EDSAvg.T\n",
    "EDSAvg"
   ]
  },
  {
   "cell_type": "markdown",
   "metadata": {},
   "source": [
    "### Test significance of differences in means using Welch's T-Test"
   ]
  },
  {
   "cell_type": "code",
   "execution_count": 18,
   "metadata": {
    "collapsed": false
   },
   "outputs": [
    {
     "data": {
      "text/plain": [
       "Ttest_indResult(statistic=-31.330594504797133, pvalue=4.1268380927552606e-180)"
      ]
     },
     "execution_count": 18,
     "metadata": {},
     "output_type": "execute_result"
    }
   ],
   "source": [
    "from scipy.stats import ttest_ind\n",
    "\n",
    "cat1 = df_EDA[df_EDA['LPSBool']=='NotLowPerforming']\n",
    "cat2 = df_EDA[df_EDA['LPSBool']=='LowPerforming']\n",
    "\n",
    "ttest_ind(cat1['pct_eds'], cat2['pct_eds'], equal_var=False)"
   ]
  },
  {
   "cell_type": "markdown",
   "metadata": {},
   "source": [
    "We find that the difference in means of percentage of students that are economically disadvantaged between low performing and repeatedly low performing schools is statistically siginificant. P-value <0.0001"
   ]
  },
  {
   "cell_type": "code",
   "execution_count": 19,
   "metadata": {
    "collapsed": false
   },
   "outputs": [
    {
     "data": {
      "text/plain": [
       "Text(0.5,1,'Probability Distribution Function of Economically Disadvantaged Students')"
      ]
     },
     "execution_count": 19,
     "metadata": {},
     "output_type": "execute_result"
    },
    {
     "data": {
      "image/png": "[encoded data removed]",
      "text/plain": [
       "<Figure size 576x432 with 1 Axes>"
      ]
     },
     "metadata": {},
     "output_type": "display_data"
    }
   ],
   "source": [
    "f, ax = plt.subplots(figsize=(8,6))\n",
    "a = sns.distplot(notLowPerform['pct_eds'].dropna(),\n",
    "             hist=False,\n",
    "             label = 'Not Low Performing')\n",
    "b = sns.distplot(lowPerform['pct_eds'].dropna(),\n",
    "             hist=False,\n",
    "             label = 'Low Performing')\n",
    "c = sns.distplot(repeatLow['pct_eds'].dropna(),\n",
    "             hist=False,\n",
    "             label = 'Repeatedly Low Performing')\n",
    "plt.title('Probability Distribution Function of Economically Disadvantaged Students')"
   ]
  },
  {
   "cell_type": "code",
   "execution_count": 20,
   "metadata": {
    "collapsed": false
   },
   "outputs": [
    {
     "data": {
      "text/plain": [
       "Text(0.5,1,'Probability Distribution Function of Economically Disadvantaged Students')"
      ]
     },
     "execution_count": 20,
     "metadata": {},
     "output_type": "execute_result"
    },
    {
     "data": {
      "image/png": "[encoded data removed]",
      "text/plain": [
       "<Figure size 576x432 with 1 Axes>"
      ]
     },
     "metadata": {},
     "output_type": "display_data"
    }
   ],
   "source": [
    "f, ax = plt.subplots(figsize=(8,6))\n",
    "a = sns.distplot(notLowPerform['EVAAS Growth Score'].dropna(),\n",
    "             hist=False,\n",
    "             label = 'Not Low Performing')\n",
    "b = sns.distplot(lowPerform['EVAAS Growth Score'].dropna(),\n",
    "             hist=False,\n",
    "             label = 'Low Performing')\n",
    "c = sns.distplot(repeatLow['EVAAS Growth Score'].dropna(),\n",
    "             hist=False,\n",
    "             label = 'Repeatedly Low Performing')\n",
    "plt.title('Probability Distribution Function of Economically Disadvantaged Students')"
   ]
  },
  {
   "cell_type": "code",
   "execution_count": 21,
   "metadata": {
    "collapsed": false
   },
   "outputs": [
    {
     "data": {
      "text/plain": [
       "Index(['EVAAS Growth Status', 'EVAAS Growth Score', 'EVAAS Growth Status_14',\n",
       "       'EVAAS Growth Score_14', 'EVAAS Growth Status_15',\n",
       "       'EVAAS Growth Score_15', 'EVAAS Growth Status_16',\n",
       "       'EVAAS Growth Score_16'],\n",
       "      dtype='object')"
      ]
     },
     "execution_count": 21,
     "metadata": {},
     "output_type": "execute_result"
    }
   ],
   "source": [
    "df_EDA.filter(regex = ('EVAAS')).columns"
   ]
  },
  {
   "cell_type": "markdown",
   "metadata": {},
   "source": [
    "## Racial Demographics"
   ]
  },
  {
   "cell_type": "code",
   "execution_count": 22,
   "metadata": {
    "collapsed": false
   },
   "outputs": [
    {
     "name": "stdout",
     "output_type": "stream",
     "text": [
      "\n",
      " Not Low Performing : \n",
      "{'White': 0.58620329049682762, 'Black': 0.19120991312147984, 'Hispanic': 0.14235224068611094, 'Asian': 0.029774555097860231, 'Indian': 0.0083160696535381044, 'PacificIsl': 0.0011863131537084887, 'TwoPlus': 0.040957617790474819}\n",
      "\n",
      " Low Performing : \n",
      "{'White': 0.29545705569286035, 'Black': 0.4062003242830089, 'Hispanic': 0.21610064155742995, 'Asian': 0.016333263993736732, 'Indian': 0.02429871654618742, 'PacificIsl': 0.0014891774038242468, 'TwoPlus': 0.04012082052295244}\n",
      "\n",
      " Repeatedly Low Performing : \n",
      "{'White': 0.24246484931447213, 'Black': 0.44863640820222012, 'Hispanic': 0.2257245763816694, 'Asian': 0.015693881431521603, 'Indian': 0.027936824987482206, 'PacificIsl': 0.0015680162949614819, 'TwoPlus': 0.037975443387673148}\n"
     ]
    }
   ],
   "source": [
    "# Averages across performance types\n",
    "# NOT LOW PERFORMING\n",
    "nlpAverages = {}\n",
    "nlpWhite = notLowPerform['WhitePct'].mean()\n",
    "nlpAverages['White'] = nlpWhite\n",
    "nlpBlack = notLowPerform['BlackPct'].mean()\n",
    "nlpAverages['Black'] = nlpBlack\n",
    "nlpHispanic = notLowPerform['HispanicPct'].mean()\n",
    "nlpAverages['Hispanic'] = nlpHispanic\n",
    "nlpAsian = notLowPerform['AsianPct'].mean()\n",
    "nlpAverages['Asian'] = nlpAsian\n",
    "nlpIndian = notLowPerform['IndianPct'].mean()\n",
    "nlpAverages['Indian'] = nlpIndian\n",
    "nlpPacific = notLowPerform['PacificIslandPct'].mean()\n",
    "nlpAverages['PacificIsl'] = nlpPacific\n",
    "nlpTwo = notLowPerform['TwoOrMorePct'].mean()\n",
    "nlpAverages['TwoPlus'] = nlpTwo\n",
    "print('\\n', \"Not Low Performing : \")\n",
    "print(nlpAverages)\n",
    "\n",
    "# LOW PERFORMING\n",
    "\n",
    "lowPAverages = {}\n",
    "lowPWhite = lowPerform['WhitePct'].mean()\n",
    "lowPAverages['White'] = lowPWhite\n",
    "lowPBlack = lowPerform['BlackPct'].mean()\n",
    "lowPAverages['Black'] = lowPBlack\n",
    "lowPHispanic = lowPerform['HispanicPct'].mean()\n",
    "lowPAverages['Hispanic'] = lowPHispanic\n",
    "lowPAsian = lowPerform['AsianPct'].mean()\n",
    "lowPAverages['Asian'] = lowPAsian\n",
    "lowPIndian = lowPerform['IndianPct'].mean()\n",
    "lowPAverages['Indian'] = lowPIndian\n",
    "lowPPacific = lowPerform['PacificIslandPct'].mean()\n",
    "lowPAverages['PacificIsl'] = lowPPacific\n",
    "lowPTwo = lowPerform['TwoOrMorePct'].mean()\n",
    "lowPAverages['TwoPlus'] = lowPTwo\n",
    "print('\\n', \"Low Performing : \")\n",
    "print(lowPAverages)\n",
    "\n",
    "# REPEAT LOW PERFORMING \n",
    "\n",
    "repLowPAverages = {}\n",
    "repLowPWhite = repeatLow['WhitePct'].mean()\n",
    "repLowPAverages['White'] = repLowPWhite\n",
    "repLowPBlack = repeatLow['BlackPct'].mean()\n",
    "repLowPAverages['Black'] = repLowPBlack\n",
    "repLowPHispanic = repeatLow['HispanicPct'].mean()\n",
    "repLowPAverages['Hispanic'] = repLowPHispanic\n",
    "repLowPAsian = repeatLow['AsianPct'].mean()\n",
    "repLowPAverages['Asian'] = repLowPAsian\n",
    "repLowPIndian = repeatLow['IndianPct'].mean()\n",
    "repLowPAverages['Indian'] = repLowPIndian\n",
    "repLowPPacific = repeatLow['PacificIslandPct'].mean()\n",
    "repLowPAverages['PacificIsl'] = repLowPPacific\n",
    "repLowPTwo = repeatLow['TwoOrMorePct'].mean()\n",
    "repLowPAverages['TwoPlus'] = repLowPTwo\n",
    "print('\\n', \"Repeatedly Low Performing : \")\n",
    "print(repLowPAverages)"
   ]
  },
  {
   "cell_type": "code",
   "execution_count": 23,
   "metadata": {
    "collapsed": false
   },
   "outputs": [
    {
     "data": {
      "text/html": [
       "<div>\n",
       "<style scoped>\n",
       "    .dataframe tbody tr th:only-of-type {\n",
       "        vertical-align: middle;\n",
       "    }\n",
       "\n",
       "    .dataframe tbody tr th {\n",
       "        vertical-align: top;\n",
       "    }\n",
       "\n",
       "    .dataframe thead th {\n",
       "        text-align: right;\n",
       "    }\n",
       "</style>\n",
       "<table border=\"1\" class=\"dataframe\">\n",
       "  <thead>\n",
       "    <tr style=\"text-align: right;\">\n",
       "      <th></th>\n",
       "      <th>NotLowPerform</th>\n",
       "      <th>LowPerform</th>\n",
       "      <th>RepLowPerform</th>\n",
       "    </tr>\n",
       "  </thead>\n",
       "  <tbody>\n",
       "    <tr>\n",
       "      <th>Asian</th>\n",
       "      <td>0.029775</td>\n",
       "      <td>0.016333</td>\n",
       "      <td>0.015694</td>\n",
       "    </tr>\n",
       "    <tr>\n",
       "      <th>Black</th>\n",
       "      <td>0.191210</td>\n",
       "      <td>0.406200</td>\n",
       "      <td>0.448636</td>\n",
       "    </tr>\n",
       "    <tr>\n",
       "      <th>Hispanic</th>\n",
       "      <td>0.142352</td>\n",
       "      <td>0.216101</td>\n",
       "      <td>0.225725</td>\n",
       "    </tr>\n",
       "    <tr>\n",
       "      <th>Indian</th>\n",
       "      <td>0.008316</td>\n",
       "      <td>0.024299</td>\n",
       "      <td>0.027937</td>\n",
       "    </tr>\n",
       "    <tr>\n",
       "      <th>PacificIsl</th>\n",
       "      <td>0.001186</td>\n",
       "      <td>0.001489</td>\n",
       "      <td>0.001568</td>\n",
       "    </tr>\n",
       "    <tr>\n",
       "      <th>TwoPlus</th>\n",
       "      <td>0.040958</td>\n",
       "      <td>0.040121</td>\n",
       "      <td>0.037975</td>\n",
       "    </tr>\n",
       "    <tr>\n",
       "      <th>White</th>\n",
       "      <td>0.586203</td>\n",
       "      <td>0.295457</td>\n",
       "      <td>0.242465</td>\n",
       "    </tr>\n",
       "  </tbody>\n",
       "</table>\n",
       "</div>"
      ],
      "text/plain": [
       "            NotLowPerform  LowPerform  RepLowPerform\n",
       "Asian            0.029775    0.016333       0.015694\n",
       "Black            0.191210    0.406200       0.448636\n",
       "Hispanic         0.142352    0.216101       0.225725\n",
       "Indian           0.008316    0.024299       0.027937\n",
       "PacificIsl       0.001186    0.001489       0.001568\n",
       "TwoPlus          0.040958    0.040121       0.037975\n",
       "White            0.586203    0.295457       0.242465"
      ]
     },
     "execution_count": 23,
     "metadata": {},
     "output_type": "execute_result"
    }
   ],
   "source": [
    "raceAvg = pd.DataFrame(data=[nlpAverages, lowPAverages, repLowPAverages], \n",
    "                      index=['NotLowPerform', 'LowPerform', 'RepLowPerform'])\n",
    "raceAvg = raceAvg.T\n",
    "raceAvg"
   ]
  },
  {
   "cell_type": "code",
   "execution_count": 24,
   "metadata": {
    "collapsed": false
   },
   "outputs": [
    {
     "data": {
      "text/plain": [
       "Text(0.5,1,'Probability Distribution of Percentage White Students')"
      ]
     },
     "execution_count": 24,
     "metadata": {},
     "output_type": "execute_result"
    },
    {
     "data": {
      "image/png": "[encoded data removed]",
      "text/plain": [
       "<Figure size 576x432 with 1 Axes>"
      ]
     },
     "metadata": {},
     "output_type": "display_data"
    }
   ],
   "source": [
    "f, ax = plt.subplots(figsize=(8,6))\n",
    "a = sns.distplot(notLowPerform['WhitePct'].dropna(),\n",
    "             hist=False,\n",
    "             label = 'Not Low Performing')\n",
    "b = sns.distplot(lowPerform['WhitePct'].dropna(),\n",
    "             hist=False,\n",
    "             label = 'Low Performing')\n",
    "c = sns.distplot(repeatLow['WhitePct'].dropna(),\n",
    "             hist=False,\n",
    "             label = 'Repeatedly Low Performing')\n",
    "#ax.set(xlim=(0,1))\n",
    "plt.title('Probability Distribution of Percentage White Students')\n"
   ]
  },
  {
   "cell_type": "markdown",
   "metadata": {},
   "source": [
    "## Funding\n",
    "We do not have school-level funding data for most of our schools. This makes it difficult to see how much individual funding per pupil each school receives. The schools for which this data exists are all **charter** schools."
   ]
  },
  {
   "cell_type": "code",
   "execution_count": 25,
   "metadata": {
    "collapsed": false
   },
   "outputs": [
    {
     "name": "stdout",
     "output_type": "stream",
     "text": [
      "Percentage of schools without school level federal funding data: \n",
      "0.934732824427\n",
      "Percentage of schools without school level state funding data: \n",
      "0.934732824427\n",
      "Percentage of schools without school level local funding data: \n",
      "0.934732824427\n"
     ]
    }
   ],
   "source": [
    "print ('Percentage of schools without school level federal funding data: ')\n",
    "print((df_EDA['federal_perpupil_num'].isna().sum())/(df_EDA['federal_perpupil_num'].isna().count()))\n",
    "\n",
    "print ('Percentage of schools without school level state funding data: ')\n",
    "print((df_EDA['state_perpupil_num'].isna().sum())/(df_EDA['state_perpupil_num'].isna().count()))\n",
    "\n",
    "print ('Percentage of schools without school level local funding data: ')\n",
    "print((df_EDA['local_perpupil_num'].isna().sum())/(df_EDA['local_perpupil_num'].isna().count()))\n"
   ]
  },
  {
   "cell_type": "code",
   "execution_count": 26,
   "metadata": {
    "collapsed": false
   },
   "outputs": [
    {
     "data": {
      "text/plain": [
       "Text(0.5,1,'Histogram of Local Funding at the LEA level')"
      ]
     },
     "execution_count": 26,
     "metadata": {},
     "output_type": "execute_result"
    },
    {
     "data": {
      "image/png": "[encoded data removed]",
      "text/plain": [
       "<Figure size 576x432 with 1 Axes>"
      ]
     },
     "metadata": {},
     "output_type": "display_data"
    }
   ],
   "source": [
    "f, ax = plt.subplots(figsize=(8,6))\n",
    "a = sns.distplot(df_EDA['lea_local_perpupil_num'].dropna(),\n",
    "             hist=True,\n",
    "                kde = False)\n",
    "plt.title('Histogram of Local Funding at the LEA level')"
   ]
  },
  {
   "cell_type": "code",
   "execution_count": 27,
   "metadata": {
    "collapsed": false
   },
   "outputs": [
    {
     "name": "stdout",
     "output_type": "stream",
     "text": [
      "\n",
      " Not Low Performing : \n",
      "{'LEA_Local_Funding': 2221.1741132545112, 'LEA_State_Funding': 6054.8454138145598, 'LEA_Fed_Funding': 1015.3209769757312}\n",
      "\n",
      " Low Performing : \n",
      "{'LEA_Local_Funding': 2015.1272921615205, 'LEA_State_Funding': 6225.1573040380035, 'LEA_Fed_Funding': 1183.9848218527316}\n",
      "\n",
      " Repeatedly Low Performing : \n",
      "{'LEA_Local_Funding': 2012.8818543046359, 'LEA_State_Funding': 6261.3997516556292, 'LEA_Fed_Funding': 1214.8034437086092}\n"
     ]
    }
   ],
   "source": [
    "# Averages across performance types\n",
    "# NOT LOW PERFORMING\n",
    "nlpFundAverages = {}\n",
    "nlpLocal = notLowPerform['lea_local_perpupil_num'].mean()\n",
    "nlpFundAverages['LEA_Local_Funding'] = nlpLocal\n",
    "nlpState= notLowPerform['lea_state_perpupil_num'].mean()\n",
    "nlpFundAverages['LEA_State_Funding'] = nlpState\n",
    "nlpFed = notLowPerform['lea_federal_perpupil_num'].mean()\n",
    "nlpFundAverages['LEA_Fed_Funding'] = nlpFed\n",
    "print('\\n', \"Not Low Performing : \")\n",
    "print(nlpFundAverages)\n",
    "\n",
    "# LOW PERFORMING\n",
    "lowPFundAverages = {}\n",
    "lowpLocal = lowPerform['lea_local_perpupil_num'].mean()\n",
    "lowPFundAverages['LEA_Local_Funding'] = lowpLocal\n",
    "lowpState= lowPerform['lea_state_perpupil_num'].mean()\n",
    "lowPFundAverages['LEA_State_Funding'] = lowpState\n",
    "lowpFed = lowPerform['lea_federal_perpupil_num'].mean()\n",
    "lowPFundAverages['LEA_Fed_Funding'] = lowpFed\n",
    "print('\\n', \"Low Performing : \")\n",
    "print(lowPFundAverages)\n",
    "\n",
    "\n",
    "# REPEAT LOW PERFORMING \n",
    "repLowPFundAverages = {}\n",
    "repLowPLocal = repeatLow['lea_local_perpupil_num'].mean()\n",
    "repLowPFundAverages['LEA_Local_Funding'] = repLowPLocal\n",
    "repLowPState= repeatLow['lea_state_perpupil_num'].mean()\n",
    "repLowPFundAverages['LEA_State_Funding'] = repLowPState\n",
    "repLowPFed = repeatLow['lea_federal_perpupil_num'].mean()\n",
    "repLowPFundAverages['LEA_Fed_Funding'] = repLowPFed\n",
    "print('\\n', \"Repeatedly Low Performing : \")\n",
    "print(repLowPFundAverages)"
   ]
  },
  {
   "cell_type": "code",
   "execution_count": 28,
   "metadata": {
    "collapsed": false
   },
   "outputs": [
    {
     "data": {
      "text/html": [
       "<div>\n",
       "<style scoped>\n",
       "    .dataframe tbody tr th:only-of-type {\n",
       "        vertical-align: middle;\n",
       "    }\n",
       "\n",
       "    .dataframe tbody tr th {\n",
       "        vertical-align: top;\n",
       "    }\n",
       "\n",
       "    .dataframe thead th {\n",
       "        text-align: right;\n",
       "    }\n",
       "</style>\n",
       "<table border=\"1\" class=\"dataframe\">\n",
       "  <thead>\n",
       "    <tr style=\"text-align: right;\">\n",
       "      <th></th>\n",
       "      <th>NotLowPerform</th>\n",
       "      <th>LowPerform</th>\n",
       "      <th>RepLowPerform</th>\n",
       "    </tr>\n",
       "  </thead>\n",
       "  <tbody>\n",
       "    <tr>\n",
       "      <th>LEA_Fed_Funding</th>\n",
       "      <td>1015.320977</td>\n",
       "      <td>1183.984822</td>\n",
       "      <td>1214.803444</td>\n",
       "    </tr>\n",
       "    <tr>\n",
       "      <th>LEA_Local_Funding</th>\n",
       "      <td>2221.174113</td>\n",
       "      <td>2015.127292</td>\n",
       "      <td>2012.881854</td>\n",
       "    </tr>\n",
       "    <tr>\n",
       "      <th>LEA_State_Funding</th>\n",
       "      <td>6054.845414</td>\n",
       "      <td>6225.157304</td>\n",
       "      <td>6261.399752</td>\n",
       "    </tr>\n",
       "  </tbody>\n",
       "</table>\n",
       "</div>"
      ],
      "text/plain": [
       "                   NotLowPerform   LowPerform  RepLowPerform\n",
       "LEA_Fed_Funding      1015.320977  1183.984822    1214.803444\n",
       "LEA_Local_Funding    2221.174113  2015.127292    2012.881854\n",
       "LEA_State_Funding    6054.845414  6225.157304    6261.399752"
      ]
     },
     "execution_count": 28,
     "metadata": {},
     "output_type": "execute_result"
    }
   ],
   "source": [
    "FundAvg = pd.DataFrame(data=[nlpFundAverages, lowPFundAverages, repLowPFundAverages], \n",
    "                      index=['NotLowPerform', 'LowPerform', 'RepLowPerform'])\n",
    "FundAvg = FundAvg.T\n",
    "FundAvg"
   ]
  },
  {
   "cell_type": "markdown",
   "metadata": {},
   "source": [
    "We see that repeatedly low performing schools receive more State and Federal funding than non-low performing schools. This is consistent with the way in which funding is allocated. Schools that meet certain disadvantage criteria are eligible for more state and federal programs for supplemental funding."
   ]
  },
  {
   "cell_type": "markdown",
   "metadata": {},
   "source": [
    "## Take a look at charter schools\n",
    "\n",
    "We now take a look at charter schools, for which we have the school-level funding data for. We have 168 charter schools in our dataset."
   ]
  },
  {
   "cell_type": "code",
   "execution_count": 29,
   "metadata": {
    "collapsed": false
   },
   "outputs": [
    {
     "name": "stdout",
     "output_type": "stream",
     "text": [
      "Number of Charters:  171\n",
      "Low Performing:  60\n",
      "Repeatedly Low Performing:  35\n",
      "Not Low Performing:  111\n"
     ]
    }
   ],
   "source": [
    "df_Charter = df_EDA[df_EDA['type_cd'] == 'C']\n",
    "print('Number of Charters: ', len(df_Charter))\n",
    "\n",
    "print('Low Performing: ', len(lowPerform[lowPerform['type_cd'] == 'C'] ))\n",
    "print('Repeatedly Low Performing: ', len(repeatLow[repeatLow['type_cd'] == 'C']))\n",
    "print('Not Low Performing: ', len(notLowPerform[notLowPerform['type_cd'] == 'C']))"
   ]
  },
  {
   "cell_type": "code",
   "execution_count": 30,
   "metadata": {
    "collapsed": false
   },
   "outputs": [
    {
     "name": "stdout",
     "output_type": "stream",
     "text": [
      "\n",
      " Not Low Performing : \n",
      "{'Local_Funding': 3115.8306306306308, 'State_Funding': 5796.0590090090091, 'Fed_Funding': 236.51819819819818}\n",
      "\n",
      " Low Performing : \n",
      "{'Local_Funding': 3258.1881666666673, 'State_Funding': 6129.0426666666672, 'Fed_Funding': 616.94083333333333}\n",
      "\n",
      " Repeatedly Low Performing : \n",
      "{'Local_Funding': 2586.7837142857147, 'State_Funding': 6172.3788571428568, 'Fed_Funding': 739.04228571428575}\n"
     ]
    }
   ],
   "source": [
    "# Averages across performance types\n",
    "# NOT LOW PERFORMING\n",
    "nlpFundAverages = {}\n",
    "nlpLocal = notLowPerform['local_perpupil_num'].mean()\n",
    "nlpFundAverages['Local_Funding'] = nlpLocal\n",
    "nlpState= notLowPerform['state_perpupil_num'].mean()\n",
    "nlpFundAverages['State_Funding'] = nlpState\n",
    "nlpFed = notLowPerform['federal_perpupil_num'].mean()\n",
    "nlpFundAverages['Fed_Funding'] = nlpFed\n",
    "print('\\n', \"Not Low Performing : \")\n",
    "print(nlpFundAverages)\n",
    "\n",
    "# LOW PERFORMING\n",
    "lowPFundAverages = {}\n",
    "lowpLocal = lowPerform['local_perpupil_num'].mean()\n",
    "lowPFundAverages['Local_Funding'] = lowpLocal\n",
    "lowpState= lowPerform['state_perpupil_num'].mean()\n",
    "lowPFundAverages['State_Funding'] = lowpState\n",
    "lowpFed = lowPerform['federal_perpupil_num'].mean()\n",
    "lowPFundAverages['Fed_Funding'] = lowpFed\n",
    "print('\\n', \"Low Performing : \")\n",
    "print(lowPFundAverages)\n",
    "\n",
    "\n",
    "# REPEAT LOW PERFORMING \n",
    "repLowPFundAverages = {}\n",
    "repLowPLocal = repeatLow['local_perpupil_num'].mean()\n",
    "repLowPFundAverages['Local_Funding'] = repLowPLocal\n",
    "repLowPState= repeatLow['state_perpupil_num'].mean()\n",
    "repLowPFundAverages['State_Funding'] = repLowPState\n",
    "repLowPFed = repeatLow['federal_perpupil_num'].mean()\n",
    "repLowPFundAverages['Fed_Funding'] = repLowPFed\n",
    "print('\\n', \"Repeatedly Low Performing : \")\n",
    "print(repLowPFundAverages)\n"
   ]
  },
  {
   "cell_type": "code",
   "execution_count": 31,
   "metadata": {
    "collapsed": false
   },
   "outputs": [
    {
     "data": {
      "text/html": [
       "<div>\n",
       "<style scoped>\n",
       "    .dataframe tbody tr th:only-of-type {\n",
       "        vertical-align: middle;\n",
       "    }\n",
       "\n",
       "    .dataframe tbody tr th {\n",
       "        vertical-align: top;\n",
       "    }\n",
       "\n",
       "    .dataframe thead th {\n",
       "        text-align: right;\n",
       "    }\n",
       "</style>\n",
       "<table border=\"1\" class=\"dataframe\">\n",
       "  <thead>\n",
       "    <tr style=\"text-align: right;\">\n",
       "      <th></th>\n",
       "      <th>NotLowPerform</th>\n",
       "      <th>LowPerform</th>\n",
       "      <th>RepLowPerform</th>\n",
       "    </tr>\n",
       "  </thead>\n",
       "  <tbody>\n",
       "    <tr>\n",
       "      <th>Fed_Funding</th>\n",
       "      <td>236.518198</td>\n",
       "      <td>616.940833</td>\n",
       "      <td>739.042286</td>\n",
       "    </tr>\n",
       "    <tr>\n",
       "      <th>Local_Funding</th>\n",
       "      <td>3115.830631</td>\n",
       "      <td>3258.188167</td>\n",
       "      <td>2586.783714</td>\n",
       "    </tr>\n",
       "    <tr>\n",
       "      <th>State_Funding</th>\n",
       "      <td>5796.059009</td>\n",
       "      <td>6129.042667</td>\n",
       "      <td>6172.378857</td>\n",
       "    </tr>\n",
       "  </tbody>\n",
       "</table>\n",
       "</div>"
      ],
      "text/plain": [
       "               NotLowPerform   LowPerform  RepLowPerform\n",
       "Fed_Funding       236.518198   616.940833     739.042286\n",
       "Local_Funding    3115.830631  3258.188167    2586.783714\n",
       "State_Funding    5796.059009  6129.042667    6172.378857"
      ]
     },
     "execution_count": 31,
     "metadata": {},
     "output_type": "execute_result"
    }
   ],
   "source": [
    "FundAvg = pd.DataFrame(data=[nlpFundAverages, lowPFundAverages, repLowPFundAverages], \n",
    "                      index=['NotLowPerform', 'LowPerform', 'RepLowPerform'])\n",
    "FundAvg = FundAvg.T\n",
    "FundAvg"
   ]
  },
  {
   "cell_type": "markdown",
   "metadata": {},
   "source": [
    "Repeatedly low performing charters receive more state and federal funding that non-low performing charters. It is important to not that the local funding for charters is significantly less for repeatedly low performing schools than for low performing and non-low performing schools. This could provide some evidence that local funding is important at the school-level. "
   ]
  },
  {
   "cell_type": "markdown",
   "metadata": {},
   "source": [
    "## EVAAS Growth Scores and SPG Grades\n",
    "The School Performance Grades are based on student achievement (80%) and growth (20%).\n",
    "The indicators and the proficiency standard or benchmark used for achievement include:\n",
    "1. Annual EOG mathematics and reading assessments in grades 3–8 and science\n",
    "assessments in grades 5 and 8 (Level 3 and above)\n",
    "2. Annual EOC assessments in Math I, Biology, and English II (Level 3 and above)\n",
    "3. The percentage of graduates who complete Math III, Algebra II, or Integrated Math III\n",
    "with a passing grade\n",
    "4. The percentage of grade 11 students who achieve the minimum score required for\n",
    "admission into a constituent institution of The University of North Carolina on the ACT\n",
    "(composite score of 17)\n",
    "5. The percentage of graduates identified as Career and Technical Education concentrators\n",
    "who meet the Silver Certificate or higher on the ACT WorkKeys assessment\n",
    "6. The percentage of students who graduate within four years of entering high school\n",
    "(Standard [4-Year] Cohort Graduation Rate)\n",
    "\n",
    "http://www.ncpublicschools.org/docs/accountability/reporting/exsumm16.pdf"
   ]
  },
  {
   "cell_type": "code",
   "execution_count": 32,
   "metadata": {
    "collapsed": false
   },
   "outputs": [
    {
     "data": {
      "text/plain": [
       "Text(0.5,1,'Probability Distribution Function of 2017 EVAAS Growth Scores')"
      ]
     },
     "execution_count": 32,
     "metadata": {},
     "output_type": "execute_result"
    },
    {
     "data": {
      "image/png": "[encoded data removed]",
      "text/plain": [
       "<Figure size 576x432 with 1 Axes>"
      ]
     },
     "metadata": {},
     "output_type": "display_data"
    }
   ],
   "source": [
    "f, ax = plt.subplots(figsize=(8,6))\n",
    "a = sns.distplot(notLowPerform['EVAAS Growth Score'].dropna(),\n",
    "             hist=True,\n",
    "             label = 'Not Low Performing')\n",
    "b = sns.distplot(lowPerform['EVAAS Growth Score'].dropna(),\n",
    "             hist=True,\n",
    "             label = 'Low Performing')\n",
    "c = sns.distplot(repeatLow['EVAAS Growth Score'].dropna(),\n",
    "             hist=True,\n",
    "             label = 'Repeatedly Low Performing')\n",
    "plt.title('Probability Distribution Function of 2017 EVAAS Growth Scores')"
   ]
  }
 ],
 "metadata": {
  "kernelspec": {
   "display_name": "Python 3",
   "language": "python",
   "name": "python3"
  },
  "language_info": {
   "codemirror_mode": {
    "name": "ipython",
    "version": 3
   },
   "file_extension": ".py",
   "mimetype": "text/x-python",
   "name": "python",
   "nbconvert_exporter": "python",
   "pygments_lexer": "ipython3",
   "version": "3.6.5"
  }
 },
 "nbformat": 4,
 "nbformat_minor": 2
}
