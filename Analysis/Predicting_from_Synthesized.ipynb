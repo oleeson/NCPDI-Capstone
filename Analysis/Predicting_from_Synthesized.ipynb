{
 "cells": [
  {
   "cell_type": "markdown",
   "metadata": {},
   "source": [
    "# Reading in the Data\n",
    "\n",
    "** NOTE: I've removed any state-level columns as redundant, as well as explanatory variables we wouldn't want (eg. unit_code, school_name, etc) **\n",
    "\n",
    "** Some sets of variables still won't work when passing some sets of dataframes - they dont exist in all dataframes, and I'm not sure of a safe way to handle that **\n",
    "\n",
    "Can we include in the function a way to only synthesize data for public schools that are low performing? ie) don't increase the total_nbpts_num for *all* schools - only the ones that are low performing?"
   ]
  },
  {
   "cell_type": "code",
   "execution_count": 2,
   "metadata": {
    "collapsed": false
   },
   "outputs": [],
   "source": [
    "import pandas as pd\n",
    "import numpy as np\n",
    "from sklearn import preprocessing\n",
    "from matplotlib import pyplot as plt\n",
    "import pickle\n",
    "import warnings\n",
    "\n",
    "# Loading data\n",
    "initial_path = '/Users/Olivia/SMUDS/Capstone/B/Github/Dataset Creation/'\n",
    "\n",
    "# 2014 Datasets\n",
    "df_elem_14 = pd.read_csv(initial_path+'2014/PublicElementarySchools2014_LPS_Processed.csv')\n",
    "df_mid_14 = pd.read_csv(initial_path+'2014/PublicMiddleSchools2014_LPS_Processed.csv')\n",
    "df_high_14 = pd.read_csv(initial_path+'2014/PublicHighSchools2014_LPS_Processed.csv')\n",
    "\n",
    "# 2015 Datasets\n",
    "df_elem_15 = pd.read_csv(initial_path+'2015/PublicElementarySchools2015_LPS_Processed.csv')\n",
    "df_mid_15 = pd.read_csv(initial_path+'2015/PublicMiddleSchools2015_LPS_Processed.csv')\n",
    "df_high_15 = pd.read_csv(initial_path+'2015/PublicHighSchools2015_LPS_Processed.csv')\n",
    "\n",
    "# 2016 Datasets\n",
    "df_elem_16 = pd.read_csv(initial_path+'2016/PublicElementarySchools2016_LPS_Processed.csv')\n",
    "df_mid_16 = pd.read_csv(initial_path+'2016/PublicMiddleSchools2016_LPS_Processed.csv')\n",
    "df_high_16 = pd.read_csv(initial_path+'2016/PublicHighSchools2016_LPS_Processed.csv')\n",
    "\n",
    "# 2017 Datasets\n",
    "df_elem_17 = pd.read_csv(initial_path+'2017/PublicElementarySchools2017_LPS_Processed.csv')\n",
    "df_mid_17 = pd.read_csv(initial_path+'2017/PublicMiddleSchools2017_LPS_Processed.csv')\n",
    "df_high_17 = pd.read_csv(initial_path+'2017/PublicHighSchools2017_LPS_Processed.csv')\n",
    "\n",
    "# Changing to LPS so it works the same across each dataset\n",
    "df_elem_17 = df_elem_17.rename(columns = {'LPS_17' : 'LPS'})\n",
    "df_mid_17 = df_mid_17.rename(columns = {'LPS_17' : 'LPS'})\n",
    "df_high_17 = df_high_17.rename(columns = {'LPS_17' : 'LPS'})\n",
    "\n",
    "'''\n",
    "# Loading in columns for different categories\n",
    "fileObject = open(initial path + '2014/TableColumns/environmentCols_14.pkl', 'rb')\n",
    "environment_cols = pickle.load(fileObject)\n",
    "\n",
    "fileObject = open(initial path + '2014/TableColumns/personnelCols_14.pkl', 'rb')\n",
    "personnel_cols = pickle.load(fileObject)\n",
    "\n",
    "fileObject = open(initial path + '2014/TableColumns/yoeCols_14.pkl', 'rb')\n",
    "yoe_cols = pickle.load(fileObject)\n",
    "\n",
    "# Full list of columns, including Personnel, Environment, and Teacher Experience Variables\n",
    "combined_cols = (environment_cols + list(set(personnel_cols) - set(environment_cols)))\n",
    "yoe_cols = ['0-3 Years_Exp_Pct_Tch',\n",
    "            '10+ Years_Exp_Pct_Tch',\n",
    "            '4-10 Years_Exp_Pct_Tch',\n",
    "            '0-3 Years_LEA_Exp_Pct_Prin',\n",
    "            '10+ Years_LEA_Exp_Pct_Prin',\n",
    "            '4-10 Years_LEA_Exp_Pct_Prin']\n",
    "for col in yoe_cols:\n",
    "    combined_cols.append(col)\n",
    "combined_cols.append('LPS')\n",
    "'''\n",
    "\n",
    "# So that you don't have to load the pickle objects \n",
    "#   for yoe_cols, environment_cols, and personnel_cols:\n",
    "yoe_cols = ['0-3 Years_Exp_Pct_Tch',\n",
    "            '10+ Years_Exp_Pct_Tch',\n",
    "            '4-10 Years_Exp_Pct_Tch',\n",
    "            '0-3 Years_LEA_Exp_Pct_Prin',\n",
    "            '10+ Years_LEA_Exp_Pct_Prin',\n",
    "            '4-10 Years_LEA_Exp_Pct_Prin']\n",
    "\n",
    "environment_cols = [\n",
    "                 'avg_daily_attend_pct',\n",
    "                 'crime_per_c_num',\n",
    "                 'short_susp_per_c_num',\n",
    "                 'long_susp_per_c_num',\n",
    "                 'expelled_per_c_num',\n",
    "                 'ttl_crimes_num',\n",
    "                 'stud_internet_comp_num',\n",
    "                 'lea_avg_daily_attend_pct',\n",
    "                 'lea_crime_per_c_num',\n",
    "                 'lea_short_susp_per_c_num',\n",
    "                 'lea_long_susp_per_c_num',\n",
    "                 'lea_expelled_per_c_num',\n",
    "                 'lea_stud_internet_comp_num',\n",
    "                 'digital_media_pct',\n",
    "                 'Byod',\n",
    "                 'grades_BYOD',\n",
    "                 'avg_age_media_collection',\n",
    "                 '_1_to_1_access',\n",
    "                 'books_per_student',\n",
    "                 'grades_1_to_1_access',\n",
    "                 'lea_avg_age_media_collection',\n",
    "                 'lea_books_per_student',\n",
    "                 'wap_num',\n",
    "                 'wap_per_classroom',\n",
    "                 'lea_wap_num',\n",
    "                 'lea_wap_per_classroom',\n",
    "                 'SRC_devices_sent_home',\n",
    "                 'SRC_Grades_Devices_Sent_Home']\n",
    "\n",
    "personnel_cols = ['total_class_teacher_num',\n",
    "                 'total_nbpts_num',\n",
    "                 'prin_other_pct',\n",
    "                 'prinyrs_0thru3_pct',\n",
    "                 'prinyrs_4thru10_pct',\n",
    "                 'prinyrs_11plus_pct',\n",
    "                 'prin_advance_dgr_pct',\n",
    "                 '_1yr_prin_trnovr_pct',\n",
    "                 'prin_male_pct',\n",
    "                 'prin_female_pct',\n",
    "                 'prin_black_pct',\n",
    "                 'prin_white_pct',\n",
    "                 'flicensed_teach_pct',\n",
    "                 'tchyrs_0thru3_pct',\n",
    "                 'tchyrs_4thru10_pct',\n",
    "                 'tchyrs_11plus_pct',\n",
    "                 'class_teach_num',\n",
    "                 'nbpts_num',\n",
    "                 'advance_dgr_pct',\n",
    "                 '_1yr_tchr_trnovr_pct',\n",
    "                 'emer_prov_teach_pct',\n",
    "                 'lateral_teach_pct',\n",
    "                 'highqual_class_pct',\n",
    "                 'lea_flicensed_teach_pct',\n",
    "                 'lea_tchyrs_0thru3_pct',\n",
    "                 'lea_tchyrs_4thru10_pct',\n",
    "                 'lea_tchyrs_11plus_pct',\n",
    "                 'lea_class_teach_num',\n",
    "                 'lea_nbpts_num',\n",
    "                 'lea_advance_dgr_pct',\n",
    "                 'lea_1yr_tchr_trnovr_pct',\n",
    "                 'lea_emer_prov_teach_pct',\n",
    "                 'lea_lateral_teach_pct',\n",
    "                 'lea_highqual_class_pct',\n",
    "                 'lea_highqual_class_hp_pct',\n",
    "                 'lea_highqual_class_lp_pct',\n",
    "                 'lea_highqual_class_all_pct',\n",
    "                 'lea_not_highqual_class_hp_pct',\n",
    "                 'lea_not_highqual_class_lp_pct',\n",
    "                 'lea_not_highqual_class_all_pct']\n",
    "\n",
    "\n",
    "'''\n",
    "# Subsets each dataframe based on the columns it shares with the \n",
    "# three sets of variables found in \"combined_cols\" (environment, personnel, and yoe)\n",
    "\n",
    "df_elem_14 = df_elem_14[df_elem_14.columns.intersection(combined_cols)]\n",
    "df_mid_14 = df_mid_14[df_mid_14.columns.intersection(combined_cols)]\n",
    "df_high_14 = df_high_14[df_high_14.columns.intersection(combined_cols)]\n",
    "df_elem_15 = df_elem_15[df_elem_15.columns.intersection(combined_cols)]\n",
    "df_mid_15 = df_mid_15[df_mid_15.columns.intersection(combined_cols)]\n",
    "df_high_15 = df_high_15[df_high_15.columns.intersection(combined_cols)]\n",
    "df_elem_16 = df_elem_16[df_elem_16.columns.intersection(combined_cols)]\n",
    "df_mid_16 = df_mid_16[df_mid_16.columns.intersection(combined_cols)]\n",
    "df_high_16 = df_high_16[df_high_16.columns.intersection(combined_cols)]\n",
    "df_elem_17 = df_elem_17[df_elem_17.columns.intersection(combined_cols)]\n",
    "df_mid_17 = df_mid_17[df_mid_17.columns.intersection(combined_cols)]\n",
    "df_high_17 = df_high_17[df_high_17.columns.intersection(combined_cols)]\n",
    "'''\n",
    "\n",
    "# Setting names for dfs to be referenced in column names later\n",
    "df_elem_14.name = 'df_elem_14'\n",
    "df_mid_14.name = 'df_mid_14'\n",
    "df_high_14.name = 'df_high_14' \n",
    "df_elem_15.name = 'df_elem_15'\n",
    "df_mid_15.name = 'df_mid_15'\n",
    "df_high_15.name = 'df_high_15'\n",
    "df_elem_16.name = 'df_elem_16'\n",
    "df_mid_16.name = 'df_mid_16'\n",
    "df_high_16.name = 'df_high_16'\n",
    "df_elem_17.name = 'df_elem_17'\n",
    "df_mid_17.name = 'df_mid_17'\n",
    "df_high_17.name = 'df_high_17'\n",
    "\n",
    "# Storing dfs in list for later iteration\n",
    "all_datasets = [df_elem_14, df_mid_14, df_high_14,\n",
    "                df_elem_15, df_mid_15, df_high_15,\n",
    "                df_elem_16, df_mid_16, df_high_16,\n",
    "                df_elem_17, df_mid_17, df_high_17]"
   ]
  },
  {
   "cell_type": "markdown",
   "metadata": {},
   "source": [
    "# Functions\n",
    "\n",
    "'crystal_ball()' is the primary function. Given a set of 'train_dfs' (dataframes used in training/predicting - argument can be used to subset only elementary, middle, or high schools, or only specific years, for example) along with explanatory and target variables, it will:\n",
    "\n",
    "1. Train the model on the original data.\n",
    "2. Use the synthesize_data() function to increase/decrease certain variables according the pre-specificed \"synthetic_specs\" dictionary.\n",
    "3. Use the new synthesized data to make a new prediction of the target variable.\n",
    "4. The differences between the original target variables and the new predicted target variables (from synthesized data) are logged in a dataframe called 'all_changes'.\n",
    "5. Arguments can specify whether to return the 'all_changes' dataframe (for a closer look) or can choose to simply return the average of the dataframe. \n",
    "\n",
    "\n",
    "Argument options can be found in the docstring, but here's a brief description:\n",
    "\n",
    "        train_dfs: list of datasets to be used for training the model\n",
    "        synthetic_specs: dictionary which specifies the variables to\n",
    "                          be synthesized, and by how much.\n",
    "        target_variable: the variable to be predicted \n",
    "        binarize_target: if True, the continuous target variable will be \n",
    "                            set to 0 if it is below average, or 1 for above avg.\n",
    "        explanatory_variables: set of variables to be used in predicting target variables\n",
    "                                eg. 'environment_vars' or 'yoe_vars'\n",
    "        model: type of model to be used in predicting\n",
    "        return_type: can choose to return a 'dataframe' of differences between\n",
    "                        predicted future values (based on synthetic data) and the original\n",
    "                        value in the training dataframe.\n",
    "                    OR can return the average of that entire dataframe\n",
    "\n",
    "\n",
    "By choosing to return the average of the entire dataframe, we can iterate through different sets of parameters (increases/decreases to certain variables) to get the most ideal corresponding increase/decrease to certain target variables\n",
    "\n",
    "A few notes:\n",
    "1. Not all columns are shared among all dataframes...currently working on how to handle this within the function itself.\n",
    "2. Some of the original dataframes are of different lengths, meaning that when the 'all_changes' dataframe is calculated, there is potential for there to be NaNs. Shouldn't cause any issues, but be aware.\n",
    "3. More sklearn model could be added by playing with the conditional statements in the function body.\n",
    "    Eg: *(if model == 'anyothermodel': regr = AnyOtherModel())*\n",
    "4. Should probably play with model arguments, I haven't so far"
   ]
  },
  {
   "cell_type": "code",
   "execution_count": 2,
   "metadata": {
    "collapsed": true
   },
   "outputs": [],
   "source": [
    "# This, for example would synthetically increase 'lea_total_expense_num' by 10%,\n",
    "# and would decrease 'lea_salary_expense_pct' by 20%\n",
    "synthetic_specs = {'lea_total_expense_num' : 1.1,\n",
    "                   'lea_salary_expense_pct' : 0.8}"
   ]
  },
  {
   "cell_type": "code",
   "execution_count": 3,
   "metadata": {
    "collapsed": true
   },
   "outputs": [],
   "source": [
    "def synthesize_data(df, synthetic_specs = synthetic_specs):\n",
    "    '''Takes a dataframe as input, alters the \n",
    "    synthetic variables by the specified factor'''\n",
    "    \n",
    "    future_data = df.copy()\n",
    "    for k,v in synthetic_specs.items():\n",
    "        future_data[k] = df[k] * v\n",
    "        \n",
    "    return future_data\n",
    "\n",
    "\n",
    "def crystal_ball(train_dfs = all_datasets, \n",
    "                 synthetic_specs = synthetic_specs, \n",
    "                 target_variable = 'LPS',\n",
    "                 binarize_target = False,\n",
    "                 explanatory_variables = yoe_cols,\n",
    "                 model = 'random_forest',\n",
    "                 return_type = 'dataframe'): \n",
    "    '''\n",
    "    Predicts the future...duh\n",
    "    \n",
    "    Argument Options:\n",
    "        train_dfs: any set of dataframes, eg. [df_elem_14, df_elem_15, df_elem_16, df_high_17]\n",
    "        synthetic_specs: pre-specified dictionary of variables to change, and by how much\n",
    "        target_variable: any target variable\n",
    "        binarize_target: True/False\n",
    "        explanatory_variables: any list of variables (make sure they exist in every df in train_dfs) \n",
    "        model: 'random_forest' or 'adaboost', more to be added\n",
    "        return_type: 'dataframe' or 'avg'\n",
    "        \n",
    "    '''\n",
    "\n",
    "    # Raise a warning if trying to synthesize a variable that will have no effect on target\n",
    "    for k in list(synthetic_specs):\n",
    "        if k not in explanatory_variables:\n",
    "            warnings.warn('''There are variables included in synthetic_specs which are not included\n",
    "                          in explanatory_variables. Ie. You are attempting to make changes to \n",
    "                          variables which are not being included in the models' predictions. See below''')\n",
    "            print(str(k) + ' is not an explanatory_variable')\n",
    "    \n",
    "    # Select which type of algorithm to fit/train\n",
    "    if model == 'random_forest':\n",
    "        from sklearn.ensemble import RandomForestRegressor\n",
    "        regr = RandomForestRegressor(random_state=0)\n",
    "    if model == 'adaboost':\n",
    "        from sklearn.ensemble import AdaBoostRegressor\n",
    "        regr = AdaBoostRegressor(random_state=0)\n",
    "    # if model == 'anyothermodel':\n",
    "    #   from sklearn import AnyOtherModel\n",
    "    #   regr = AnyOtherModel(random_state=0)\n",
    "        \n",
    "    \n",
    "    # Empty dataframe for appending changes to target variables\n",
    "    all_changes = pd.DataFrame()\n",
    "        \n",
    "    # Train model on given datasets, predict target variable on equivalent synthesized df:\n",
    "    for df in train_dfs:\n",
    "        # Use current df to synthesize data according to synthetic_specs\n",
    "        future_data = synthesize_data(df, synthetic_specs=synthetic_specs)\n",
    "\n",
    "        # x, y variables for training\n",
    "        y = df[target_variable]\n",
    "        x = df[explanatory_variables]\n",
    "\n",
    "        if binarize_target:\n",
    "            y = [1 if value > y.mean() else 0 for value in y.values]\n",
    "\n",
    "        # Fit/predict model\n",
    "        #regr = RandomForestRegressor(random_state=0)\n",
    "        regr.fit(x, y)\n",
    "        future_predictions = regr.predict(future_data[explanatory_variables])\n",
    "\n",
    "        # Calculate changes between future_predicted and original values of target variable\n",
    "        target_var_changes = y - future_predictions\n",
    "\n",
    "        # Append as a column to \"all_changes\" dataframe\"\n",
    "        all_changes[df.name + '_' + target_variable +'_changes'] = target_var_changes\n",
    "            \n",
    "            \n",
    "    if return_type == 'dataframe':    \n",
    "        # Returns the dataframe of each datasets change for each predicted y-value\n",
    "        return all_changes\n",
    "    elif return_type == 'avg':\n",
    "        # returns single average change across all datasets, ignoring NaNs\n",
    "        return np.nanmean(all_changes.values)"
   ]
  },
  {
   "cell_type": "markdown",
   "metadata": {},
   "source": [
    "# Example Usage\n",
    "\n",
    "In the below example, we choose to artificially increase '0-3 Years_Exp_Pct_Tch' by 50%, and to decrease '10+ Years_Exp_Pct_Tch' by 30% (as specified in synthetic_specs). Our function returns that this change, on average made a -15.6% difference in the target variable 'LPS'.\n",
    "\n",
    "**NOTE** that even though the target variable 'LPS' is a binary variable originally, the selected random forest model is a regressor, so will make predictions in the continuous range(0,1). This is a good thing, because we can use binary target variables and still compare by how much different levels of synthesized data change predictions."
   ]
  },
  {
   "cell_type": "code",
   "execution_count": 4,
   "metadata": {
    "collapsed": false,
    "scrolled": true
   },
   "outputs": [
    {
     "data": {
      "text/plain": [
       "-0.1342251938827281"
      ]
     },
     "execution_count": 4,
     "metadata": {},
     "output_type": "execute_result"
    }
   ],
   "source": [
    "synthetic_specs = {'0-3 Years_Exp_Pct_Tch' : 1.5, # Every instance of this variable is multiplied by 1.5\n",
    "                   '10+ Years_Exp_Pct_Tch' : 0.7} # Every instance multiplied by 0.7\n",
    "\n",
    "crystal_ball(train_dfs = all_datasets,\n",
    "             synthetic_specs = synthetic_specs, \n",
    "             target_variable = 'LPS',\n",
    "             binarize_target = False,\n",
    "             explanatory_variables = yoe_cols,\n",
    "             model = 'random_forest',\n",
    "             return_type = 'avg')"
   ]
  },
  {
   "cell_type": "markdown",
   "metadata": {},
   "source": [
    "### Interpreting the warning\n",
    "\n",
    "A warning will be raised if there is a variable in 'synthetic_specs' which does not get used as an explanatory variable in the model. It will have no effect on the model's predictions, so its good to know that although we did synthesize data regarding this variable, it did not get included in predictions.\n",
    "\n",
    "We can test this by looking at a model which \"accidentally\" does not synthesize any data which are included as explanatory_variables"
   ]
  },
  {
   "cell_type": "code",
   "execution_count": 5,
   "metadata": {
    "collapsed": false
   },
   "outputs": [
    {
     "name": "stderr",
     "output_type": "stream",
     "text": [
      "C:\\Users\\k_bea\\AppData\\Local\\Continuum\\Anaconda3\\lib\\site-packages\\ipykernel_launcher.py:38: UserWarning: There are variables included in synthetic_specs which are not included\n",
      "                          in explanatory_variables. Ie. You are attempting to make changes to \n",
      "                          variables which are not being included in the models' predictions. See below\n"
     ]
    },
    {
     "name": "stdout",
     "output_type": "stream",
     "text": [
      "lea_crime_per_c_num is not an explanatory_variable\n",
      "lea_tchyrs_11plus_pct is not an explanatory_variable\n",
      "lea_long_susp_per_c_num is not an explanatory_variable\n"
     ]
    },
    {
     "data": {
      "text/plain": [
       "-0.0061216206421685895"
      ]
     },
     "execution_count": 5,
     "metadata": {},
     "output_type": "execute_result"
    }
   ],
   "source": [
    "# NONE OF THESE VARIABLES ARE IN yoe_cols (which are passed to crystal_ball())\n",
    "synthetic_specs = {'lea_crime_per_c_num' : 1.5,\n",
    "                   'lea_tchyrs_11plus_pct' : 0.9,\n",
    "                   'lea_long_susp_per_c_num' : 100000}\n",
    "\n",
    "crystal_ball(train_dfs = all_datasets,\n",
    "             synthetic_specs = synthetic_specs, \n",
    "             target_variable = 'LPS',\n",
    "             binarize_target = False,\n",
    "             explanatory_variables = yoe_cols, # We pass yoe_cols, none of which have been synthesized\n",
    "             model = 'random_forest',\n",
    "             return_type = 'avg')"
   ]
  },
  {
   "cell_type": "markdown",
   "metadata": {},
   "source": [
    "It worked! The average difference in the prediction on \"synthesized\" data is very minor (-0.006), proving both that the synthesized variables in synthetic_specs were not used in the model, AND also that our model is fairly accurate! \n",
    "\n",
    "** Synthesizing variables which are not used in the model (not passed to crystal_ball() as explanatory variables) succesfully raises a warning, and can even be used to test model accuracy) **"
   ]
  },
  {
   "cell_type": "markdown",
   "metadata": {},
   "source": [
    "# Other example usage\n",
    "\n",
    "The next example shows a limited set of environment_cols (had errors trying to use the full set due to some columns not appearing in all of the dataframes), with different options.\n",
    "\n",
    "Although adaboost can't be directly interpreted, by synthesizing data we can say that changing each of the variables in 'synthetic_specs' by their associated factors leads to a 4.48 increase in the target variable, 'EVAAS Growth Score' (except of course 'lea_tchyrs_11plus_pct', which is properly identified as having not been used in the model)."
   ]
  },
  {
   "cell_type": "code",
   "execution_count": 6,
   "metadata": {
    "collapsed": true
   },
   "outputs": [],
   "source": [
    "limited_environment_cols = ['avg_daily_attend_pct',\n",
    " 'crime_per_c_num',\n",
    " 'short_susp_per_c_num',\n",
    " 'long_susp_per_c_num',\n",
    " 'expelled_per_c_num',\n",
    " 'stud_internet_comp_num',\n",
    " 'lea_avg_daily_attend_pct',\n",
    " 'lea_crime_per_c_num',\n",
    " 'lea_short_susp_per_c_num',\n",
    " 'lea_long_susp_per_c_num',\n",
    " 'lea_expelled_per_c_num',\n",
    " 'lea_stud_internet_comp_num']"
   ]
  },
  {
   "cell_type": "code",
   "execution_count": 7,
   "metadata": {
    "collapsed": false
   },
   "outputs": [
    {
     "name": "stderr",
     "output_type": "stream",
     "text": [
      "C:\\Users\\k_bea\\AppData\\Local\\Continuum\\Anaconda3\\lib\\site-packages\\ipykernel_launcher.py:38: UserWarning: There are variables included in synthetic_specs which are not included\n",
      "                          in explanatory_variables. Ie. You are attempting to make changes to \n",
      "                          variables which are not being included in the models' predictions. See below\n"
     ]
    },
    {
     "name": "stdout",
     "output_type": "stream",
     "text": [
      "lea_tchyrs_11plus_pct is not an explanatory_variable\n"
     ]
    },
    {
     "data": {
      "text/plain": [
       "4.628325468521985"
      ]
     },
     "execution_count": 7,
     "metadata": {},
     "output_type": "execute_result"
    }
   ],
   "source": [
    "# What happens when we increase certain environment variables?\n",
    "synthetic_specs = {'avg_daily_attend_pct' : 1.8,\n",
    "                   'expelled_per_c_num' : 0.5,\n",
    "                   'long_susp_per_c_num' : 0.6,\n",
    "                   'lea_crime_per_c_num' : 0.03,\n",
    "                   'lea_tchyrs_11plus_pct' : 0.1}\n",
    "\n",
    "high_schools_only = [df_high_14, df_high_15, df_high_16, df_high_17]\n",
    "\n",
    "crystal_ball(train_dfs = high_schools_only,\n",
    "             synthetic_specs = synthetic_specs, \n",
    "             target_variable = 'EVAAS Growth Score',\n",
    "             binarize_target = False,\n",
    "             explanatory_variables = limited_environment_cols,\n",
    "             model = 'adaboost',\n",
    "             return_type = 'avg')"
   ]
  },
  {
   "cell_type": "markdown",
   "metadata": {},
   "source": [
    "# Extended Usage\n",
    "\n",
    "Iterating over different levels of factors could show us how much increase/decrease in each explanatory variable could maximize/minimize a given target variable. So say we want to see which teacher variables lead to the best increases in EVAAS growth score:"
   ]
  },
  {
   "cell_type": "code",
   "execution_count": 8,
   "metadata": {
    "collapsed": false
   },
   "outputs": [
    {
     "data": {
      "text/plain": [
       "['0-3 Years_Exp_Pct_Tch',\n",
       " '10+ Years_Exp_Pct_Tch',\n",
       " '4-10 Years_Exp_Pct_Tch',\n",
       " '0-3 Years_LEA_Exp_Pct_Prin',\n",
       " '10+ Years_LEA_Exp_Pct_Prin',\n",
       " '4-10 Years_LEA_Exp_Pct_Prin']"
      ]
     },
     "execution_count": 8,
     "metadata": {},
     "output_type": "execute_result"
    }
   ],
   "source": [
    "yoe_cols"
   ]
  },
  {
   "cell_type": "code",
   "execution_count": 12,
   "metadata": {
    "collapsed": false
   },
   "outputs": [
    {
     "name": "stdout",
     "output_type": "stream",
     "text": [
      "Increase to Explanatory Variable: 1.05\n",
      "Associated change to EVAAS Growth Score: 1.1726173654875\n",
      "--\n",
      "\n",
      "Increase to Explanatory Variable: 1.06\n",
      "Associated change to EVAAS Growth Score: 1.1630270417163049\n",
      "--\n",
      "\n",
      "Increase to Explanatory Variable: 1.07\n",
      "Associated change to EVAAS Growth Score: 1.1766992035164872\n",
      "--\n",
      "\n",
      "Increase to Explanatory Variable: 1.1\n",
      "Associated change to EVAAS Growth Score: 1.1862375866897974\n",
      "--\n",
      "\n",
      "Increase to Explanatory Variable: 1.2\n",
      "Associated change to EVAAS Growth Score: 1.1603828824284144\n",
      "--\n",
      "\n",
      "Increase to Explanatory Variable: 1.9\n",
      "Associated change to EVAAS Growth Score: 1.118647178965067\n",
      "--\n",
      "\n"
     ]
    }
   ],
   "source": [
    "factors = [1.05, 1.06, 1.07, 1.1, 1.2, 1.9]\n",
    "results = []\n",
    "for factor in factors:\n",
    "    synthetic_specs = {'0-3 Years_Exp_Pct_Tch' : factor}\n",
    "    \n",
    "    \n",
    "    result = crystal_ball(train_dfs = high_schools_only,\n",
    "             synthetic_specs = synthetic_specs, \n",
    "             target_variable = 'EVAAS Growth Score',\n",
    "             binarize_target = False,\n",
    "             explanatory_variables = yoe_cols,\n",
    "             model = 'adaboost',\n",
    "             return_type = 'avg')\n",
    "    \n",
    "    results.append(result)\n",
    "    \n",
    "    print('Increase to Explanatory Variable:', factor)\n",
    "    print('Associated change to EVAAS Growth Score:', result)\n",
    "    print('--\\n')\n",
    "    "
   ]
  },
  {
   "cell_type": "code",
   "execution_count": 13,
   "metadata": {
    "collapsed": false
   },
   "outputs": [
    {
     "data": {
      "text/plain": [
       "<matplotlib.text.Text at 0x1e7e3114dd8>"
      ]
     },
     "execution_count": 13,
     "metadata": {},
     "output_type": "execute_result"
    },
    {
     "data": {
      "image/png": "[encoded data removed]",
      "text/plain": [
       "<matplotlib.figure.Figure at 0x1e7e3555048>"
      ]
     },
     "metadata": {},
     "output_type": "display_data"
    }
   ],
   "source": [
    "%matplotlib inline\n",
    "plt.plot(factors, results)\n",
    "plt.xlabel('Factor change to 0-3 Years_Exp_Pct_Tch')\n",
    "plt.ylabel('Factor change to EVAAS Growth')"
   ]
  },
  {
   "cell_type": "markdown",
   "metadata": {},
   "source": [
    "** Could use a similar process to iterate over different factor levels, but also over different models, and then averaging their results as an ensemble **\n",
    "\n",
    "eg:"
   ]
  },
  {
   "cell_type": "code",
   "execution_count": 11,
   "metadata": {
    "collapsed": false
   },
   "outputs": [
    {
     "ename": "SyntaxError",
     "evalue": "invalid syntax (<ipython-input-11-c424e6b3baf3>, line 2)",
     "output_type": "error",
     "traceback": [
      "\u001b[1;36m  File \u001b[1;32m\"<ipython-input-11-c424e6b3baf3>\"\u001b[1;36m, line \u001b[1;32m2\u001b[0m\n\u001b[1;33m    etc etc\u001b[0m\n\u001b[1;37m          ^\u001b[0m\n\u001b[1;31mSyntaxError\u001b[0m\u001b[1;31m:\u001b[0m invalid syntax\n"
     ]
    }
   ],
   "source": [
    "for model in ['adaboost', 'random_forest']:\n",
    "    etc etc"
   ]
  }
 ],
 "metadata": {
  "kernelspec": {
   "display_name": "Python 3",
   "language": "python",
   "name": "python3"
  },
  "language_info": {
   "codemirror_mode": {
    "name": "ipython",
    "version": 3
   },
   "file_extension": ".py",
   "mimetype": "text/x-python",
   "name": "python",
   "nbconvert_exporter": "python",
   "pygments_lexer": "ipython3",
   "version": "3.6.5"
  }
 },
 "nbformat": 4,
 "nbformat_minor": 2
}
