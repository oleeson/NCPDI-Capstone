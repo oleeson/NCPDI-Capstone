{
 "cells": [
  {
   "cell_type": "code",
   "execution_count": 1,
   "metadata": {
    "collapsed": false,
    "scrolled": false
   },
   "outputs": [
    {
     "ename": "FileNotFoundError",
     "evalue": "File b'/Users/Olivia/SMUDS/Capstone/B/Github/Dataset Creation/2014/PublicElementarySchools2014_LPS_Processed.csv' does not exist",
     "output_type": "error",
     "traceback": [
      "\u001b[0;31m---------------------------------------------------------------------------\u001b[0m",
      "\u001b[0;31mFileNotFoundError\u001b[0m                         Traceback (most recent call last)",
      "\u001b[0;32m<ipython-input-1-ed755d0ea661>\u001b[0m in \u001b[0;36m<module>\u001b[0;34m()\u001b[0m\n\u001b[1;32m     16\u001b[0m \u001b[0;34m\u001b[0m\u001b[0m\n\u001b[1;32m     17\u001b[0m \u001b[0;31m# 2014 Datasets\u001b[0m\u001b[0;34m\u001b[0m\u001b[0;34m\u001b[0m\u001b[0m\n\u001b[0;32m---> 18\u001b[0;31m \u001b[0mdf_elem_14\u001b[0m \u001b[0;34m=\u001b[0m \u001b[0mpd\u001b[0m\u001b[0;34m.\u001b[0m\u001b[0mread_csv\u001b[0m\u001b[0;34m(\u001b[0m\u001b[0minitial_path\u001b[0m\u001b[0;34m+\u001b[0m\u001b[0;34m'2014/PublicElementarySchools2014_LPS_Processed.csv'\u001b[0m\u001b[0;34m)\u001b[0m\u001b[0;34m\u001b[0m\u001b[0m\n\u001b[0m\u001b[1;32m     19\u001b[0m \u001b[0mdf_mid_14\u001b[0m \u001b[0;34m=\u001b[0m \u001b[0mpd\u001b[0m\u001b[0;34m.\u001b[0m\u001b[0mread_csv\u001b[0m\u001b[0;34m(\u001b[0m\u001b[0minitial_path\u001b[0m\u001b[0;34m+\u001b[0m\u001b[0;34m'2014/PublicMiddleSchools2014_LPS_Processed.csv'\u001b[0m\u001b[0;34m)\u001b[0m\u001b[0;34m\u001b[0m\u001b[0m\n\u001b[1;32m     20\u001b[0m \u001b[0mdf_high_14\u001b[0m \u001b[0;34m=\u001b[0m \u001b[0mpd\u001b[0m\u001b[0;34m.\u001b[0m\u001b[0mread_csv\u001b[0m\u001b[0;34m(\u001b[0m\u001b[0minitial_path\u001b[0m\u001b[0;34m+\u001b[0m\u001b[0;34m'2014/PublicHighSchools2014_LPS_Processed.csv'\u001b[0m\u001b[0;34m)\u001b[0m\u001b[0;34m\u001b[0m\u001b[0m\n",
      "\u001b[0;32m~/miniconda2/envs/py36/lib/python3.6/site-packages/pandas/io/parsers.py\u001b[0m in \u001b[0;36mparser_f\u001b[0;34m(filepath_or_buffer, sep, delimiter, header, names, index_col, usecols, squeeze, prefix, mangle_dupe_cols, dtype, engine, converters, true_values, false_values, skipinitialspace, skiprows, nrows, na_values, keep_default_na, na_filter, verbose, skip_blank_lines, parse_dates, infer_datetime_format, keep_date_col, date_parser, dayfirst, iterator, chunksize, compression, thousands, decimal, lineterminator, quotechar, quoting, escapechar, comment, encoding, dialect, tupleize_cols, error_bad_lines, warn_bad_lines, skipfooter, skip_footer, doublequote, delim_whitespace, as_recarray, compact_ints, use_unsigned, low_memory, buffer_lines, memory_map, float_precision)\u001b[0m\n\u001b[1;32m    707\u001b[0m                     skip_blank_lines=skip_blank_lines)\n\u001b[1;32m    708\u001b[0m \u001b[0;34m\u001b[0m\u001b[0m\n\u001b[0;32m--> 709\u001b[0;31m         \u001b[0;32mreturn\u001b[0m \u001b[0m_read\u001b[0m\u001b[0;34m(\u001b[0m\u001b[0mfilepath_or_buffer\u001b[0m\u001b[0;34m,\u001b[0m \u001b[0mkwds\u001b[0m\u001b[0;34m)\u001b[0m\u001b[0;34m\u001b[0m\u001b[0m\n\u001b[0m\u001b[1;32m    710\u001b[0m \u001b[0;34m\u001b[0m\u001b[0m\n\u001b[1;32m    711\u001b[0m     \u001b[0mparser_f\u001b[0m\u001b[0;34m.\u001b[0m\u001b[0m__name__\u001b[0m \u001b[0;34m=\u001b[0m \u001b[0mname\u001b[0m\u001b[0;34m\u001b[0m\u001b[0m\n",
      "\u001b[0;32m~/miniconda2/envs/py36/lib/python3.6/site-packages/pandas/io/parsers.py\u001b[0m in \u001b[0;36m_read\u001b[0;34m(filepath_or_buffer, kwds)\u001b[0m\n\u001b[1;32m    447\u001b[0m \u001b[0;34m\u001b[0m\u001b[0m\n\u001b[1;32m    448\u001b[0m     \u001b[0;31m# Create the parser.\u001b[0m\u001b[0;34m\u001b[0m\u001b[0;34m\u001b[0m\u001b[0m\n\u001b[0;32m--> 449\u001b[0;31m     \u001b[0mparser\u001b[0m \u001b[0;34m=\u001b[0m \u001b[0mTextFileReader\u001b[0m\u001b[0;34m(\u001b[0m\u001b[0mfilepath_or_buffer\u001b[0m\u001b[0;34m,\u001b[0m \u001b[0;34m**\u001b[0m\u001b[0mkwds\u001b[0m\u001b[0;34m)\u001b[0m\u001b[0;34m\u001b[0m\u001b[0m\n\u001b[0m\u001b[1;32m    450\u001b[0m \u001b[0;34m\u001b[0m\u001b[0m\n\u001b[1;32m    451\u001b[0m     \u001b[0;32mif\u001b[0m \u001b[0mchunksize\u001b[0m \u001b[0;32mor\u001b[0m \u001b[0miterator\u001b[0m\u001b[0;34m:\u001b[0m\u001b[0;34m\u001b[0m\u001b[0m\n",
      "\u001b[0;32m~/miniconda2/envs/py36/lib/python3.6/site-packages/pandas/io/parsers.py\u001b[0m in \u001b[0;36m__init__\u001b[0;34m(self, f, engine, **kwds)\u001b[0m\n\u001b[1;32m    816\u001b[0m             \u001b[0mself\u001b[0m\u001b[0;34m.\u001b[0m\u001b[0moptions\u001b[0m\u001b[0;34m[\u001b[0m\u001b[0;34m'has_index_names'\u001b[0m\u001b[0;34m]\u001b[0m \u001b[0;34m=\u001b[0m \u001b[0mkwds\u001b[0m\u001b[0;34m[\u001b[0m\u001b[0;34m'has_index_names'\u001b[0m\u001b[0;34m]\u001b[0m\u001b[0;34m\u001b[0m\u001b[0m\n\u001b[1;32m    817\u001b[0m \u001b[0;34m\u001b[0m\u001b[0m\n\u001b[0;32m--> 818\u001b[0;31m         \u001b[0mself\u001b[0m\u001b[0;34m.\u001b[0m\u001b[0m_make_engine\u001b[0m\u001b[0;34m(\u001b[0m\u001b[0mself\u001b[0m\u001b[0;34m.\u001b[0m\u001b[0mengine\u001b[0m\u001b[0;34m)\u001b[0m\u001b[0;34m\u001b[0m\u001b[0m\n\u001b[0m\u001b[1;32m    819\u001b[0m \u001b[0;34m\u001b[0m\u001b[0m\n\u001b[1;32m    820\u001b[0m     \u001b[0;32mdef\u001b[0m \u001b[0mclose\u001b[0m\u001b[0;34m(\u001b[0m\u001b[0mself\u001b[0m\u001b[0;34m)\u001b[0m\u001b[0;34m:\u001b[0m\u001b[0;34m\u001b[0m\u001b[0m\n",
      "\u001b[0;32m~/miniconda2/envs/py36/lib/python3.6/site-packages/pandas/io/parsers.py\u001b[0m in \u001b[0;36m_make_engine\u001b[0;34m(self, engine)\u001b[0m\n\u001b[1;32m   1047\u001b[0m     \u001b[0;32mdef\u001b[0m \u001b[0m_make_engine\u001b[0m\u001b[0;34m(\u001b[0m\u001b[0mself\u001b[0m\u001b[0;34m,\u001b[0m \u001b[0mengine\u001b[0m\u001b[0;34m=\u001b[0m\u001b[0;34m'c'\u001b[0m\u001b[0;34m)\u001b[0m\u001b[0;34m:\u001b[0m\u001b[0;34m\u001b[0m\u001b[0m\n\u001b[1;32m   1048\u001b[0m         \u001b[0;32mif\u001b[0m \u001b[0mengine\u001b[0m \u001b[0;34m==\u001b[0m \u001b[0;34m'c'\u001b[0m\u001b[0;34m:\u001b[0m\u001b[0;34m\u001b[0m\u001b[0m\n\u001b[0;32m-> 1049\u001b[0;31m             \u001b[0mself\u001b[0m\u001b[0;34m.\u001b[0m\u001b[0m_engine\u001b[0m \u001b[0;34m=\u001b[0m \u001b[0mCParserWrapper\u001b[0m\u001b[0;34m(\u001b[0m\u001b[0mself\u001b[0m\u001b[0;34m.\u001b[0m\u001b[0mf\u001b[0m\u001b[0;34m,\u001b[0m \u001b[0;34m**\u001b[0m\u001b[0mself\u001b[0m\u001b[0;34m.\u001b[0m\u001b[0moptions\u001b[0m\u001b[0;34m)\u001b[0m\u001b[0;34m\u001b[0m\u001b[0m\n\u001b[0m\u001b[1;32m   1050\u001b[0m         \u001b[0;32melse\u001b[0m\u001b[0;34m:\u001b[0m\u001b[0;34m\u001b[0m\u001b[0m\n\u001b[1;32m   1051\u001b[0m             \u001b[0;32mif\u001b[0m \u001b[0mengine\u001b[0m \u001b[0;34m==\u001b[0m \u001b[0;34m'python'\u001b[0m\u001b[0;34m:\u001b[0m\u001b[0;34m\u001b[0m\u001b[0m\n",
      "\u001b[0;32m~/miniconda2/envs/py36/lib/python3.6/site-packages/pandas/io/parsers.py\u001b[0m in \u001b[0;36m__init__\u001b[0;34m(self, src, **kwds)\u001b[0m\n\u001b[1;32m   1693\u001b[0m         \u001b[0mkwds\u001b[0m\u001b[0;34m[\u001b[0m\u001b[0;34m'allow_leading_cols'\u001b[0m\u001b[0;34m]\u001b[0m \u001b[0;34m=\u001b[0m \u001b[0mself\u001b[0m\u001b[0;34m.\u001b[0m\u001b[0mindex_col\u001b[0m \u001b[0;32mis\u001b[0m \u001b[0;32mnot\u001b[0m \u001b[0;32mFalse\u001b[0m\u001b[0;34m\u001b[0m\u001b[0m\n\u001b[1;32m   1694\u001b[0m \u001b[0;34m\u001b[0m\u001b[0m\n\u001b[0;32m-> 1695\u001b[0;31m         \u001b[0mself\u001b[0m\u001b[0;34m.\u001b[0m\u001b[0m_reader\u001b[0m \u001b[0;34m=\u001b[0m \u001b[0mparsers\u001b[0m\u001b[0;34m.\u001b[0m\u001b[0mTextReader\u001b[0m\u001b[0;34m(\u001b[0m\u001b[0msrc\u001b[0m\u001b[0;34m,\u001b[0m \u001b[0;34m**\u001b[0m\u001b[0mkwds\u001b[0m\u001b[0;34m)\u001b[0m\u001b[0;34m\u001b[0m\u001b[0m\n\u001b[0m\u001b[1;32m   1696\u001b[0m \u001b[0;34m\u001b[0m\u001b[0m\n\u001b[1;32m   1697\u001b[0m         \u001b[0;31m# XXX\u001b[0m\u001b[0;34m\u001b[0m\u001b[0;34m\u001b[0m\u001b[0m\n",
      "\u001b[0;32mpandas/_libs/parsers.pyx\u001b[0m in \u001b[0;36mpandas._libs.parsers.TextReader.__cinit__\u001b[0;34m()\u001b[0m\n",
      "\u001b[0;32mpandas/_libs/parsers.pyx\u001b[0m in \u001b[0;36mpandas._libs.parsers.TextReader._setup_parser_source\u001b[0;34m()\u001b[0m\n",
      "\u001b[0;31mFileNotFoundError\u001b[0m: File b'/Users/Olivia/SMUDS/Capstone/B/Github/Dataset Creation/2014/PublicElementarySchools2014_LPS_Processed.csv' does not exist"
     ]
    }
   ],
   "source": [
    "import pandas as pd\n",
    "import numpy as np\n",
    "from sklearn import preprocessing\n",
    "from xgboost import XGBClassifier\n",
    "from xgboost import plot_importance\n",
    "from matplotlib import pyplot as plt\n",
    "import pickle\n",
    "import seaborn as sns\n",
    "sns.set(color_codes=True)\n",
    "\n",
    "import os\n",
    "os.environ[\"KMP_DUPLICATE_LIB_OK\"]=\"TRUE\"\n",
    "\n",
    "# Loading data\n",
    "initial_path = '/Users/Olivia/SMUDS/Capstone/B/Github/DatasetCreation/'\n",
    "\n",
    "# 2014 Datasets\n",
    "df_elem_14 = pd.read_csv(initial_path+'2014/PublicElementarySchools2014_LPS_Processed.csv')\n",
    "df_mid_14 = pd.read_csv(initial_path+'2014/PublicMiddleSchools2014_LPS_Processed.csv')\n",
    "df_high_14 = pd.read_csv(initial_path+'2014/PublicHighSchools2014_LPS_Processed.csv')\n",
    "\n",
    "# 2015 Datasets\n",
    "df_elem_15 = pd.read_csv(initial_path+'2015/PublicElementarySchools2015_LPS_Processed.csv')\n",
    "df_mid_15 = pd.read_csv(initial_path+'2015/PublicMiddleSchools2015_LPS_Processed.csv')\n",
    "df_high_15 = pd.read_csv(initial_path+'2015/PublicHighSchools2015_LPS_Processed.csv')\n",
    "\n",
    "# 2016 Datasets\n",
    "df_elem_16 = pd.read_csv(initial_path+'2016/PublicElementarySchools2016_LPS_Processed.csv')\n",
    "df_mid_16 = pd.read_csv(initial_path+'2016/PublicMiddleSchools2016_LPS_Processed.csv')\n",
    "df_high_16 = pd.read_csv(initial_path+'2016/PublicHighSchools2016_LPS_Processed.csv')\n",
    "\n",
    "# 2017 Datasets\n",
    "df_elem_17 = pd.read_csv(initial_path+'2017/PublicElementarySchools2017_LPS_Processed.csv')\n",
    "df_mid_17 = pd.read_csv(initial_path+'2017/PublicMiddleSchools2017_LPS_Processed.csv')\n",
    "df_high_17 = pd.read_csv(initial_path+'2017/PublicHighSchools2017_LPS_Processed.csv')\n",
    "\n",
    "# Changing to LPS so it works with the xgboost functions\n",
    "df_elem_17 = df_elem_17.rename(columns = {'LPS_17' : 'LPS'})\n",
    "df_mid_17 = df_mid_17.rename(columns = {'LPS_17' : 'LPS'})\n",
    "df_high_17 = df_high_17.rename(columns = {'LPS_17' : 'LPS'})\n",
    "\n",
    "\n",
    "# Loading in columns for different categories\n",
    "fileObject = open(initial_path+'2014/TableColumns/environmentCols_14.pkl', 'rb')\n",
    "environment_cols = pickle.load(fileObject)\n",
    "\n",
    "fileObject = open(initial_path+'2014/TableColumns/personnelCols_14.pkl', 'rb')\n",
    "personnel_cols = pickle.load(fileObject)\n",
    "\n",
    "fileObject = open(initial_path+'2014/TableColumns//yoeCols_14.pkl', 'rb')\n",
    "yoe_cols = pickle.load(fileObject)\n",
    "\n",
    "# Full list of columns, including Personnel, Environment, and Teacher Experience Variables\n",
    "combined_cols = (environment_cols + list(set(personnel_cols) - set(environment_cols)))\n",
    "yoe_cols = ['0-3 Years_Exp_Pct_Tch',\n",
    "            '10+ Years_Exp_Pct_Tch',\n",
    "            '4-10 Years_Exp_Pct_Tch',\n",
    "            '0-3 Years_LEA_Exp_Pct_Prin',\n",
    "            '10+ Years_LEA_Exp_Pct_Prin',\n",
    "            '4-10 Years_LEA_Exp_Pct_Prin']\n",
    "for col in yoe_cols:\n",
    "    combined_cols.append(col)\n",
    "combined_cols.append('LPS')\n",
    "\n",
    "\n",
    "# Subsets each dataframe based on the columns it shares with the \n",
    "# three sets of variables found in \"combined_cols\" (environment, personnel, and yoe)\n",
    "df_elem_14 = df_elem_14[df_elem_14.columns.intersection(combined_cols)]\n",
    "df_mid_14 = df_mid_14[df_mid_14.columns.intersection(combined_cols)]\n",
    "df_high_14 = df_high_14[df_high_14.columns.intersection(combined_cols)]\n",
    "df_elem_15 = df_elem_15[df_elem_15.columns.intersection(combined_cols)]\n",
    "df_mid_15 = df_mid_15[df_mid_15.columns.intersection(combined_cols)]\n",
    "df_high_15 = df_high_15[df_high_15.columns.intersection(combined_cols)]\n",
    "df_elem_16 = df_elem_16[df_elem_16.columns.intersection(combined_cols)]\n",
    "df_mid_16 = df_mid_16[df_mid_16.columns.intersection(combined_cols)]\n",
    "df_high_16 = df_high_16[df_high_16.columns.intersection(combined_cols)]\n",
    "df_elem_17 = df_elem_17[df_elem_17.columns.intersection(combined_cols)]\n",
    "df_mid_17 = df_mid_17[df_mid_17.columns.intersection(combined_cols)]\n",
    "df_high_17 = df_high_17[df_high_17.columns.intersection(combined_cols)]\n",
    "\n",
    "# Storing dfs in list for later iteration\n",
    "all_datasets = [df_elem_14, df_mid_14, df_high_14,\n",
    "                df_elem_15, df_mid_15, df_high_15,\n",
    "                df_elem_16, df_mid_16, df_high_16,\n",
    "                df_elem_17, df_mid_17, df_high_17]"
   ]
  },
  {
   "cell_type": "code",
   "execution_count": null,
   "metadata": {
    "collapsed": true
   },
   "outputs": [],
   "source": [
    "def xg_booster_seat(df, varset='all'):\n",
    "    '''Performs xgboost on given set of variables, \n",
    "        returns feature importances'''\n",
    "    \n",
    "    # Subsetting variables if necessary\n",
    "    if varset == 'all':\n",
    "        df = df\n",
    "    else:\n",
    "        df = df[df.columns.intersection(varset)]\n",
    "    \n",
    "    # Predicting LPS\n",
    "    y = df['LPS']\n",
    "    x = df.drop('LPS', axis=1)\n",
    "        \n",
    "    # Fitting the model\n",
    "    model = XGBClassifier(nthread=4)\n",
    "    model.fit(x, y)\n",
    "   \n",
    "    # Storing feature importances in dataframe\n",
    "    feat_importances = pd.DataFrame(model.feature_importances_, index=x.columns)\n",
    "    \n",
    "    return feat_importances\n",
    "\n",
    "col_names = [\"df_elem_14_featimp\", \"df_mid_14_featimp\", \"df_high_14_featimp\",\n",
    "            \"df_elem_15_featimp\", \"df_mid_15_featimp\", \"df_high_15_featimp\",\n",
    "            \"df_elem_16_featimp\", \"df_mid_16_featimp\", \"df_high_16_featimp\",\n",
    "            \"df_elem_17_featimp\", \"df_mid_17_featimp\", \"df_high_17_featimp\"]\n",
    "\n",
    "def get_importances(col_names=col_names, varset='all'):\n",
    "    \n",
    "    importances = pd.DataFrame()\n",
    "    for df in all_datasets:\n",
    "        temp = xg_booster_seat(df, varset=varset)\n",
    "        importances = pd.concat([importances, temp], axis=1)\n",
    "    \n",
    "    importances.columns = col_names\n",
    "    importances['mean'] = importances.mean(axis=1)\n",
    "    importances['std'] = importances.std(axis=1)\n",
    "    \n",
    "    return importances"
   ]
  },
  {
   "cell_type": "markdown",
   "metadata": {},
   "source": [
    "# Environment, Personnel, and YOE Variables"
   ]
  },
  {
   "cell_type": "code",
   "execution_count": null,
   "metadata": {
    "collapsed": true
   },
   "outputs": [],
   "source": [
    "%matplotlib inline"
   ]
  },
  {
   "cell_type": "code",
   "execution_count": null,
   "metadata": {
    "collapsed": false
   },
   "outputs": [],
   "source": [
    "all_importances = get_importances()"
   ]
  },
  {
   "cell_type": "code",
   "execution_count": null,
   "metadata": {
    "collapsed": true
   },
   "outputs": [],
   "source": [
    "all_importances_plots = all_importances.sort_values('mean', ascending=False).T.drop(['mean','std'], axis=0)"
   ]
  },
  {
   "cell_type": "code",
   "execution_count": null,
   "metadata": {
    "collapsed": false
   },
   "outputs": [],
   "source": [
    "all_importances_plots"
   ]
  },
  {
   "cell_type": "code",
   "execution_count": null,
   "metadata": {
    "collapsed": false
   },
   "outputs": [],
   "source": [
    "all_importances_plots.boxplot(figsize=(20,10), rot=90)"
   ]
  },
  {
   "cell_type": "markdown",
   "metadata": {},
   "source": [
    "# Environment Variables Only"
   ]
  },
  {
   "cell_type": "code",
   "execution_count": null,
   "metadata": {
    "collapsed": true
   },
   "outputs": [],
   "source": [
    "environment_vars = [\n",
    " 'category_cd',\n",
    " 'avg_daily_attend_pct',\n",
    " 'crime_per_c_num',\n",
    " 'short_susp_per_c_num',\n",
    " 'long_susp_per_c_num',\n",
    " 'expelled_per_c_num',\n",
    " 'ttl_crimes_num',\n",
    " 'stud_internet_comp_num',\n",
    " 'lea_avg_daily_attend_pct',\n",
    " 'lea_crime_per_c_num',\n",
    " 'lea_short_susp_per_c_num',\n",
    " 'lea_long_susp_per_c_num',\n",
    " 'lea_expelled_per_c_num',\n",
    " 'lea_stud_internet_comp_num',\n",
    " 'st_avg_daily_attend_pct',\n",
    " 'st_crime_per_c_num',\n",
    " 'st_short_susp_per_c_num',\n",
    " 'st_long_susp_per_c_num',\n",
    " 'st_expelled_per_c_num',\n",
    " 'st_stud_internet_comp_num',\n",
    " 'digital_media_pct',\n",
    " 'Byod',\n",
    " 'grades_BYOD',\n",
    " 'avg_age_media_collection',\n",
    " '_1_to_1_access',\n",
    " 'books_per_student',\n",
    " 'grades_1_to_1_access',\n",
    " 'lea_avg_age_media_collection',\n",
    " 'lea_books_per_student',\n",
    " 'st_avg_age_media_collection',\n",
    " 'st_books_per_student',\n",
    " 'wap_num',\n",
    " 'wap_per_classroom',\n",
    " 'lea_wap_num',\n",
    " 'lea_wap_per_classroom',\n",
    " 'st_wap_num',\n",
    " 'st_wap_per_classroom',\n",
    " 'SRC_devices_sent_home',\n",
    " 'SRC_Grades_Devices_Sent_Home',\n",
    " 'LPS']"
   ]
  },
  {
   "cell_type": "code",
   "execution_count": null,
   "metadata": {
    "collapsed": false
   },
   "outputs": [],
   "source": [
    "environment_importances = get_importances(varset=environment_vars)\n",
    "environment_importances_plots = environment_importances.sort_values('mean', ascending=False).T.drop(['mean','std'], axis=0)\n",
    "environment_importances_plots.boxplot(figsize=(20,10), rot=90)"
   ]
  },
  {
   "cell_type": "markdown",
   "metadata": {},
   "source": [
    "# Personnel Variables Only"
   ]
  },
  {
   "cell_type": "code",
   "execution_count": null,
   "metadata": {
    "collapsed": true
   },
   "outputs": [],
   "source": [
    "personnel_vars = ['category_cd',\n",
    " 'total_class_teacher_num',\n",
    " 'total_nbpts_num',\n",
    " 'prin_other_pct',\n",
    " 'prinyrs_0thru3_pct',\n",
    " 'prinyrs_4thru10_pct',\n",
    " 'prinyrs_11plus_pct',\n",
    " 'prin_advance_dgr_pct',\n",
    " '_1yr_prin_trnovr_pct',\n",
    " 'prin_male_pct',\n",
    " 'prin_female_pct',\n",
    " 'prin_black_pct',\n",
    " 'prin_white_pct',\n",
    " 'flicensed_teach_pct',\n",
    " 'tchyrs_0thru3_pct',\n",
    " 'tchyrs_4thru10_pct',\n",
    " 'tchyrs_11plus_pct',\n",
    " 'class_teach_num',\n",
    " 'nbpts_num',\n",
    " 'advance_dgr_pct',\n",
    " '_1yr_tchr_trnovr_pct',\n",
    " 'emer_prov_teach_pct',\n",
    " 'lateral_teach_pct',\n",
    " 'highqual_class_pct',\n",
    " 'lea_flicensed_teach_pct',\n",
    " 'lea_tchyrs_0thru3_pct',\n",
    " 'lea_tchyrs_4thru10_pct',\n",
    " 'lea_tchyrs_11plus_pct',\n",
    " 'lea_class_teach_num',\n",
    " 'lea_nbpts_num',\n",
    " 'lea_advance_dgr_pct',\n",
    " 'lea_1yr_tchr_trnovr_pct',\n",
    " 'lea_emer_prov_teach_pct',\n",
    " 'lea_lateral_teach_pct',\n",
    " 'lea_highqual_class_pct',\n",
    " 'lea_highqual_class_hp_pct',\n",
    " 'lea_highqual_class_lp_pct',\n",
    " 'lea_highqual_class_all_pct',\n",
    " 'lea_not_highqual_class_hp_pct',\n",
    " 'lea_not_highqual_class_lp_pct',\n",
    " 'lea_not_highqual_class_all_pct',\n",
    " 'st_flicensed_teach_pct',\n",
    " 'st_tchyrs_0thru3_pct',\n",
    " 'st_tchyrs_4thru10_pct',\n",
    " 'st_tchyrs_11plus_pct',\n",
    " 'st_class_teach_num',\n",
    " 'st_nbpts_num',\n",
    " 'st_advance_dgr_pct',\n",
    " 'st_1yr_tchr_trnovr_pct',\n",
    " 'st_emer_prov_teach_pct',\n",
    " 'st_lateral_teach_pct',\n",
    " 'st_highqual_class_pct',\n",
    " 'st_highqual_class_hp_pct',\n",
    " 'st_highqual_class_lp_pct',\n",
    " 'st_highqual_class_all_pct',\n",
    " 'st_not_highqual_class_hp_pct',\n",
    " 'st_not_highqual_class_lp_pct',\n",
    " 'st_not_highqual_class_all_pct',\n",
    " 'st_prinyrs_0thru3_pct',\n",
    " 'st_prinyrs_4thru10_pct',\n",
    " 'st_prinyrs_11plus_pct',\n",
    " 'st_prin_advance_dgr_pct',\n",
    " 'st_1yr_prin_trnovr_pct',\n",
    " 'st_prin_male_pct',\n",
    " 'st_prin_female_pct',\n",
    " 'st_prin_black_pct',\n",
    " 'st_prin_white_pct',\n",
    " 'st_prin_other_pct',\n",
    " 'LPS']"
   ]
  },
  {
   "cell_type": "code",
   "execution_count": null,
   "metadata": {
    "collapsed": false
   },
   "outputs": [],
   "source": [
    "personnel_importances = get_importances(varset=personnel_vars)\n",
    "personnel_importances_plots = personnel_importances.sort_values('mean', ascending=False).T.drop(['mean','std'], axis=0)\n",
    "personnel_importances_plots.boxplot(figsize=(20,10), rot=90)"
   ]
  },
  {
   "cell_type": "markdown",
   "metadata": {},
   "source": [
    "# YOE Variables Only\n",
    "\n",
    "Not sure if this really makes sense given that each variable is a percentage of the whole set of variables...\n",
    "\n",
    "Would need to look at a regression coefficient (or synthesized data) to determine which ones really carry significant meanings"
   ]
  },
  {
   "cell_type": "code",
   "execution_count": null,
   "metadata": {
    "collapsed": true
   },
   "outputs": [],
   "source": [
    "yoe_vars = ['0-3 Years_Exp_Pct_Tch',\n",
    " '10+ Years_Exp_Pct_Tch',\n",
    " '4-10 Years_Exp_Pct_Tch',\n",
    " '0-3 Years_LEA_Exp_Pct_Prin',\n",
    " '10+ Years_LEA_Exp_Pct_Prin',\n",
    " '4-10 Years_LEA_Exp_Pct_Prin',\n",
    " 'LPS']"
   ]
  },
  {
   "cell_type": "code",
   "execution_count": null,
   "metadata": {
    "collapsed": false
   },
   "outputs": [],
   "source": [
    "yoe_importances = get_importances(varset=yoe_vars)\n",
    "yoe_importances_plots = yoe_importances.sort_values('mean', ascending=False).T.drop(['mean','std'], axis=0)\n",
    "yoe_importances_plots.boxplot(figsize=(20,10), rot=90)"
   ]
  },
  {
   "cell_type": "markdown",
   "metadata": {
    "collapsed": true
   },
   "source": [
    "# High School Only"
   ]
  },
  {
   "cell_type": "code",
   "execution_count": null,
   "metadata": {
    "collapsed": true
   },
   "outputs": [],
   "source": [
    "high_school_datasets = [df_high_14,\n",
    "                        df_high_15,\n",
    "                        df_high_16,\n",
    "                        df_high_17]\n",
    "\n",
    "col_names = [\"df_high_14_featimp\",\n",
    "            \"df_high_15_featimp\",\n",
    "            \"df_high_16_featimp\",\n",
    "            \"df_high_17_featimp\"]\n",
    "\n",
    "def get_importances(col_names=col_names, varset='all'):\n",
    "    \n",
    "    importances = pd.DataFrame()\n",
    "    for df in high_school_datasets:\n",
    "        temp = xg_booster_seat(df, varset=varset)\n",
    "        importances = pd.concat([importances, temp], axis=1)\n",
    "    \n",
    "    importances.columns = col_names\n",
    "    importances['mean'] = importances.mean(axis=1)\n",
    "    importances['std'] = importances.std(axis=1)\n",
    "    \n",
    "    return importances"
   ]
  },
  {
   "cell_type": "code",
   "execution_count": null,
   "metadata": {
    "collapsed": false
   },
   "outputs": [],
   "source": [
    "high_school_importances = get_importances()\n",
    "high_school_importances_plots = high_school_importances.sort_values('mean', ascending=False).T.drop(['mean','std'], axis=0)\n",
    "high_school_importances_plots.boxplot(figsize=(20,10), rot=90)"
   ]
  },
  {
   "cell_type": "markdown",
   "metadata": {},
   "source": [
    "# Middle School Only"
   ]
  },
  {
   "cell_type": "code",
   "execution_count": null,
   "metadata": {
    "collapsed": false
   },
   "outputs": [],
   "source": [
    "mid_school_datasets = [df_mid_14,\n",
    "                        df_mid_15,\n",
    "                        df_mid_16,\n",
    "                        df_mid_17]\n",
    "\n",
    "col_names = [\"df_mid_14_featimp\",\n",
    "            \"df_mid_15_featimp\",\n",
    "            \"df_mid_16_featimp\",\n",
    "            \"df_mid_17_featimp\"]\n",
    "\n",
    "def get_importances(col_names=col_names, varset='all'):\n",
    "    \n",
    "    importances = pd.DataFrame()\n",
    "    for df in mid_school_datasets:\n",
    "        temp = xg_booster_seat(df, varset=varset)\n",
    "        importances = pd.concat([importances, temp], axis=1)\n",
    "    \n",
    "    importances.columns = col_names\n",
    "    importances['mean'] = importances.mean(axis=1)\n",
    "    importances['std'] = importances.std(axis=1)\n",
    "    \n",
    "    return importances\n",
    "\n",
    "mid_school_importances = get_importances()\n",
    "mid_school_importances_plots = mid_school_importances.sort_values('mean', ascending=False).T.drop(['mean','std'], axis=0)\n",
    "mid_school_importances_plots.boxplot(figsize=(20,10), rot=90)"
   ]
  },
  {
   "cell_type": "markdown",
   "metadata": {},
   "source": [
    "# Elementary School Only"
   ]
  },
  {
   "cell_type": "code",
   "execution_count": null,
   "metadata": {
    "collapsed": false
   },
   "outputs": [],
   "source": [
    "elem_school_datasets = [df_elem_14,\n",
    "                        df_elem_15,\n",
    "                        df_elem_16,\n",
    "                        df_elem_17]\n",
    "\n",
    "col_names = [\"df_elem_14_featimp\",\n",
    "            \"df_elem_15_featimp\",\n",
    "            \"df_elem_16_featimp\",\n",
    "            \"df_elem_17_featimp\"]\n",
    "\n",
    "def get_importances(col_names=col_names, varset='all'):\n",
    "    \n",
    "    importances = pd.DataFrame()\n",
    "    for df in elem_school_datasets:\n",
    "        temp = xg_booster_seat(df, varset=varset)\n",
    "        importances = pd.concat([importances, temp], axis=1)\n",
    "    \n",
    "    importances.columns = col_names\n",
    "    importances['mean'] = importances.mean(axis=1)\n",
    "    importances['std'] = importances.std(axis=1)\n",
    "    \n",
    "    return importances\n",
    "\n",
    "elem_school_importances = get_importances()\n",
    "elem_school_importances_plots = elem_school_importances.sort_values('mean', ascending=False).T.drop(['mean','std'], axis=0)\n",
    "elem_school_importances_plots.boxplot(figsize=(20,10), rot=90)"
   ]
  },
  {
   "cell_type": "code",
   "execution_count": null,
   "metadata": {
    "collapsed": true
   },
   "outputs": [],
   "source": []
  }
 ],
 "metadata": {
  "kernelspec": {
   "display_name": "Python 3",
   "language": "python",
   "name": "python3"
  },
  "language_info": {
   "codemirror_mode": {
    "name": "ipython",
    "version": 3
   },
   "file_extension": ".py",
   "mimetype": "text/x-python",
   "name": "python",
   "nbconvert_exporter": "python",
   "pygments_lexer": "ipython3",
   "version": "3.6.5"
  }
 },
 "nbformat": 4,
 "nbformat_minor": 2
}
