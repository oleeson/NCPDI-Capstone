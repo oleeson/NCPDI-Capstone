{
 "cells": [
  {
   "cell_type": "markdown",
   "metadata": {
    "collapsed": true
   },
   "source": [
    "# Create Public School Machine Learning Datasets\n",
    "** This program creates all the _ML datasets in the NCEA repository.** \n",
    "* This notebook reads each School Dataset file located at \\EducationDataNC\\ *schoolYear* \\School Datasets\\ as input data.\n",
    "* Different school years are processed by changing the *schoolYear* parameter.\n",
    "* Different input / output files are processed / created by changing the *inputFileName* paramter in the cell below.  \n",
    "* While a single program is used to create all the _ML datasets, one program copy per dataset is maintained in the repositiory so the dataset specific tranformation reports may be reviewed. \n",
    "\n",
    "**Datasets ending in ML are preprocessed for Machine Learning and go through the following transformations: **\n",
    "1. Missing student body racial compositions are imputed using district averages.\n",
    "2. Columns that have the same value in every single row are deleted.\n",
    "3. Columns that have a unique value in every single row (all values are different) are deleted.\n",
    "4. Empty columns (all values are NA or NULL) are deleted.\n",
    "5. Numeric columns with more than the percentage of missing values specified by the *missingThreshold* parameter.\n",
    "6. Remaining numeric, non-race columns with missing values are imputed / populated with 0.  In many cases, schools are not reporting values when they are zero. However, mean imputation or some other more sophisticated strategy might be considered here.\n",
    "7. Categorical / text based columns with > *uniqueThreshold* unique values are deleted.\n",
    "8. All remaining categorical / text based columns are one-hot encoded.  In categorical columns, one-hot encoding creates one new boolean / binary field per unique value in the target column, converting all categorical columns to a numeric data type. \n",
    "9. Duplicated or highly similar columns with > 95% correlation are delelted.    "
   ]
  },
  {
   "cell_type": "code",
   "execution_count": 1,
   "metadata": {
    "scrolled": true
   },
   "outputs": [
    {
     "name": "stdout",
     "output_type": "stream",
     "text": [
      "*********Start: Beginning Column and Row Counts********************************************\n",
      "<class 'pandas.core.frame.DataFrame'>\n",
      "RangeIndex: 2561 entries, 0 to 2560\n",
      "Columns: 365 entries, vphone_ad to WhitePct\n",
      "dtypes: float64(331), int64(3), object(31)\n",
      "memory usage: 7.1+ MB\n",
      "\r\n",
      "*********After: Selecting Only Public School Campuses**********************************\n",
      "<class 'pandas.core.frame.DataFrame'>\n",
      "Int64Index: 2426 entries, 0 to 2560\n",
      "Columns: 365 entries, vphone_ad to WhitePct\n",
      "dtypes: float64(331), int64(3), object(31)\n",
      "memory usage: 6.8+ MB\n"
     ]
    }
   ],
   "source": [
    "#import required Libraries\n",
    "import pandas as pd\n",
    "import numpy as np\n",
    "import os\n",
    "import string\n",
    "\n",
    "import warnings\n",
    "warnings.filterwarnings(\"ignore\")\n",
    "\n",
    "#**********************************************************************************\n",
    "# Set the following variables before running this code!!!\n",
    "#**********************************************************************************\n",
    "#All raw data files are processed for the year below\n",
    "schoolYear = 2014\n",
    "\n",
    "#Location where copies of the raw data files will be read in from csv files.\n",
    "dataDir = '/Users/Olivia/SMUDS/Capstone/B/2014/'\n",
    "\n",
    "#Name of the file to be processed\n",
    "inputFileName = 'PublicSchools' + str(schoolYear)\n",
    "#inputFileName = 'PublicHighSchools' + str(schoolYear)\n",
    "#inputFileName = 'PublicMiddleSchools' + str(schoolYear)\n",
    "#inputFileName = 'PublicElementarySchools' + str(schoolYear)\n",
    "\n",
    "#Input file being transformed for machine learning \n",
    "inputFile = dataDir + inputFileName + '.csv'\n",
    "\n",
    "#Location where the new school datasets will be created.\n",
    "outputDir = '/Users/Olivia/SMUDS/Capstone/B/2014/'\n",
    "\n",
    "#Missing Data Threshold (Per Column)\n",
    "missingThreshold = 0.95\n",
    "\n",
    "#Unique Value Threshold (Per Column)\n",
    "#Delete Columns >  uniqueThreshold unique values prior to one-hot encoding. \n",
    "#(each unique value becomes a new column during one-hot encoding)\n",
    "uniqueThreshold = 25\n",
    "\n",
    "#Read in the School Data File\n",
    "schoolData = pd.read_csv(inputFile, low_memory=False, dtype={'unit_code': object})\n",
    "print('*********Start: Beginning Column and Row Counts********************************************')\n",
    "schoolData.info(verbose=False)\n",
    "\n",
    "#Select only public schools as charter schools are missing data for many columns.\n",
    "schoolData = schoolData[(schoolData['type_cd'] == 'P') & (schoolData['student_num'] > 0)]\n",
    "\n",
    "print('\\r\\n*********After: Selecting Only Public School Campuses**********************************')\n",
    "schoolData.info(verbose=False)\n",
    "\n",
    "#Save primary key\n",
    "unit_code = schoolData['unit_code']\n",
    "#Convert zip code to string\n",
    "schoolData['szip_ad'] = schoolData['szip_ad'].astype('object')\n",
    "#Rename Lea_Name to District Name\n",
    "schoolData.rename(columns={'Lea_Name': 'District Name'}, inplace=True)"
   ]
  },
  {
   "cell_type": "code",
   "execution_count": 2,
   "metadata": {
    "collapsed": true
   },
   "outputs": [],
   "source": [
    "#create new column that equals 1 if low Performing\n",
    "schoolData['LPS'] = np.where(schoolData['SPG Grade'].isin(['F', 'D'])&\n",
    "                            schoolData['EVAAS Growth Status'].isin(['NotMet', 'Met']),\n",
    "                            1, 0)"
   ]
  },
  {
   "cell_type": "markdown",
   "metadata": {},
   "source": [
    "# Prepare Consolidated Dataset for Machine Learning\n",
    "**Below we perform operations on the entire dataset to remove columns and update row values that could cause problems during machine learning.**"
   ]
  },
  {
   "cell_type": "markdown",
   "metadata": {},
   "source": [
    "## Student Body Racial Composition Features \n",
    "**Impute / update missing Student Body Racial Composition Fields using mean imputation.**\n",
    "* When there are no racial composition percentages for a particular school campus / unit_code, fill in the missing values "
   ]
  },
  {
   "cell_type": "code",
   "execution_count": 3,
   "metadata": {
    "collapsed": true,
    "scrolled": false
   },
   "outputs": [],
   "source": [
    "#schoolData.info(verbose=True)"
   ]
  },
  {
   "cell_type": "markdown",
   "metadata": {},
   "source": [
    "### Impute Missing Racial Composition Data"
   ]
  },
  {
   "cell_type": "code",
   "execution_count": 4,
   "metadata": {},
   "outputs": [
    {
     "name": "stdout",
     "output_type": "stream",
     "text": [
      "*********After: Updating Missing Racial Compostion Values****************************\n",
      "Rows Updated / Imputed:  0\n",
      "\r\n",
      "Total Rows Missing Racial Compositions By District Name\n",
      "Series([], Name: District Name, dtype: int64)\n"
     ]
    }
   ],
   "source": [
    "#Get Student Body Racial Composition Fields\n",
    "raceCompositionFields = schoolData.filter(regex='Indian|Asian|Hispanic|Black|White|PacificIsland|TwoOrMore|Minority')\\\n",
    "                                  .filter(regex='Pct').columns\n",
    "    \n",
    "rowsBefore = schoolData[raceCompositionFields].isnull().T.any().T.sum()\n",
    "\n",
    "#Update missing race values with the district average when avaiable (No district averages for charter schools) \n",
    "schoolData[raceCompositionFields] = schoolData.groupby('District Name')[raceCompositionFields]\\\n",
    "                                              .transform(lambda x: x.fillna(x.mean()))\n",
    "\n",
    "    #Review dataset contents after Racial Composition Imputation\n",
    "print('*********After: Updating Missing Racial Compostion Values****************************')   \n",
    "rowsAfter = schoolData[raceCompositionFields].isnull().T.any().T.sum()\n",
    "rowsUpdated = rowsBefore - rowsAfter\n",
    "print ('Rows Updated / Imputed: ', rowsUpdated) \n",
    "print('\\r\\nTotal Rows Missing Racial Compositions By District Name') \n",
    "schoolData['District Name'][schoolData[raceCompositionFields].isnull().T.any().T].value_counts()\n",
    "print(schoolData['District Name'][schoolData[raceCompositionFields].isnull().T.any().T].value_counts())"
   ]
  },
  {
   "cell_type": "markdown",
   "metadata": {},
   "source": [
    "## Remove Columns with Problematic Data\n",
    "**Here we remove entire columns that could cause problems during machine learning.  The following operations are performed:**\n",
    "* Remove any columns that have the same value in every single row.\n",
    "* Remove any columns that have a unique value in every single row (all values are different).\n",
    "* Remove empty columns (all values are NA or NULL)."
   ]
  },
  {
   "cell_type": "markdown",
   "metadata": {},
   "source": [
    "### Remove Columns with the same data in all rows"
   ]
  },
  {
   "cell_type": "code",
   "execution_count": 5,
   "metadata": {},
   "outputs": [
    {
     "name": "stdout",
     "output_type": "stream",
     "text": [
      "*********After: Removing columns with the same value in every row.*******************\n",
      "<class 'pandas.core.frame.DataFrame'>\n",
      "Int64Index: 2426 entries, 0 to 2560\n",
      "Columns: 235 entries, vphone_ad to LPS\n",
      "dtypes: float64(207), int64(1), object(27)\n",
      "memory usage: 4.4+ MB\n",
      "\r\n",
      "Columns Deleted:  131\n",
      "Columns: ['year', 'state_ad', 'type_cd', 'new_ind', 'super_nm', 'cover_letter_ad', 'clp_ind', 'focus_clp_ind', 'summer_program_ind', 'asm_no_spg_ind', 'no_data_spg_ind', 'State_Name', 'total_expense_num', 'salary_expense_pct', 'benefits_expense_pct', 'services_expense_pct', 'supplies_expense_pct', 'instruct_equip_exp_pct', 'other_expense_pct', 'federal_perpupil_num', 'local_perpupil_num', 'state_perpupil_num', 'lea_other_expense_pct', 'st_total_expense_num', 'st_salary_expense_pct', 'st_benefits_expense_pct', 'st_services_expense_pct', 'st_supplies_expense_pct', 'st_instruct_equip_exp_pct', 'st_other_expense_pct', 'st_federal_perpupil_num', 'st_local_perpupil_num', 'st_state_perpupil_num', 'building_expense_pct', 'lea_building_expense_pct', 'st_building_expense_pct', 'st_sat_avg_score_num', 'nat_sat_avg_score_num', 'st_sat_participation_pct', 'nat_sat_participation_pct', 'lea_esea_attendance', 'st_ap_participation_pct', 'st_ap_pct_3_or_above', 'lea_ib_participation_pct', 'st_ib_participation_pct', 'st_ib_pct_4_or_above', 'ttl_crimes_num', 'digital_media_pct', 'Byod', 'grades_BYOD', 'avg_age_media_collection', '_1_to_1_access', 'books_per_student', 'grades_1_to_1_access', 'lea_avg_age_media_collection', 'lea_books_per_student', 'st_avg_age_media_collection', 'st_books_per_student', 'wap_num', 'wap_per_classroom', 'lea_wap_num', 'lea_wap_per_classroom', 'st_wap_num', 'st_wap_per_classroom', 'SRC_devices_sent_home', 'SRC_Grades_Devices_Sent_Home', 'total_class_teacher_num', 'total_nbpts_num', 'prin_other_pct', 'prinyrs_0thru3_pct', 'prinyrs_4thru10_pct', 'prinyrs_11plus_pct', 'prin_advance_dgr_pct', '_1yr_prin_trnovr_pct', 'prin_male_pct', 'prin_female_pct', 'prin_black_pct', 'prin_white_pct', 'highqual_class_pct', 'lea_highqual_class_pct', 'lea_highqual_class_hp_pct', 'lea_highqual_class_lp_pct', 'lea_highqual_class_all_pct', 'lea_not_highqual_class_hp_pct', 'lea_not_highqual_class_lp_pct', 'lea_not_highqual_class_all_pct', 'st_highqual_class_pct', 'st_highqual_class_hp_pct', 'st_highqual_class_lp_pct', 'st_highqual_class_all_pct', 'st_not_highqual_class_hp_pct', 'st_not_highqual_class_lp_pct', 'st_not_highqual_class_all_pct', 'Accomplished_PRIN_Standard 1_Pct', 'Accomplished_PRIN_Standard 2_Pct', 'Accomplished_PRIN_Standard 3_Pct', 'Accomplished_PRIN_Standard 4_Pct', 'Accomplished_PRIN_Standard 5_Pct', 'Accomplished_PRIN_Standard 6_Pct', 'Accomplished_PRIN_Standard 7_Pct', 'Developing_PRIN_Standard 1_Pct', 'Developing_PRIN_Standard 2_Pct', 'Developing_PRIN_Standard 3_Pct', 'Developing_PRIN_Standard 4_Pct', 'Developing_PRIN_Standard 5_Pct', 'Developing_PRIN_Standard 6_Pct', 'Developing_PRIN_Standard 7_Pct', 'Distinguished_PRIN_Standard 1_Pct', 'Distinguished_PRIN_Standard 2_Pct', 'Distinguished_PRIN_Standard 3_Pct', 'Distinguished_PRIN_Standard 4_Pct', 'Distinguished_PRIN_Standard 5_Pct', 'Distinguished_PRIN_Standard 6_Pct', 'Distinguished_PRIN_Standard 7_Pct', 'Does Not Meet Expected Growth_PRIN_Standard 8_Pct', 'Exceeds Expected Growth_PRIN_Standard 8_Pct', 'Meets Expected Growth_PRIN_Standard 8_Pct', 'Not Demostrated_PRIN_Standard 1_Pct', 'Not Demostrated_PRIN_Standard 2_Pct', 'Not Demostrated_PRIN_Standard 3_Pct', 'Not Demostrated_PRIN_Standard 4_Pct', 'Not Demostrated_PRIN_Standard 5_Pct', 'Not Demostrated_PRIN_Standard 6_Pct', 'Not Demostrated_PRIN_Standard 7_Pct', 'Proficient_PRIN_Standard 1_Pct', 'Proficient_PRIN_Standard 2_Pct', 'Proficient_PRIN_Standard 3_Pct', 'Proficient_PRIN_Standard 4_Pct', 'Proficient_PRIN_Standard 5_Pct', 'Proficient_PRIN_Standard 6_Pct', 'Proficient_PRIN_Standard 7_Pct']\n"
     ]
    }
   ],
   "source": [
    "#Remove any fields that have the same value in all rows\n",
    "UniqueValueCounts = schoolData.nunique(dropna=False)\n",
    "SingleValueCols = UniqueValueCounts[UniqueValueCounts == 1].index\n",
    "schoolData = schoolData.drop(SingleValueCols, axis=1)\n",
    "\n",
    "#Review dataset contents after drops\n",
    "print('*********After: Removing columns with the same value in every row.*******************')\n",
    "schoolData.info(verbose=False)\n",
    "print ('\\r\\nColumns Deleted: ', len(SingleValueCols))\n",
    "print('Columns:', list(SingleValueCols))"
   ]
  },
  {
   "cell_type": "markdown",
   "metadata": {},
   "source": [
    "### Remove identifying columns (unit code, school code) "
   ]
  },
  {
   "cell_type": "code",
   "execution_count": 6,
   "metadata": {},
   "outputs": [
    {
     "name": "stdout",
     "output_type": "stream",
     "text": [
      "*********After: Removing columns with unique values in every row.*******************\n",
      "<class 'pandas.core.frame.DataFrame'>\n",
      "Int64Index: 2426 entries, 0 to 2560\n",
      "Columns: 233 entries, vphone_ad to LPS\n",
      "dtypes: float64(207), int64(1), object(25)\n",
      "memory usage: 4.4+ MB\n",
      "\r\n",
      "Columns Deleted:  2\n",
      "Columns:  Index(['unit_code', 'School_Name'], dtype='object')\n"
     ]
    }
   ],
   "source": [
    "#Remove any fields that have unique values in every row\n",
    "schoolDataRecordCt = schoolData.shape[0]\n",
    "UniqueValueCounts = schoolData.apply(pd.Series.nunique)\n",
    "AllUniqueValueCols = UniqueValueCounts[UniqueValueCounts == schoolDataRecordCt].index\n",
    "schoolData = schoolData.drop(AllUniqueValueCols, axis=1)\n",
    "\n",
    "#Review dataset contents after drops\n",
    "print('*********After: Removing columns with unique values in every row.*******************')\n",
    "schoolData.info(verbose=False)\n",
    "print ('\\r\\nColumns Deleted: ', len(AllUniqueValueCols))\n",
    "print('Columns: ', AllUniqueValueCols)"
   ]
  },
  {
   "cell_type": "markdown",
   "metadata": {},
   "source": [
    "### Remove columns with all null values"
   ]
  },
  {
   "cell_type": "code",
   "execution_count": 7,
   "metadata": {},
   "outputs": [
    {
     "name": "stdout",
     "output_type": "stream",
     "text": [
      "*********After: Removing columns with null / blank values in every row.*************\n",
      "<class 'pandas.core.frame.DataFrame'>\n",
      "Int64Index: 2426 entries, 0 to 2560\n",
      "Columns: 233 entries, vphone_ad to LPS\n",
      "dtypes: float64(207), int64(1), object(25)\n",
      "memory usage: 4.3+ MB\n",
      "\r\n",
      "Columns Deleted:  0\n",
      "Columns:  []\n"
     ]
    }
   ],
   "source": [
    "#Remove any empty fields (null values in every row)\n",
    "schoolDataRecordCt = schoolData.shape[0]\n",
    "NullValueCounts = schoolData.isnull().sum()\n",
    "NullValueCols = NullValueCounts[NullValueCounts == schoolDataRecordCt].index\n",
    "schoolData = schoolData.drop(NullValueCols, axis=1)\n",
    "\n",
    "#Review dataset contents after empty field drops\n",
    "print('*********After: Removing columns with null / blank values in every row.*************')\n",
    "schoolData.info(verbose=False)\n",
    "print ('\\r\\nColumns Deleted: ', len(NullValueCols))\n",
    "print ('Columns: ', list(NullValueCols))"
   ]
  },
  {
   "cell_type": "markdown",
   "metadata": {},
   "source": [
    "## Handle Other Missing Values Types\n",
    "* Here we eliminate any numeric columns with more than the percentage of missing values specified by the *missingThreshold* parameter.\n",
    "* All remaining non-race, numeric column missing values are populated with 0.\n",
    "* In many cases, it seems that schools are not simply not reporting values when they are zero. However, mean imputation or some other strategy might be considered."
   ]
  },
  {
   "cell_type": "code",
   "execution_count": 8,
   "metadata": {},
   "outputs": [
    {
     "name": "stdout",
     "output_type": "stream",
     "text": [
      "Boolean Columns:  0\n",
      "Nominal Columns:  25\n",
      "Continuous Columns:  208\n",
      "Columns Accounted for:  233\n"
     ]
    }
   ],
   "source": [
    "#Isolate continuous and categorical data types\n",
    "#These are indexers into the schoolData dataframe and may be used similar to the schoolData dataframe \n",
    "sD_boolean = schoolData.loc[:, (schoolData.dtypes == bool) ]\n",
    "sD_nominal = schoolData.loc[:, (schoolData.dtypes == object)]\n",
    "sD_continuous = schoolData.loc[:, (schoolData.dtypes != bool) & (schoolData.dtypes != object)]\n",
    "print (\"Boolean Columns: \", sD_boolean.shape[1])\n",
    "print (\"Nominal Columns: \", sD_nominal.shape[1])\n",
    "print (\"Continuous Columns: \", sD_continuous.shape[1])\n",
    "print (\"Columns Accounted for: \", sD_nominal.shape[1] + sD_continuous.shape[1] + sD_boolean.shape[1])"
   ]
  },
  {
   "cell_type": "markdown",
   "metadata": {},
   "source": [
    "### Convert Booleans to 1s and 0s"
   ]
  },
  {
   "cell_type": "code",
   "execution_count": 9,
   "metadata": {},
   "outputs": [
    {
     "name": "stdout",
     "output_type": "stream",
     "text": [
      "['title1_type_cd']\n",
      "Boolean Columns:  0\n"
     ]
    }
   ],
   "source": [
    "#Convert Columns with values of nan, 'Y' as booleans\n",
    "hasY = []\n",
    "for x in schoolData.columns: \n",
    "    if ((['Y'] in schoolData[x].unique()) & (len(schoolData[x].unique()) == 2)):\n",
    "        hasY.append(x)\n",
    "print(hasY)\n",
    "\n",
    "for x in hasY: \n",
    "# Map flag fields into bool\n",
    "    schoolData[x] = schoolData[x].map({'Y':1, np.nan:0})\n",
    "\n",
    "schoolData['esea_status'] = schoolData['esea_status'].map({'P':'Esea_Pass', 'F':'Esea_Fail', np.nan:'Non_Esea'})\n",
    "schoolData['Grad_project_status'] = schoolData['Grad_project_status'].map({'Y':1, 'N':0, np.nan:0})\n",
    "\n",
    "#Boolean Columns\n",
    "sD_boolean = schoolData.loc[:, (schoolData.dtypes == bool) ]\n",
    "print (\"Boolean Columns: \", sD_boolean.shape[1])"
   ]
  },
  {
   "cell_type": "markdown",
   "metadata": {},
   "source": [
    "### Eliminate columns with < 5% data"
   ]
  },
  {
   "cell_type": "code",
   "execution_count": 10,
   "metadata": {},
   "outputs": [
    {
     "name": "stdout",
     "output_type": "stream",
     "text": [
      "*********After: Removing columns with >= missingThreshold % of missing values******\n",
      "<class 'pandas.core.frame.DataFrame'>\n",
      "Int64Index: 2426 entries, 0 to 2560\n",
      "Columns: 229 entries, vphone_ad to LPS\n",
      "dtypes: float64(203), int64(3), object(23)\n",
      "memory usage: 4.3+ MB\n",
      "\r\n",
      "Columns Deleted:  4\n",
      "\r\n",
      "Columns:  ['ib_participation_pct', 'ib_pct_4_or_above', 'PI7_Pacific Islander_ENROLL_sch_pct', 'PI7_Pacific Islander_NOENROLL_sch_pct']\n"
     ]
    }
   ],
   "source": [
    "#Eliminate continuous columns with more than missingThreshold percentage of missing values\n",
    "schoolDataRecordCt = sD_continuous.shape[0]\n",
    "missingValueLimit = schoolDataRecordCt * missingThreshold\n",
    "NullValueCounts = sD_continuous.isnull().sum()\n",
    "NullValueCols = NullValueCounts[NullValueCounts >= missingValueLimit].index\n",
    "schoolData = schoolData.drop(NullValueCols, axis=1)\n",
    "\n",
    "#Review dataset contents after empty field drops\n",
    "print('*********After: Removing columns with >= missingThreshold % of missing values******')\n",
    "schoolData.info(verbose=False)\n",
    "print ('\\r\\nColumns Deleted: ', len(NullValueCols))\n",
    "print ('\\r\\nColumns: ', list(NullValueCols))"
   ]
  },
  {
   "cell_type": "markdown",
   "metadata": {},
   "source": [
    "## One-Hot Encoding of Categorical Variables\n",
    "**All categorical / string variables are converted to numberic variables via one hot encoding.  Each unique row value will become a new binary / numeric column in the dataset.**\n",
    "* All remaining categorical columns are one-hot encoded.  \n",
    "* In categorical columns, one-hot encoding creates one new boolean / binary field per unique value in the target column, converting all categorical columns to a numeric data type. \n",
    "* Prior to one-hot encoding, columns with > *uniqueThreshold* unique values are deleted.  "
   ]
  },
  {
   "cell_type": "code",
   "execution_count": 11,
   "metadata": {},
   "outputs": [
    {
     "name": "stdout",
     "output_type": "stream",
     "text": [
      "*********After: Removing columns with >= uniqueThreshold unique values***********\n",
      "<class 'pandas.core.frame.DataFrame'>\n",
      "Int64Index: 2426 entries, 0 to 2560\n",
      "Columns: 219 entries, closed_ind to LPS\n",
      "dtypes: float64(203), int64(3), object(13)\n",
      "memory usage: 4.1+ MB\n",
      "\r\n",
      "Columns Deleted:  10\n",
      "\r\n",
      "Columns :  ['vphone_ad', 'street_ad', 'scity_ad', 'szip_ad', 'url_ad', 'grade_range_cd', 'District Name', 'url', 'LEA Name', 'School Name']\n"
     ]
    }
   ],
   "source": [
    "#Delete categorical columns with > 25 unique values (Each unique value becomes a column during one-hot encoding)\n",
    "oneHotUniqueValueCounts = schoolData[sD_nominal.columns].apply(lambda x: x.nunique())\n",
    "oneHotUniqueValueCols = oneHotUniqueValueCounts[oneHotUniqueValueCounts >= uniqueThreshold].index\n",
    "schoolData.drop(oneHotUniqueValueCols, axis=1, inplace=True) \n",
    "\n",
    "#Review dataset contents one hot high unique value drops\n",
    "print('*********After: Removing columns with >= uniqueThreshold unique values***********')\n",
    "schoolData.info(verbose=False)\n",
    "print ('\\r\\nColumns Deleted: ', len(oneHotUniqueValueCols))\n",
    "print ('\\r\\nColumns : ', list(oneHotUniqueValueCols))"
   ]
  },
  {
   "cell_type": "markdown",
   "metadata": {},
   "source": [
    "### One hot encode categorical variables"
   ]
  },
  {
   "cell_type": "code",
   "execution_count": 12,
   "metadata": {},
   "outputs": [
    {
     "name": "stdout",
     "output_type": "stream",
     "text": [
      "Columns To One-Hot Encode:  13 ['category_cd', 'calendar_type_txt', 'sna_pgm_type_cd', 'school_type_txt', 'calendar_only_txt', 'esea_status', 'stem', 'SPG Grade', 'Reading SPG Grade', 'Math SPG Grade', 'EVAAS Growth Status', 'Category_Cd', 'esea_attendance']\n",
      "\r\n",
      "*********After: Adding New Columns Via One-Hot Encoding*************************\n",
      "<class 'pandas.core.frame.DataFrame'>\n",
      "Int64Index: 2426 entries, 0 to 2560\n",
      "Columns: 254 entries, closed_ind to esea_attendance_Met\n",
      "dtypes: float64(203), int64(3), uint8(48)\n",
      "memory usage: 3.9 MB\n",
      "\r\n",
      "New Columns Created Via One-Hot Encoding:  35\n"
     ]
    }
   ],
   "source": [
    "#Isolate remaining categorical variables\n",
    "begColumnCt = len(schoolData.columns)\n",
    "sD_nominal = schoolData.loc[:, (schoolData.dtypes == object)]\n",
    "\n",
    "#one hot encode categorical variables\n",
    "schoolData = pd.get_dummies(data=schoolData, \n",
    "                       columns=sD_nominal, drop_first=True)\n",
    "\n",
    "#Determine change in column count\n",
    "endColumnCt = len(schoolData.columns)\n",
    "columnsAdded = endColumnCt - begColumnCt\n",
    "\n",
    "#Review dataset contents one hot high unique value drops\n",
    "print ('Columns To One-Hot Encode: ', len(sD_nominal.columns), list(sD_nominal.columns))\n",
    "print('\\r\\n*********After: Adding New Columns Via One-Hot Encoding*************************')\n",
    "schoolData.info(verbose=False)\n",
    "print ('\\r\\nNew Columns Created Via One-Hot Encoding: ', columnsAdded)"
   ]
  },
  {
   "cell_type": "markdown",
   "metadata": {},
   "source": [
    "## Scale Expression of Percentages"
   ]
  },
  {
   "cell_type": "code",
   "execution_count": 13,
   "metadata": {},
   "outputs": [
    {
     "name": "stdout",
     "output_type": "stream",
     "text": [
      "Number of Percentage Fields: 141\n",
      "Percentage Fields Converted to between 0 and 1:  25\n"
     ]
    }
   ],
   "source": [
    "PercentageFields = schoolData.filter(regex='pct|Pct|percent|Percent').columns\n",
    "converted = []\n",
    "for x in PercentageFields:\n",
    "    if(schoolData[x].max() > 1):\n",
    "        converted.append(x)\n",
    "        schoolData[x] = schoolData[x]/100\n",
    "print('Number of Percentage Fields:', len(PercentageFields))\n",
    "print('Percentage Fields Converted to between 0 and 1: ', len(converted))"
   ]
  },
  {
   "cell_type": "code",
   "execution_count": 14,
   "metadata": {
    "collapsed": true
   },
   "outputs": [],
   "source": [
    "#Restore the unit_code before saving\n",
    "schoolData['unit_code'] = unit_code\n",
    "#Save the final dataset to a .csv file\n",
    "schoolData.to_csv(outputDir + inputFileName + '_ML.csv', sep=',', index=False)"
   ]
  },
  {
   "cell_type": "code",
   "execution_count": 15,
   "metadata": {},
   "outputs": [
    {
     "name": "stdout",
     "output_type": "stream",
     "text": [
      "*********FINAL DATASET DETAILS*********************************************************\r\n",
      "\n",
      "<class 'pandas.core.frame.DataFrame'>\n",
      "Int64Index: 2426 entries, 0 to 2560\n",
      "Data columns (total 255 columns):\n",
      "closed_ind                                                                         float64\n",
      "title1_type_cd                                                                     int64\n",
      "student_num                                                                        float64\n",
      "lea_avg_student_num                                                                float64\n",
      "st_avg_student_num                                                                 float64\n",
      "Grad_project_status                                                                int64\n",
      "Biology_Size                                                                       float64\n",
      "English II_Size                                                                    float64\n",
      "Math I_Size                                                                        float64\n",
      "lea_total_expense_num                                                              float64\n",
      "lea_salary_expense_pct                                                             float64\n",
      "lea_benefits_expense_pct                                                           float64\n",
      "lea_services_expense_pct                                                           float64\n",
      "lea_supplies_expense_pct                                                           float64\n",
      "lea_instruct_equip_exp_pct                                                         float64\n",
      "lea_federal_perpupil_num                                                           float64\n",
      "lea_local_perpupil_num                                                             float64\n",
      "lea_state_perpupil_num                                                             float64\n",
      "SBE Region                                                                         float64\n",
      "SPG Score                                                                          float64\n",
      "Reading  SPG Score                                                                 float64\n",
      "Math SPG Score                                                                     float64\n",
      "EVAAS Growth Score                                                                 float64\n",
      "Overall Achievement Score                                                          float64\n",
      "Read Score                                                                         float64\n",
      "Math Score                                                                         float64\n",
      "Science Score                                                                      float64\n",
      "Math I Score                                                                       float64\n",
      "English II Score                                                                   float64\n",
      "Biology Score                                                                      float64\n",
      "The ACT Score                                                                      float64\n",
      "ACT WorkKeys Score                                                                 float64\n",
      "Math Course Rigor Score                                                            float64\n",
      "Cohort Graduation Rate Standard Score                                              float64\n",
      "ACT_pTarget_PctMet                                                                 float64\n",
      "ACTWorkKeys_pTarget_PctMet                                                         float64\n",
      "CurrentYearEOC_pTarget_PctMet                                                      float64\n",
      "MathGr10_pTarget_PctMet                                                            float64\n",
      "MathGr3-8_pTarget_PctMet                                                           float64\n",
      "ReadingGr10_pTarget_PctMet                                                         float64\n",
      "ReadingGr3-8_pTarget_PctMet                                                        float64\n",
      "SciGr11_pTarget_PctMet                                                             float64\n",
      "SciGr5&8_pTarget_PctMet                                                            float64\n",
      "TotalTargets_pTarget_PctMet                                                        float64\n",
      "sat_avg_score_num                                                                  float64\n",
      "lea_sat_avg_score_num                                                              float64\n",
      "sat_participation_pct                                                              float64\n",
      "lea_sat_participation_pct                                                          float64\n",
      "ap_participation_pct                                                               float64\n",
      "lea_ap_participation_pct                                                           float64\n",
      "ap_pct_3_or_above                                                                  float64\n",
      "lea_ap_pct_3_or_above                                                              float64\n",
      "lea_ib_pct_4_or_above                                                              float64\n",
      "total_specialized_courses                                                          float64\n",
      "ap_ib_courses                                                                      float64\n",
      "cte_courses                                                                        float64\n",
      "univ_college_courses                                                               float64\n",
      "lea_total_specialized_courses                                                      float64\n",
      "lea_ap_ib_courses                                                                  float64\n",
      "lea_cte_courses                                                                    float64\n",
      "lea_univ_college_courses                                                           float64\n",
      "st_total_specialized_courses                                                       float64\n",
      "st_ap_ib_courses                                                                   float64\n",
      "st_cte_courses                                                                     float64\n",
      "st_univ_college_courses                                                            float64\n",
      "AM7_American Indian_ENROLL_sch_pct                                                 float64\n",
      "AM7_American Indian_NOENROLL_sch_pct                                               float64\n",
      "AS7_Asian_ENROLL_sch_pct                                                           float64\n",
      "AS7_Asian_NOENROLL_sch_pct                                                         float64\n",
      "All_All Student (Total or subtotal)_ENROLL_sch_pct                                 float64\n",
      "All_All Student (Total or subtotal)_NOENROLL_sch_pct                               float64\n",
      "BL7_Black_ENROLL_sch_pct                                                           float64\n",
      "BL7_Black_NOENROLL_sch_pct                                                         float64\n",
      "ECODIS_Economically Disadvantaged_ENROLL_sch_pct                                   float64\n",
      "ECODIS_Economically Disadvantaged_NOENROLL_sch_pct                                 float64\n",
      "F_Female_ENROLL_sch_pct                                                            float64\n",
      "F_Female_NOENROLL_sch_pct                                                          float64\n",
      "HI7_Hispanic_ENROLL_sch_pct                                                        float64\n",
      "HI7_Hispanic_NOENROLL_sch_pct                                                      float64\n",
      "LEP_Limited English Proficiency_ENROLL_sch_pct                                     float64\n",
      "LEP_Limited English Proficiency_NOENROLL_sch_pct                                   float64\n",
      "M_Male_ENROLL_sch_pct                                                              float64\n",
      "M_Male_NOENROLL_sch_pct                                                            float64\n",
      "MU7_Multiracial_ENROLL_sch_pct                                                     float64\n",
      "MU7_Multiracial_NOENROLL_sch_pct                                                   float64\n",
      "WDIS_Students with Disabilities_ENROLL_sch_pct                                     float64\n",
      "WDIS_Students with Disabilities_NOENROLL_sch_pct                                   float64\n",
      "WH7_White_ENROLL_sch_pct                                                           float64\n",
      "WH7_White_NOENROLL_sch_pct                                                         float64\n",
      "avg_daily_attend_pct                                                               float64\n",
      "crime_per_c_num                                                                    float64\n",
      "short_susp_per_c_num                                                               float64\n",
      "long_susp_per_c_num                                                                float64\n",
      "expelled_per_c_num                                                                 float64\n",
      "stud_internet_comp_num                                                             float64\n",
      "lea_avg_daily_attend_pct                                                           float64\n",
      "lea_crime_per_c_num                                                                float64\n",
      "lea_short_susp_per_c_num                                                           float64\n",
      "lea_long_susp_per_c_num                                                            float64\n",
      "lea_expelled_per_c_num                                                             float64\n",
      "lea_stud_internet_comp_num                                                         float64\n",
      "st_avg_daily_attend_pct                                                            float64\n",
      "st_crime_per_c_num                                                                 float64\n",
      "st_short_susp_per_c_num                                                            float64\n",
      "st_long_susp_per_c_num                                                             float64\n",
      "st_expelled_per_c_num                                                              float64\n",
      "st_stud_internet_comp_num                                                          float64\n",
      "flicensed_teach_pct                                                                float64\n",
      "tchyrs_0thru3_pct                                                                  float64\n",
      "tchyrs_4thru10_pct                                                                 float64\n",
      "tchyrs_11plus_pct                                                                  float64\n",
      "class_teach_num                                                                    float64\n",
      "nbpts_num                                                                          float64\n",
      "advance_dgr_pct                                                                    float64\n",
      "_1yr_tchr_trnovr_pct                                                               float64\n",
      "emer_prov_teach_pct                                                                float64\n",
      "lateral_teach_pct                                                                  float64\n",
      "lea_flicensed_teach_pct                                                            float64\n",
      "lea_tchyrs_0thru3_pct                                                              float64\n",
      "lea_tchyrs_4thru10_pct                                                             float64\n",
      "lea_tchyrs_11plus_pct                                                              float64\n",
      "lea_class_teach_num                                                                float64\n",
      "lea_nbpts_num                                                                      float64\n",
      "lea_advance_dgr_pct                                                                float64\n",
      "lea_1yr_tchr_trnovr_pct                                                            float64\n",
      "lea_emer_prov_teach_pct                                                            float64\n",
      "lea_lateral_teach_pct                                                              float64\n",
      "st_flicensed_teach_pct                                                             float64\n",
      "st_tchyrs_0thru3_pct                                                               float64\n",
      "st_tchyrs_4thru10_pct                                                              float64\n",
      "st_tchyrs_11plus_pct                                                               float64\n",
      "st_class_teach_num                                                                 float64\n",
      "st_nbpts_num                                                                       float64\n",
      "st_advance_dgr_pct                                                                 float64\n",
      "st_1yr_tchr_trnovr_pct                                                             float64\n",
      "st_emer_prov_teach_pct                                                             float64\n",
      "st_lateral_teach_pct                                                               float64\n",
      "st_prinyrs_0thru3_pct                                                              float64\n",
      "st_prinyrs_4thru10_pct                                                             float64\n",
      "st_prinyrs_11plus_pct                                                              float64\n",
      "st_prin_advance_dgr_pct                                                            float64\n",
      "st_1yr_prin_trnovr_pct                                                             float64\n",
      "st_prin_male_pct                                                                   float64\n",
      "st_prin_female_pct                                                                 float64\n",
      "st_prin_black_pct                                                                  float64\n",
      "st_prin_white_pct                                                                  float64\n",
      "st_prin_other_pct                                                                  float64\n",
      "0-3 Years_Exp_Pct_Tch                                                              float64\n",
      "10+ Years_Exp_Pct_Tch                                                              float64\n",
      "4-10 Years_Exp_Pct_Tch                                                             float64\n",
      "0-3 Years_LEA_Exp_Pct_Prin                                                         float64\n",
      "10+ Years_LEA_Exp_Pct_Prin                                                         float64\n",
      "4-10 Years_LEA_Exp_Pct_Prin                                                        float64\n",
      "Accomplished_TCHR_Standard 1_Pct                                                   float64\n",
      "Accomplished_TCHR_Standard 2_Pct                                                   float64\n",
      "Accomplished_TCHR_Standard 3_Pct                                                   float64\n",
      "Accomplished_TCHR_Standard 4_Pct                                                   float64\n",
      "Accomplished_TCHR_Standard 5_Pct                                                   float64\n",
      "Developing_TCHR_Standard 1_Pct                                                     float64\n",
      "Developing_TCHR_Standard 2_Pct                                                     float64\n",
      "Developing_TCHR_Standard 3_Pct                                                     float64\n",
      "Developing_TCHR_Standard 4_Pct                                                     float64\n",
      "Developing_TCHR_Standard 5_Pct                                                     float64\n",
      "Distinguished_TCHR_Standard 1_Pct                                                  float64\n",
      "Distinguished_TCHR_Standard 2_Pct                                                  float64\n",
      "Distinguished_TCHR_Standard 3_Pct                                                  float64\n",
      "Distinguished_TCHR_Standard 4_Pct                                                  float64\n",
      "Distinguished_TCHR_Standard 5_Pct                                                  float64\n",
      "Does Not Meet Expected Growth_TCHR_Standard 6_Pct                                  float64\n",
      "Exceeds Expected Growth_TCHR_Standard 6_Pct                                        float64\n",
      "Meets Expected Growth_TCHR_Standard 6_Pct                                          float64\n",
      "Not Demostrated_TCHR_Standard 1_Pct                                                float64\n",
      "Not Demostrated_TCHR_Standard 2_Pct                                                float64\n",
      "Not Demostrated_TCHR_Standard 3_Pct                                                float64\n",
      "Not Demostrated_TCHR_Standard 4_Pct                                                float64\n",
      "Not Demostrated_TCHR_Standard 5_Pct                                                float64\n",
      "Proficient_TCHR_Standard 1_Pct                                                     float64\n",
      "Proficient_TCHR_Standard 2_Pct                                                     float64\n",
      "Proficient_TCHR_Standard 3_Pct                                                     float64\n",
      "Proficient_TCHR_Standard 4_Pct                                                     float64\n",
      "Proficient_TCHR_Standard 5_Pct                                                     float64\n",
      "AsianFemalePct                                                                     float64\n",
      "AsianMalePct                                                                       float64\n",
      "AsianPct                                                                           float64\n",
      "BlackFemalePct                                                                     float64\n",
      "BlackMalePct                                                                       float64\n",
      "BlackPct                                                                           float64\n",
      "HispanicFemalePct                                                                  float64\n",
      "HispanicMalePct                                                                    float64\n",
      "HispanicPct                                                                        float64\n",
      "IndianFemalePct                                                                    float64\n",
      "IndianMalePct                                                                      float64\n",
      "IndianPct                                                                          float64\n",
      "MinorityFemalePct                                                                  float64\n",
      "MinorityMalePct                                                                    float64\n",
      "MinorityPct                                                                        float64\n",
      "PacificIslandFemalePct                                                             float64\n",
      "PacificIslandMalePct                                                               float64\n",
      "PacificIslandPct                                                                   float64\n",
      "TwoOrMoreFemalePct                                                                 float64\n",
      "TwoOrMoreMalePct                                                                   float64\n",
      "TwoOrMorePct                                                                       float64\n",
      "WhiteFemalePct                                                                     float64\n",
      "WhiteMalePct                                                                       float64\n",
      "WhitePct                                                                           float64\n",
      "LPS                                                                                int64\n",
      "category_cd_E                                                                      uint8\n",
      "category_cd_H                                                                      uint8\n",
      "category_cd_I                                                                      uint8\n",
      "category_cd_M                                                                      uint8\n",
      "category_cd_T                                                                      uint8\n",
      "calendar_type_txt_Hospital School                                                  uint8\n",
      "calendar_type_txt_Magnet School, Traditional Calendar                              uint8\n",
      "calendar_type_txt_Magnet School, Year-Round Calendar                               uint8\n",
      "calendar_type_txt_Regular School, Traditional Calendar                             uint8\n",
      "calendar_type_txt_Regular School, Traditional Calendar plus Year-Round Calendar    uint8\n",
      "calendar_type_txt_Regular School, Year-Round Calendar                              uint8\n",
      "calendar_type_txt_Special Education, Traditional Calendar                          uint8\n",
      "sna_pgm_type_cd_H                                                                  uint8\n",
      "sna_pgm_type_cd_M                                                                  uint8\n",
      "sna_pgm_type_cd_N                                                                  uint8\n",
      "sna_pgm_type_cd_R                                                                  uint8\n",
      "sna_pgm_type_cd_S                                                                  uint8\n",
      "sna_pgm_type_cd_X                                                                  uint8\n",
      "sna_pgm_type_cd_Y                                                                  uint8\n",
      "school_type_txt_Hospital School                                                    uint8\n",
      "school_type_txt_Magnet School                                                      uint8\n",
      "school_type_txt_Regular School                                                     uint8\n",
      "school_type_txt_Special Education                                                  uint8\n",
      "calendar_only_txt_Traditional Calendar plus Year-Round Calendar                    uint8\n",
      "calendar_only_txt_Year-Round Calendar                                              uint8\n",
      "esea_status_Esea_Pass                                                              uint8\n",
      "esea_status_Non_Esea                                                               uint8\n",
      "SPG Grade_B                                                                        uint8\n",
      "SPG Grade_C                                                                        uint8\n",
      "SPG Grade_D                                                                        uint8\n",
      "SPG Grade_F                                                                        uint8\n",
      "SPG Grade_I                                                                        uint8\n",
      "Reading SPG Grade_B                                                                uint8\n",
      "Reading SPG Grade_C                                                                uint8\n",
      "Reading SPG Grade_D                                                                uint8\n",
      "Reading SPG Grade_F                                                                uint8\n",
      "Math SPG Grade_B                                                                   uint8\n",
      "Math SPG Grade_C                                                                   uint8\n",
      "Math SPG Grade_D                                                                   uint8\n",
      "Math SPG Grade_F                                                                   uint8\n",
      "EVAAS Growth Status_Met                                                            uint8\n",
      "EVAAS Growth Status_NotMet                                                         uint8\n",
      "Category_Cd_E                                                                      uint8\n",
      "Category_Cd_H                                                                      uint8\n",
      "Category_Cd_I                                                                      uint8\n",
      "Category_Cd_M                                                                      uint8\n",
      "Category_Cd_T                                                                      uint8\n",
      "esea_attendance_Met                                                                uint8\n",
      "unit_code                                                                          object\n",
      "dtypes: float64(203), int64(3), object(1), uint8(48)\n",
      "memory usage: 4.0+ MB\n"
     ]
    }
   ],
   "source": [
    "print('*********FINAL DATASET DETAILS*********************************************************\\r\\n')\n",
    "schoolData.info(verbose=True)"
   ]
  },
  {
   "cell_type": "code",
   "execution_count": 16,
   "metadata": {},
   "outputs": [
    {
     "name": "stdout",
     "output_type": "stream",
     "text": [
      "Sklearn Version: 0.19.1\n",
      "Pandas Version: 0.22.0\n"
     ]
    }
   ],
   "source": [
    "import sklearn\n",
    "import pandas as pd\n",
    "\n",
    "print('Sklearn Version: ' + sklearn.__version__)\n",
    "print('Pandas Version: ' + pd.__version__)"
   ]
  },
  {
   "cell_type": "code",
   "execution_count": 17,
   "metadata": {
    "scrolled": true
   },
   "outputs": [
    {
     "name": "stdout",
     "output_type": "stream",
     "text": [
      "Output File Location:\r\n",
      "\r\n",
      "/Users/Olivia/SMUDS/Capstone/B/2014/PublicSchools2014_ML.csv\n"
     ]
    }
   ],
   "source": [
    "print ('Output File Location:\\r\\n\\r\\n' + outputDir + inputFileName + '_ML.csv')"
   ]
  },
  {
   "cell_type": "code",
   "execution_count": null,
   "metadata": {
    "collapsed": true
   },
   "outputs": [],
   "source": []
  }
 ],
 "metadata": {
  "kernelspec": {
   "display_name": "Python 3",
   "language": "python",
   "name": "python3"
  },
  "language_info": {
   "codemirror_mode": {
    "name": "ipython",
    "version": 3
   },
   "file_extension": ".py",
   "mimetype": "text/x-python",
   "name": "python",
   "nbconvert_exporter": "python",
   "pygments_lexer": "ipython3",
   "version": "3.6.2"
  }
 },
 "nbformat": 4,
 "nbformat_minor": 1
}
