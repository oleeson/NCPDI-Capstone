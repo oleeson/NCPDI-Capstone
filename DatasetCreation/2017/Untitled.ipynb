{
 "cells": [
  {
   "cell_type": "code",
   "execution_count": 1,
   "metadata": {
    "collapsed": true
   },
   "outputs": [],
   "source": [
    "import pickle \n",
    "import os "
   ]
  },
  {
   "cell_type": "code",
   "execution_count": 4,
   "metadata": {},
   "outputs": [],
   "source": [
    "cwd = os.getcwd()\n",
    "\n",
    "ACCDrill = pickle.load( open( cwd + \"/TableColumns/accDrillDownAllCols_17.pkl\", \"rb\" ) )"
   ]
  },
  {
   "cell_type": "code",
   "execution_count": 5,
   "metadata": {},
   "outputs": [
    {
     "data": {
      "text/plain": [
       "['unit_code',\n",
       " 'ACTCompositeScore_UNCMin_All',\n",
       " 'ACTEnglish_ACTBenchmark_All',\n",
       " 'ACTMath_ACTBenchmark_All',\n",
       " 'ACTReading_ACTBenchmark_All',\n",
       " 'ACTScience_ACTBenchmark_All',\n",
       " 'ACTSubtests_BenchmarksMet_All',\n",
       " 'ACTWorkKeys_SilverPlus_All',\n",
       " 'ACTWriting_ACTBenchmark_All',\n",
       " 'EOCBiology_CACR_All',\n",
       " 'EOCBiology_GLP_All',\n",
       " 'EOCEnglish2_CACR_All',\n",
       " 'EOCEnglish2_GLP_All',\n",
       " 'EOCMathI_CACR_All',\n",
       " 'EOCMathI_GLP_All',\n",
       " 'EOCSubjects_CACR_All',\n",
       " 'EOCSubjects_GLP_All',\n",
       " 'EOG/EOCSubjects_CACR_All',\n",
       " 'EOG/EOCSubjects_GLP_All',\n",
       " 'EOGGr3_CACR_All',\n",
       " 'EOGGr3_GLP_All',\n",
       " 'EOGGr4_CACR_All',\n",
       " 'EOGGr4_GLP_All',\n",
       " 'EOGGr5_CACR_All',\n",
       " 'EOGGr5_GLP_All',\n",
       " 'EOGGr6_CACR_All',\n",
       " 'EOGGr6_GLP_All',\n",
       " 'EOGGr7_CACR_All',\n",
       " 'EOGGr7_GLP_All',\n",
       " 'EOGGr8_CACR_All',\n",
       " 'EOGGr8_GLP_All',\n",
       " 'EOGMathGr3_CACR_All',\n",
       " 'EOGMathGr3_GLP_All',\n",
       " 'EOGMathGr3-8_CACR_All',\n",
       " 'EOGMathGr3-8_GLP_All',\n",
       " 'EOGMathGr4_CACR_All',\n",
       " 'EOGMathGr4_GLP_All',\n",
       " 'EOGMathGr5_CACR_All',\n",
       " 'EOGMathGr5_GLP_All',\n",
       " 'EOGMathGr6_CACR_All',\n",
       " 'EOGMathGr6_GLP_All',\n",
       " 'EOGMathGr7_CACR_All',\n",
       " 'EOGMathGr7_GLP_All',\n",
       " 'EOGMathGr8_CACR_All',\n",
       " 'EOGMathGr8_GLP_All',\n",
       " 'EOGReadingGr3_CACR_All',\n",
       " 'EOGReadingGr3_GLP_All',\n",
       " 'EOGReadingGr3-8_CACR_All',\n",
       " 'EOGReadingGr3-8_GLP_All',\n",
       " 'EOGReadingGr4_CACR_All',\n",
       " 'EOGReadingGr4_GLP_All',\n",
       " 'EOGReadingGr5_CACR_All',\n",
       " 'EOGReadingGr5_GLP_All',\n",
       " 'EOGReadingGr6_CACR_All',\n",
       " 'EOGReadingGr6_GLP_All',\n",
       " 'EOGReadingGr7_CACR_All',\n",
       " 'EOGReadingGr7_GLP_All',\n",
       " 'EOGReadingGr8_CACR_All',\n",
       " 'EOGReadingGr8_GLP_All',\n",
       " 'EOGScienceGr5_CACR_All',\n",
       " 'EOGScienceGr5_GLP_All',\n",
       " 'EOGScienceGr5&8_CACR_All',\n",
       " 'EOGScienceGr5&8_GLP_All',\n",
       " 'EOGScienceGr8_CACR_All',\n",
       " 'EOGScienceGr8_GLP_All',\n",
       " 'EOGSubjects_CACR_All',\n",
       " 'EOGSubjects_GLP_All',\n",
       " 'GraduationRate_4yr_All',\n",
       " 'GraduationRate_5yr_All']"
      ]
     },
     "execution_count": 5,
     "metadata": {},
     "output_type": "execute_result"
    }
   ],
   "source": [
    "ACCDrill"
   ]
  },
  {
   "cell_type": "code",
   "execution_count": null,
   "metadata": {
    "collapsed": true
   },
   "outputs": [],
   "source": []
  }
 ],
 "metadata": {
  "kernelspec": {
   "display_name": "Python 3",
   "language": "python",
   "name": "python3"
  },
  "language_info": {
   "codemirror_mode": {
    "name": "ipython",
    "version": 3
   },
   "file_extension": ".py",
   "mimetype": "text/x-python",
   "name": "python",
   "nbconvert_exporter": "python",
   "pygments_lexer": "ipython3",
   "version": "3.6.5"
  }
 },
 "nbformat": 4,
 "nbformat_minor": 2
}
