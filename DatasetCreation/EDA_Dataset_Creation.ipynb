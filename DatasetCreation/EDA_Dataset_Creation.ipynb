{
 "cells": [
  {
   "cell_type": "markdown",
   "metadata": {},
   "source": [
    "# Creating the Dataset for Original Exploratory Analysis\n",
    "This notebook reads in the CSV files for public schools in the 2013-2014, 2014-2015, 2015-2016, and 2016-2017 years to create a dataset containing the school-level factors for the 2016-2017 years with the inclusion of school performance indicators for the previous years.  "
   ]
  },
  {
   "cell_type": "code",
   "execution_count": 1,
   "metadata": {
    "collapsed": true
   },
   "outputs": [],
   "source": [
    "#import required Libraries\n",
    "import pandas as pd\n",
    "import numpy as np\n",
    "import matplotlib.pyplot as plt\n",
    "%matplotlib inline\n",
    "\n",
    "import seaborn as sns\n",
    "sns.set(color_codes=True)\n",
    "\n",
    "import warnings\n",
    "warnings.filterwarnings(\"ignore\")"
   ]
  },
  {
   "cell_type": "markdown",
   "metadata": {},
   "source": [
    "Read in full datasets from school years 2013-2014, 2014-2015, 2015-2016, 2016-2017."
   ]
  },
  {
   "cell_type": "code",
   "execution_count": 2,
   "metadata": {
    "collapsed": false
   },
   "outputs": [],
   "source": [
    "import os\n",
    "cwd = os.getcwd()\n",
    "cwd = cwd + '/'"
   ]
  },
  {
   "cell_type": "code",
   "execution_count": 3,
   "metadata": {
    "collapsed": false
   },
   "outputs": [
    {
     "name": "stdout",
     "output_type": "stream",
     "text": [
      "<class 'pandas.core.frame.DataFrame'>\n",
      "RangeIndex: 2561 entries, 0 to 2560\n",
      "Columns: 365 entries, vphone_ad to WhitePct\n",
      "dtypes: float64(331), int64(3), object(31)\n",
      "memory usage: 7.1+ MB\n",
      "None\n",
      "<class 'pandas.core.frame.DataFrame'>\n",
      "RangeIndex: 2585 entries, 0 to 2584\n",
      "Columns: 362 entries, vphone_ad to WhitePct\n",
      "dtypes: float64(315), int64(3), object(44)\n",
      "memory usage: 7.1+ MB\n",
      "None\n",
      "<class 'pandas.core.frame.DataFrame'>\n",
      "RangeIndex: 2599 entries, 0 to 2598\n",
      "Columns: 362 entries, vphone_ad to WhitePct\n",
      "dtypes: float64(318), int64(3), object(41)\n",
      "memory usage: 7.2+ MB\n",
      "None\n",
      "<class 'pandas.core.frame.DataFrame'>\n",
      "RangeIndex: 2617 entries, 0 to 2616\n",
      "Columns: 385 entries, vphone_ad to Number_Industry_Recognized_Crede\n",
      "dtypes: float64(340), int64(3), object(42)\n",
      "memory usage: 7.7+ MB\n",
      "None\n"
     ]
    }
   ],
   "source": [
    "#csv path\n",
    "path = cwd + \"2014/publicSchools2014.csv\"\n",
    "publicSchools14 = pd.read_csv(path, low_memory = False)\n",
    "print(publicSchools14.info())\n",
    "\n",
    "path = cwd + \"2015/publicSchools2015.csv\"\n",
    "publicSchools15 = pd.read_csv(path, low_memory = False)\n",
    "print(publicSchools15.info())\n",
    "\n",
    "path = cwd + \"2016/publicSchools2016.csv\"\n",
    "publicSchools16 = pd.read_csv(path, low_memory = False)\n",
    "print(publicSchools16.info())\n",
    "\n",
    "path = cwd + \"2017/publicSchools2017.csv\"\n",
    "publicSchools17 = pd.read_csv(path, low_memory = False)\n",
    "print(publicSchools17.info())"
   ]
  },
  {
   "cell_type": "markdown",
   "metadata": {},
   "source": [
    "### Low Performing School Definition:\n",
    "\n",
    "“Low-performing schools are those that receive a school performance grade of D or F and a school growth score of \"met expected growth\" or \"not met expected growth\" as defined by G.S. 115C-83.15.” (G.S. 115C-105.37(a)), and\n",
    "\n",
    "http://www.dpi.state.nc.us/schooltransformation/low-performing/"
   ]
  },
  {
   "cell_type": "code",
   "execution_count": 4,
   "metadata": {
    "collapsed": true
   },
   "outputs": [],
   "source": [
    "#create new column that equals 1 if low Performing\n",
    "publicSchools14['LPS'] = np.where(publicSchools14['SPG Grade'].isin(['F', 'D'])&\n",
    "                            publicSchools14['EVAAS Growth Status'].isin(['NotMet', 'Met']),\n",
    "                            1, 0)\n",
    "\n",
    "publicSchools15['LPS'] = np.where(publicSchools15['SPG Grade'].isin(['F', 'D'])&\n",
    "                            publicSchools15['EVAAS Growth Status'].isin(['NotMet', 'Met']),\n",
    "                            1, 0)\n",
    "\n",
    "publicSchools16['LPS'] = np.where(publicSchools16['SPG Grade'].isin(['F', 'D'])&\n",
    "                            publicSchools16['EVAAS Growth Status'].isin(['NotMet', 'Met']),\n",
    "                            1, 0)\n",
    "\n",
    "publicSchools17['LPS'] = np.where(publicSchools17['SPG Grade'].isin(['F', 'D'])&\n",
    "                            publicSchools17['EVAAS Growth Status'].isin(['NotMet', 'Met']),\n",
    "                            1, 0)\n"
   ]
  },
  {
   "cell_type": "code",
   "execution_count": 5,
   "metadata": {
    "collapsed": true
   },
   "outputs": [],
   "source": [
    "## Get the unit_codes of the low performing schools for each year and create new columns in the 2017 dataset\n",
    "## to reflect the years of low performance\n",
    "unit_codes_14 = publicSchools14['unit_code'][publicSchools14.LPS == 1]\n",
    "unit_codes_15 = publicSchools15['unit_code'][publicSchools15.LPS == 1]\n",
    "unit_codes_16 = publicSchools16['unit_code'][publicSchools16.LPS == 1]\n",
    "unit_codes_17 = publicSchools17['unit_code'][publicSchools17.LPS == 1]"
   ]
  },
  {
   "cell_type": "code",
   "execution_count": 6,
   "metadata": {
    "collapsed": false
   },
   "outputs": [
    {
     "name": "stdout",
     "output_type": "stream",
     "text": [
      "************** 2014 **************\n",
      "Num Public Schools Low Performing 2013-14:  615\n",
      "Num Schools Still Running in 2017:  600\n",
      "Difference:  15\n",
      "************** 2015 **************\n",
      "Num Public Schools Low Performing 2014-15:  580\n",
      "Num Schools Still Running in 2017:  572\n",
      "Difference:  8\n",
      "************** 2016 **************\n",
      "Num Public Schools Low Performing 2015-16:  488\n",
      "Num Schools Still Running in 2017:  485\n",
      "Difference:  3\n",
      "************** 2014 **************\n",
      "Num Public Schools Low Performing 2016-17:  505\n",
      "Num Schools Still Running in 2017:  505\n",
      "Difference:  0\n"
     ]
    }
   ],
   "source": [
    "##Creat columns in publicSchools17 dataset\n",
    "publicSchools17['LPS_14'] = np.where(publicSchools17['unit_code'].isin(unit_codes_14), 1, 0)\n",
    "print('************** 2014 **************')\n",
    "print('Num Public Schools Low Performing 2013-14: ', len(unit_codes_14))\n",
    "print('Num Schools Still Running in 2017: ', len(publicSchools17.LPS_14[publicSchools17.LPS_14 ==1]))\n",
    "print('Difference: ', (len(unit_codes_14) - len(publicSchools17.LPS_14[publicSchools17.LPS_14 ==1])))\n",
    "\n",
    "publicSchools17['LPS_15'] = np.where(publicSchools17['unit_code'].isin(unit_codes_15), 1, 0)\n",
    "print('************** 2015 **************')\n",
    "print('Num Public Schools Low Performing 2014-15: ', len(unit_codes_15))\n",
    "print('Num Schools Still Running in 2017: ', len(publicSchools17.LPS_15[publicSchools17.LPS_15 ==1]))\n",
    "print('Difference: ', (len(unit_codes_15) - len(publicSchools17.LPS_15[publicSchools17.LPS_15 ==1])))\n",
    "\n",
    "publicSchools17['LPS_16'] = np.where(publicSchools17['unit_code'].isin(unit_codes_16), 1, 0)\n",
    "print('************** 2016 **************')\n",
    "print('Num Public Schools Low Performing 2015-16: ', len(unit_codes_16))\n",
    "print('Num Schools Still Running in 2017: ', len(publicSchools17.LPS_16[publicSchools17.LPS_16 ==1]))\n",
    "print('Difference: ', (len(unit_codes_16) - len(publicSchools17.LPS_16[publicSchools17.LPS_16 ==1])))\n",
    "\n",
    "publicSchools17['LPS_17'] = np.where(publicSchools17['unit_code'].isin(unit_codes_17), 1, 0)\n",
    "print('************** 2014 **************')\n",
    "print('Num Public Schools Low Performing 2016-17: ', len(unit_codes_17))\n",
    "print('Num Schools Still Running in 2017: ', len(publicSchools17.LPS_17[publicSchools17.LPS_17 ==1]))\n",
    "print('Difference: ', (len(unit_codes_17) - len(publicSchools17.LPS_17[publicSchools17.LPS_17 ==1])))"
   ]
  },
  {
   "cell_type": "code",
   "execution_count": 7,
   "metadata": {
    "collapsed": true
   },
   "outputs": [],
   "source": [
    "publicSchools17 = publicSchools17.drop(columns = 'LPS', axis=1)"
   ]
  },
  {
   "cell_type": "code",
   "execution_count": 8,
   "metadata": {
    "collapsed": false
   },
   "outputs": [
    {
     "name": "stdout",
     "output_type": "stream",
     "text": [
      "Index(['vphone_ad', 'year', 'unit_code', 'street_ad', 'scity_ad', 'state_ad',\n",
      "       'szip_ad', 'type_cd', 'closed_ind', 'new_ind',\n",
      "       ...\n",
      "       'EVAAS Growth Status_14', 'EVAAS Growth Score_14', 'SPG Grade_15',\n",
      "       'SPG Score_15', 'EVAAS Growth Status_15', 'EVAAS Growth Score_15',\n",
      "       'SPG Grade_16', 'SPG Score_16', 'EVAAS Growth Status_16',\n",
      "       'EVAAS Growth Score_16'],\n",
      "      dtype='object', length=401)\n"
     ]
    }
   ],
   "source": [
    "### Create columns in 2017 dataset for EVAAS growth score and SPG Grade\n",
    "mergCols = ['SPG Grade', 'SPG Score', 'EVAAS Growth Status','EVAAS Growth Score', 'unit_code']\n",
    "merge14 = publicSchools14[mergCols]\n",
    "merge15 = publicSchools15[mergCols]\n",
    "merge16 = publicSchools16[mergCols]\n",
    "publicSchools17 = publicSchools17.merge(merge14,how='left',on='unit_code', suffixes=('', '_14'))\n",
    "publicSchools17 = publicSchools17.merge(merge15,how='left',on='unit_code', suffixes=('', '_15'))\n",
    "publicSchools17 = publicSchools17.merge(merge16,how='left',on='unit_code', suffixes=('', '_16'))\n",
    "print(publicSchools17.columns)"
   ]
  },
  {
   "cell_type": "markdown",
   "metadata": {},
   "source": [
    "## Number of times the school has been low performing"
   ]
  },
  {
   "cell_type": "code",
   "execution_count": 9,
   "metadata": {
    "collapsed": false
   },
   "outputs": [
    {
     "name": "stdout",
     "output_type": "stream",
     "text": [
      "[0 1 2 3 4]\n"
     ]
    }
   ],
   "source": [
    "## Times low performing \n",
    "RLPS_series = []\n",
    "for index, row in publicSchools17.iterrows():\n",
    "    if row['LPS_14'] + row['LPS_15'] + row['LPS_16'] + row['LPS_17']  == 1:\n",
    "        RLPS_series.append(1)\n",
    "    elif row['LPS_14'] + row['LPS_15'] + row['LPS_16'] + row['LPS_17']  == 2:\n",
    "        RLPS_series.append(2)\n",
    "    elif row['LPS_14'] + row['LPS_15'] + row['LPS_16'] + row['LPS_17']  == 3:\n",
    "        RLPS_series.append(3)\n",
    "    elif row['LPS_14'] + row['LPS_15'] + row['LPS_16'] + row['LPS_17']  == 4:\n",
    "        RLPS_series.append(4)\n",
    "    else: \n",
    "        RLPS_series.append(0)\n",
    "print(np.unique(RLPS_series))\n",
    "publicSchools17['RLPS'] = RLPS_series"
   ]
  },
  {
   "cell_type": "code",
   "execution_count": 10,
   "metadata": {
    "collapsed": false
   },
   "outputs": [
    {
     "name": "stdout",
     "output_type": "stream",
     "text": [
      "Number of Schools Low Performing One Year:  263\n",
      "Number of Schools Low Performing Two Years:  227\n",
      "Number of Schools Low Performing Three Years:  203\n",
      "Number of Schools Low Performing Four Years:  209\n",
      "Number of Schools Low Performing Never:  1718\n"
     ]
    }
   ],
   "source": [
    "## Check Work: \n",
    "school_LPS_1 = publicSchools17.unit_code[publicSchools17['RLPS'] == 1]\n",
    "school_LPS_2 = publicSchools17.unit_code[publicSchools17['RLPS'] == 2]\n",
    "school_LPS_3 = publicSchools17.unit_code[publicSchools17['RLPS'] == 3]\n",
    "school_LPS_4 = publicSchools17.unit_code[publicSchools17['RLPS'] == 4]\n",
    "school_LPS_0 = publicSchools17.unit_code[publicSchools17['RLPS'] == 0]\n",
    "\n",
    "\n",
    "print('Number of Schools Low Performing One Year: ', (school_LPS_1.count()))\n",
    "print('Number of Schools Low Performing Two Years: ', (school_LPS_2.count()))\n",
    "print('Number of Schools Low Performing Three Years: ', (school_LPS_3.count()))\n",
    "print('Number of Schools Low Performing Four Years: ', (school_LPS_4.count()))\n",
    "print('Number of Schools Low Performing Never: ', (school_LPS_0.count()))"
   ]
  },
  {
   "cell_type": "code",
   "execution_count": 11,
   "metadata": {
    "collapsed": true
   },
   "outputs": [],
   "source": [
    "outputDir = cwd\n",
    "#Save the interim dataset to a .csv file\n",
    "publicSchools17.to_csv(outputDir + 'PublicSchools17_EDA.csv', sep=',', index=False)"
   ]
  }
 ],
 "metadata": {
  "kernelspec": {
   "display_name": "Python 3",
   "language": "python",
   "name": "python3"
  },
  "language_info": {
   "codemirror_mode": {
    "name": "ipython",
    "version": 3
   },
   "file_extension": ".py",
   "mimetype": "text/x-python",
   "name": "python",
   "nbconvert_exporter": "python",
   "pygments_lexer": "ipython3",
   "version": "3.6.5"
  }
 },
 "nbformat": 4,
 "nbformat_minor": 2
}
